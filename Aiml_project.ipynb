{
  "nbformat": 4,
  "nbformat_minor": 0,
  "metadata": {
    "colab": {
      "provenance": [],
      "include_colab_link": true
    },
    "kernelspec": {
      "name": "python3",
      "display_name": "Python 3"
    },
    "language_info": {
      "name": "python"
    }
  },
  "cells": [
    {
      "cell_type": "markdown",
      "metadata": {
        "id": "view-in-github",
        "colab_type": "text"
      },
      "source": [
        "<a href=\"https://colab.research.google.com/github/shrujan123/AIML-B4/blob/main/Aiml_project.ipynb\" target=\"_parent\"><img src=\"https://colab.research.google.com/assets/colab-badge.svg\" alt=\"Open In Colab\"/></a>"
      ]
    },
    {
      "cell_type": "code",
      "execution_count": null,
      "metadata": {
        "colab": {
          "base_uri": "https://localhost:8080/"
        },
        "id": "d5DIojlsbybV",
        "outputId": "2ab214da-78ad-4177-c4ab-ff362c160015"
      },
      "outputs": [
        {
          "output_type": "stream",
          "name": "stdout",
          "text": [
            "                   STATE_UT_NAME        DISTRICT    JAN   FEB    MAR    APR  \\\n",
            "0    ANDAMAN And NICOBAR ISLANDS         NICOBAR  107.3  57.9   65.2  117.0   \n",
            "1    ANDAMAN And NICOBAR ISLANDS   SOUTH ANDAMAN   43.7  26.0   18.6   90.5   \n",
            "2    ANDAMAN And NICOBAR ISLANDS   N & M ANDAMAN   32.7  15.9    8.6   53.4   \n",
            "3              ARUNACHAL PRADESH           LOHIT   42.2  80.8  176.4  358.5   \n",
            "4              ARUNACHAL PRADESH      EAST SIANG   33.3  79.5  105.9  216.5   \n",
            "..                           ...             ...    ...   ...    ...    ...   \n",
            "636                       KERALA          IDUKKI   13.4  22.1   43.6  150.4   \n",
            "637                       KERALA        KASARGOD    2.3   1.0    8.4   46.9   \n",
            "638                       KERALA  PATHANAMTHITTA   19.8  45.2   73.9  184.9   \n",
            "639                       KERALA         WAYANAD    4.8   8.3   17.5   83.3   \n",
            "640                  LAKSHADWEEP     LAKSHADWEEP   20.8  14.7   11.8   48.9   \n",
            "\n",
            "       MAY    JUN     JUL    AUG    SEP    OCT    NOV    DEC  ANNUAL  Jan-Feb  \\\n",
            "0    358.5  295.5   285.0  271.9  354.8  326.0  315.2  250.9  2805.2    165.2   \n",
            "1    374.4  457.2   421.3  423.1  455.6  301.2  275.8  128.3  3015.7     69.7   \n",
            "2    343.6  503.3   465.4  460.9  454.8  276.1  198.6  100.0  2913.3     48.6   \n",
            "3    306.4  447.0   660.1  427.8  313.6  167.1   34.1   29.8  3043.8    123.0   \n",
            "4    323.0  738.3   990.9  711.2  568.0  206.9   29.5   31.7  4034.7    112.8   \n",
            "..     ...    ...     ...    ...    ...    ...    ...    ...     ...      ...   \n",
            "636  232.6  651.6   788.9  527.3  308.4  343.2  172.9   48.1  3302.5     35.5   \n",
            "637  217.6  999.6  1108.5  636.3  263.1  234.9   84.6   18.4  3621.6      3.3   \n",
            "638  294.7  556.9   539.9  352.7  266.2  359.4  213.5   51.3  2958.4     65.0   \n",
            "639  174.6  698.1  1110.4  592.9  230.7  213.1   93.6   25.8  3253.1     13.1   \n",
            "640  171.7  330.2   287.7  217.5  163.1  157.1  117.7   58.8  1600.0     35.5   \n",
            "\n",
            "     Mar-May  Jun-Sep  Oct-Dec  \n",
            "0      540.7   1207.2    892.1  \n",
            "1      483.5   1757.2    705.3  \n",
            "2      405.6   1884.4    574.7  \n",
            "3      841.3   1848.5    231.0  \n",
            "4      645.4   3008.4    268.1  \n",
            "..       ...      ...      ...  \n",
            "636    426.6   2276.2    564.2  \n",
            "637    272.9   3007.5    337.9  \n",
            "638    553.5   1715.7    624.2  \n",
            "639    275.4   2632.1    332.5  \n",
            "640    232.4    998.5    333.6  \n",
            "\n",
            "[641 rows x 19 columns]\n"
          ]
        }
      ],
      "source": [
        "import pandas as pd\n",
        "d=pd.read_csv('/content/district.csv')\n",
        "print(d)"
      ]
    },
    {
      "cell_type": "code",
      "source": [
        "y=d['ANNUAL']\n",
        "print(y)"
      ],
      "metadata": {
        "colab": {
          "base_uri": "https://localhost:8080/"
        },
        "id": "hUPQnJ5kdUbg",
        "outputId": "892e2d61-c145-4815-8b7a-80d879efe949"
      },
      "execution_count": null,
      "outputs": [
        {
          "output_type": "stream",
          "name": "stdout",
          "text": [
            "0      2805.2\n",
            "1      3015.7\n",
            "2      2913.3\n",
            "3      3043.8\n",
            "4      4034.7\n",
            "        ...  \n",
            "636    3302.5\n",
            "637    3621.6\n",
            "638    2958.4\n",
            "639    3253.1\n",
            "640    1600.0\n",
            "Name: ANNUAL, Length: 641, dtype: float64\n"
          ]
        }
      ]
    },
    {
      "cell_type": "code",
      "source": [
        "x=d.drop(columns=['ANNUAL'])\n",
        "print(x)\n",
        "x=x.drop(columns=['STATE_UT_NAME'])\n",
        "\n"
      ],
      "metadata": {
        "colab": {
          "base_uri": "https://localhost:8080/"
        },
        "id": "QXugAX7sdWFk",
        "outputId": "623adcec-a0f0-4558-98bc-5e3beaa8d0e7"
      },
      "execution_count": null,
      "outputs": [
        {
          "output_type": "stream",
          "name": "stdout",
          "text": [
            "                   STATE_UT_NAME        DISTRICT    JAN   FEB    MAR    APR  \\\n",
            "0    ANDAMAN And NICOBAR ISLANDS         NICOBAR  107.3  57.9   65.2  117.0   \n",
            "1    ANDAMAN And NICOBAR ISLANDS   SOUTH ANDAMAN   43.7  26.0   18.6   90.5   \n",
            "2    ANDAMAN And NICOBAR ISLANDS   N & M ANDAMAN   32.7  15.9    8.6   53.4   \n",
            "3              ARUNACHAL PRADESH           LOHIT   42.2  80.8  176.4  358.5   \n",
            "4              ARUNACHAL PRADESH      EAST SIANG   33.3  79.5  105.9  216.5   \n",
            "..                           ...             ...    ...   ...    ...    ...   \n",
            "636                       KERALA          IDUKKI   13.4  22.1   43.6  150.4   \n",
            "637                       KERALA        KASARGOD    2.3   1.0    8.4   46.9   \n",
            "638                       KERALA  PATHANAMTHITTA   19.8  45.2   73.9  184.9   \n",
            "639                       KERALA         WAYANAD    4.8   8.3   17.5   83.3   \n",
            "640                  LAKSHADWEEP     LAKSHADWEEP   20.8  14.7   11.8   48.9   \n",
            "\n",
            "       MAY    JUN     JUL    AUG    SEP    OCT    NOV    DEC  Jan-Feb  \\\n",
            "0    358.5  295.5   285.0  271.9  354.8  326.0  315.2  250.9    165.2   \n",
            "1    374.4  457.2   421.3  423.1  455.6  301.2  275.8  128.3     69.7   \n",
            "2    343.6  503.3   465.4  460.9  454.8  276.1  198.6  100.0     48.6   \n",
            "3    306.4  447.0   660.1  427.8  313.6  167.1   34.1   29.8    123.0   \n",
            "4    323.0  738.3   990.9  711.2  568.0  206.9   29.5   31.7    112.8   \n",
            "..     ...    ...     ...    ...    ...    ...    ...    ...      ...   \n",
            "636  232.6  651.6   788.9  527.3  308.4  343.2  172.9   48.1     35.5   \n",
            "637  217.6  999.6  1108.5  636.3  263.1  234.9   84.6   18.4      3.3   \n",
            "638  294.7  556.9   539.9  352.7  266.2  359.4  213.5   51.3     65.0   \n",
            "639  174.6  698.1  1110.4  592.9  230.7  213.1   93.6   25.8     13.1   \n",
            "640  171.7  330.2   287.7  217.5  163.1  157.1  117.7   58.8     35.5   \n",
            "\n",
            "     Mar-May  Jun-Sep  Oct-Dec  \n",
            "0      540.7   1207.2    892.1  \n",
            "1      483.5   1757.2    705.3  \n",
            "2      405.6   1884.4    574.7  \n",
            "3      841.3   1848.5    231.0  \n",
            "4      645.4   3008.4    268.1  \n",
            "..       ...      ...      ...  \n",
            "636    426.6   2276.2    564.2  \n",
            "637    272.9   3007.5    337.9  \n",
            "638    553.5   1715.7    624.2  \n",
            "639    275.4   2632.1    332.5  \n",
            "640    232.4    998.5    333.6  \n",
            "\n",
            "[641 rows x 18 columns]\n"
          ]
        }
      ]
    },
    {
      "cell_type": "code",
      "source": [
        "x=x.drop(columns=['DISTRICT'])\n",
        "print(x)\n"
      ],
      "metadata": {
        "colab": {
          "base_uri": "https://localhost:8080/"
        },
        "id": "bGzx6W7idcN3",
        "outputId": "9a6a175c-ea4c-48dc-ac4e-6895dc3cce1f"
      },
      "execution_count": null,
      "outputs": [
        {
          "output_type": "stream",
          "name": "stdout",
          "text": [
            "       JAN   FEB    MAR    APR    MAY    JUN     JUL    AUG    SEP    OCT  \\\n",
            "0    107.3  57.9   65.2  117.0  358.5  295.5   285.0  271.9  354.8  326.0   \n",
            "1     43.7  26.0   18.6   90.5  374.4  457.2   421.3  423.1  455.6  301.2   \n",
            "2     32.7  15.9    8.6   53.4  343.6  503.3   465.4  460.9  454.8  276.1   \n",
            "3     42.2  80.8  176.4  358.5  306.4  447.0   660.1  427.8  313.6  167.1   \n",
            "4     33.3  79.5  105.9  216.5  323.0  738.3   990.9  711.2  568.0  206.9   \n",
            "..     ...   ...    ...    ...    ...    ...     ...    ...    ...    ...   \n",
            "636   13.4  22.1   43.6  150.4  232.6  651.6   788.9  527.3  308.4  343.2   \n",
            "637    2.3   1.0    8.4   46.9  217.6  999.6  1108.5  636.3  263.1  234.9   \n",
            "638   19.8  45.2   73.9  184.9  294.7  556.9   539.9  352.7  266.2  359.4   \n",
            "639    4.8   8.3   17.5   83.3  174.6  698.1  1110.4  592.9  230.7  213.1   \n",
            "640   20.8  14.7   11.8   48.9  171.7  330.2   287.7  217.5  163.1  157.1   \n",
            "\n",
            "       NOV    DEC  Jan-Feb  Mar-May  Jun-Sep  Oct-Dec  \n",
            "0    315.2  250.9    165.2    540.7   1207.2    892.1  \n",
            "1    275.8  128.3     69.7    483.5   1757.2    705.3  \n",
            "2    198.6  100.0     48.6    405.6   1884.4    574.7  \n",
            "3     34.1   29.8    123.0    841.3   1848.5    231.0  \n",
            "4     29.5   31.7    112.8    645.4   3008.4    268.1  \n",
            "..     ...    ...      ...      ...      ...      ...  \n",
            "636  172.9   48.1     35.5    426.6   2276.2    564.2  \n",
            "637   84.6   18.4      3.3    272.9   3007.5    337.9  \n",
            "638  213.5   51.3     65.0    553.5   1715.7    624.2  \n",
            "639   93.6   25.8     13.1    275.4   2632.1    332.5  \n",
            "640  117.7   58.8     35.5    232.4    998.5    333.6  \n",
            "\n",
            "[641 rows x 16 columns]\n"
          ]
        }
      ]
    },
    {
      "cell_type": "code",
      "source": [
        "print(x)\n",
        "print(y)"
      ],
      "metadata": {
        "colab": {
          "base_uri": "https://localhost:8080/"
        },
        "id": "h5zcIrBEdgqx",
        "outputId": "b1eb1b73-f012-415c-a7ca-d92f6339a524"
      },
      "execution_count": null,
      "outputs": [
        {
          "output_type": "stream",
          "name": "stdout",
          "text": [
            "       JAN   FEB    MAR    APR    MAY    JUN     JUL    AUG    SEP    OCT  \\\n",
            "0    107.3  57.9   65.2  117.0  358.5  295.5   285.0  271.9  354.8  326.0   \n",
            "1     43.7  26.0   18.6   90.5  374.4  457.2   421.3  423.1  455.6  301.2   \n",
            "2     32.7  15.9    8.6   53.4  343.6  503.3   465.4  460.9  454.8  276.1   \n",
            "3     42.2  80.8  176.4  358.5  306.4  447.0   660.1  427.8  313.6  167.1   \n",
            "4     33.3  79.5  105.9  216.5  323.0  738.3   990.9  711.2  568.0  206.9   \n",
            "..     ...   ...    ...    ...    ...    ...     ...    ...    ...    ...   \n",
            "636   13.4  22.1   43.6  150.4  232.6  651.6   788.9  527.3  308.4  343.2   \n",
            "637    2.3   1.0    8.4   46.9  217.6  999.6  1108.5  636.3  263.1  234.9   \n",
            "638   19.8  45.2   73.9  184.9  294.7  556.9   539.9  352.7  266.2  359.4   \n",
            "639    4.8   8.3   17.5   83.3  174.6  698.1  1110.4  592.9  230.7  213.1   \n",
            "640   20.8  14.7   11.8   48.9  171.7  330.2   287.7  217.5  163.1  157.1   \n",
            "\n",
            "       NOV    DEC  Jan-Feb  Mar-May  Jun-Sep  Oct-Dec  \n",
            "0    315.2  250.9    165.2    540.7   1207.2    892.1  \n",
            "1    275.8  128.3     69.7    483.5   1757.2    705.3  \n",
            "2    198.6  100.0     48.6    405.6   1884.4    574.7  \n",
            "3     34.1   29.8    123.0    841.3   1848.5    231.0  \n",
            "4     29.5   31.7    112.8    645.4   3008.4    268.1  \n",
            "..     ...    ...      ...      ...      ...      ...  \n",
            "636  172.9   48.1     35.5    426.6   2276.2    564.2  \n",
            "637   84.6   18.4      3.3    272.9   3007.5    337.9  \n",
            "638  213.5   51.3     65.0    553.5   1715.7    624.2  \n",
            "639   93.6   25.8     13.1    275.4   2632.1    332.5  \n",
            "640  117.7   58.8     35.5    232.4    998.5    333.6  \n",
            "\n",
            "[641 rows x 16 columns]\n",
            "0      2805.2\n",
            "1      3015.7\n",
            "2      2913.3\n",
            "3      3043.8\n",
            "4      4034.7\n",
            "        ...  \n",
            "636    3302.5\n",
            "637    3621.6\n",
            "638    2958.4\n",
            "639    3253.1\n",
            "640    1600.0\n",
            "Name: ANNUAL, Length: 641, dtype: float64\n"
          ]
        }
      ]
    },
    {
      "cell_type": "code",
      "source": [
        "from sklearn.model_selection import train_test_split"
      ],
      "metadata": {
        "id": "Yruz-z5pdhTV"
      },
      "execution_count": null,
      "outputs": []
    },
    {
      "cell_type": "code",
      "source": [
        "print(x.shape)\n",
        "x_train,x_test,y_train,y_test=train_test_split(x,y,random_state=True,test_size=0.20)\n",
        "\n",
        "\n"
      ],
      "metadata": {
        "colab": {
          "base_uri": "https://localhost:8080/"
        },
        "id": "oZKaDVoUdoLJ",
        "outputId": "2de7f29c-6de1-42ba-8ed5-3fc8f34bf438"
      },
      "execution_count": null,
      "outputs": [
        {
          "output_type": "stream",
          "name": "stdout",
          "text": [
            "(641, 16)\n"
          ]
        }
      ]
    },
    {
      "cell_type": "code",
      "source": [
        "from sklearn.linear_model import LinearRegression"
      ],
      "metadata": {
        "id": "MIHh4DEDdulU"
      },
      "execution_count": null,
      "outputs": []
    },
    {
      "cell_type": "code",
      "source": [
        "lr=LinearRegression()"
      ],
      "metadata": {
        "id": "aJXn-eH1dyVX"
      },
      "execution_count": null,
      "outputs": []
    },
    {
      "cell_type": "code",
      "source": [
        "mm=lr.fit(x_train,y_train)"
      ],
      "metadata": {
        "id": "kSeta6aFdyTA"
      },
      "execution_count": null,
      "outputs": []
    },
    {
      "cell_type": "code",
      "source": [
        "yp=mm.predict(x_test)"
      ],
      "metadata": {
        "id": "Q5Zgl2OEfU0r"
      },
      "execution_count": null,
      "outputs": []
    },
    {
      "cell_type": "code",
      "source": [
        "print(yp)\n"
      ],
      "metadata": {
        "colab": {
          "base_uri": "https://localhost:8080/"
        },
        "id": "PjTvtkufdyQm",
        "outputId": "c72e37b1-b684-4c51-8dc0-411a7589de27"
      },
      "execution_count": null,
      "outputs": [
        {
          "output_type": "stream",
          "name": "stdout",
          "text": [
            "[1233.9 1223.4 1327.9 1057.6 2641.8  646.5  961.1 1070.6  485.7 1122.9\n",
            " 1029.6 3470.6 1209.3  308.1 2958.4  498.  2814.4 1796.5 1068.5  646.1\n",
            " 2440.7 1973.9 1081.4 2859.3 1293.1 3468.3  898.2  992.9 1235.7 1535.5\n",
            " 3094.5  966.7  793.4  449.2  747.1  544.  1803.2  818.   508.1 3218.7\n",
            "  746.9 2480.6  839.2 1336.5  460.6 1533.5 6379.9 1003.3  837.  1087.7\n",
            " 2127.5  622.8 1123.6  685.6 1366.2 1680.7 1481.6  788.4  777.  2512.6\n",
            "  992.2  747.1 1336.5  388.8  863.6 2805.2 1416.2  708.4 1293.3  902.6\n",
            "  974.9  747.1 1474.3  613.9  449.4  700.4 2731.1 1921.1  807.8 2123.9\n",
            " 1528.2  655.  1091.6 1618.3 3302.5  572.  1146.8 1385.5 1148.6 1109.9\n",
            " 2374.1  886.1 2116.9  818.7  897.4 2098.  1005.6  419.5  714.4 1363.3\n",
            " 1448.3  936.2 1155.4 1062.7  871.5  720.  1008.4  455.6 1192.2 1191.5\n",
            " 2814.4  986.3  963.9  252.9  850.1 1229.  1104.7  301.6 1474.1 3399.4\n",
            " 1010.8 1504.4 1530.9 1392.7 1584.9 1462.1  692.7 2556.6 1206.7]\n"
          ]
        }
      ]
    },
    {
      "cell_type": "code",
      "source": [
        "from sklearn.metrics import mean_squared_error\n",
        "print(mean_squared_error(yp,y_test))"
      ],
      "metadata": {
        "colab": {
          "base_uri": "https://localhost:8080/"
        },
        "id": "W99SniLndyOe",
        "outputId": "981fbd05-a824-4bcc-f198-5e7c08a771ed"
      },
      "execution_count": null,
      "outputs": [
        {
          "output_type": "stream",
          "name": "stdout",
          "text": [
            "2.862281872213113e-25\n"
          ]
        }
      ]
    },
    {
      "cell_type": "code",
      "source": [
        "from sklearn.metrics import mean_absolute_error\n",
        "print(mean_absolute_error(yp,y_test))"
      ],
      "metadata": {
        "colab": {
          "base_uri": "https://localhost:8080/"
        },
        "id": "cb8RnEVGdyJ2",
        "outputId": "13757ffb-5881-485d-9129-3b1216e6b514"
      },
      "execution_count": null,
      "outputs": [
        {
          "output_type": "stream",
          "name": "stdout",
          "text": [
            "3.615505827542091e-13\n"
          ]
        }
      ]
    },
    {
      "cell_type": "code",
      "source": [
        "mse = mean_squared_error(y_test, yp)\n",
        "print(\"Mean Squared Error:\", mse)"
      ],
      "metadata": {
        "colab": {
          "base_uri": "https://localhost:8080/"
        },
        "id": "58TQNs1hdyGT",
        "outputId": "ee889c18-f822-4775-8e57-f5419a662e17"
      },
      "execution_count": null,
      "outputs": [
        {
          "output_type": "stream",
          "name": "stdout",
          "text": [
            "Mean Squared Error: 2.862281872213113e-25\n"
          ]
        }
      ]
    },
    {
      "cell_type": "code",
      "source": [
        "mae = mean_absolute_error(y_test, yp)\n",
        "print(\"Mean Absolute Error:\", mae)"
      ],
      "metadata": {
        "colab": {
          "base_uri": "https://localhost:8080/"
        },
        "id": "-qgY2Kc_dyD8",
        "outputId": "ffe68766-38ab-4e79-b0de-caaa86d23589"
      },
      "execution_count": null,
      "outputs": [
        {
          "output_type": "stream",
          "name": "stdout",
          "text": [
            "Mean Absolute Error: 3.615505827542091e-13\n"
          ]
        }
      ]
    },
    {
      "cell_type": "code",
      "source": [
        "from sklearn.tree import DecisionTreeRegressor"
      ],
      "metadata": {
        "id": "roaFM9JSdyBq"
      },
      "execution_count": null,
      "outputs": []
    },
    {
      "cell_type": "code",
      "source": [
        "dt = DecisionTreeRegressor()"
      ],
      "metadata": {
        "id": "RbFdD0rudx_N"
      },
      "execution_count": null,
      "outputs": []
    },
    {
      "cell_type": "code",
      "source": [
        "dt.fit(x_train,y_train)"
      ],
      "metadata": {
        "colab": {
          "base_uri": "https://localhost:8080/",
          "height": 74
        },
        "id": "7k3CBpV6dx8b",
        "outputId": "3bf17ebe-a8ff-4a18-8726-f664d8840c4b"
      },
      "execution_count": null,
      "outputs": [
        {
          "output_type": "execute_result",
          "data": {
            "text/plain": [
              "DecisionTreeRegressor()"
            ],
            "text/html": [
              "<style>#sk-container-id-1 {color: black;background-color: white;}#sk-container-id-1 pre{padding: 0;}#sk-container-id-1 div.sk-toggleable {background-color: white;}#sk-container-id-1 label.sk-toggleable__label {cursor: pointer;display: block;width: 100%;margin-bottom: 0;padding: 0.3em;box-sizing: border-box;text-align: center;}#sk-container-id-1 label.sk-toggleable__label-arrow:before {content: \"▸\";float: left;margin-right: 0.25em;color: #696969;}#sk-container-id-1 label.sk-toggleable__label-arrow:hover:before {color: black;}#sk-container-id-1 div.sk-estimator:hover label.sk-toggleable__label-arrow:before {color: black;}#sk-container-id-1 div.sk-toggleable__content {max-height: 0;max-width: 0;overflow: hidden;text-align: left;background-color: #f0f8ff;}#sk-container-id-1 div.sk-toggleable__content pre {margin: 0.2em;color: black;border-radius: 0.25em;background-color: #f0f8ff;}#sk-container-id-1 input.sk-toggleable__control:checked~div.sk-toggleable__content {max-height: 200px;max-width: 100%;overflow: auto;}#sk-container-id-1 input.sk-toggleable__control:checked~label.sk-toggleable__label-arrow:before {content: \"▾\";}#sk-container-id-1 div.sk-estimator input.sk-toggleable__control:checked~label.sk-toggleable__label {background-color: #d4ebff;}#sk-container-id-1 div.sk-label input.sk-toggleable__control:checked~label.sk-toggleable__label {background-color: #d4ebff;}#sk-container-id-1 input.sk-hidden--visually {border: 0;clip: rect(1px 1px 1px 1px);clip: rect(1px, 1px, 1px, 1px);height: 1px;margin: -1px;overflow: hidden;padding: 0;position: absolute;width: 1px;}#sk-container-id-1 div.sk-estimator {font-family: monospace;background-color: #f0f8ff;border: 1px dotted black;border-radius: 0.25em;box-sizing: border-box;margin-bottom: 0.5em;}#sk-container-id-1 div.sk-estimator:hover {background-color: #d4ebff;}#sk-container-id-1 div.sk-parallel-item::after {content: \"\";width: 100%;border-bottom: 1px solid gray;flex-grow: 1;}#sk-container-id-1 div.sk-label:hover label.sk-toggleable__label {background-color: #d4ebff;}#sk-container-id-1 div.sk-serial::before {content: \"\";position: absolute;border-left: 1px solid gray;box-sizing: border-box;top: 0;bottom: 0;left: 50%;z-index: 0;}#sk-container-id-1 div.sk-serial {display: flex;flex-direction: column;align-items: center;background-color: white;padding-right: 0.2em;padding-left: 0.2em;position: relative;}#sk-container-id-1 div.sk-item {position: relative;z-index: 1;}#sk-container-id-1 div.sk-parallel {display: flex;align-items: stretch;justify-content: center;background-color: white;position: relative;}#sk-container-id-1 div.sk-item::before, #sk-container-id-1 div.sk-parallel-item::before {content: \"\";position: absolute;border-left: 1px solid gray;box-sizing: border-box;top: 0;bottom: 0;left: 50%;z-index: -1;}#sk-container-id-1 div.sk-parallel-item {display: flex;flex-direction: column;z-index: 1;position: relative;background-color: white;}#sk-container-id-1 div.sk-parallel-item:first-child::after {align-self: flex-end;width: 50%;}#sk-container-id-1 div.sk-parallel-item:last-child::after {align-self: flex-start;width: 50%;}#sk-container-id-1 div.sk-parallel-item:only-child::after {width: 0;}#sk-container-id-1 div.sk-dashed-wrapped {border: 1px dashed gray;margin: 0 0.4em 0.5em 0.4em;box-sizing: border-box;padding-bottom: 0.4em;background-color: white;}#sk-container-id-1 div.sk-label label {font-family: monospace;font-weight: bold;display: inline-block;line-height: 1.2em;}#sk-container-id-1 div.sk-label-container {text-align: center;}#sk-container-id-1 div.sk-container {/* jupyter's `normalize.less` sets `[hidden] { display: none; }` but bootstrap.min.css set `[hidden] { display: none !important; }` so we also need the `!important` here to be able to override the default hidden behavior on the sphinx rendered scikit-learn.org. See: https://github.com/scikit-learn/scikit-learn/issues/21755 */display: inline-block !important;position: relative;}#sk-container-id-1 div.sk-text-repr-fallback {display: none;}</style><div id=\"sk-container-id-1\" class=\"sk-top-container\"><div class=\"sk-text-repr-fallback\"><pre>DecisionTreeRegressor()</pre><b>In a Jupyter environment, please rerun this cell to show the HTML representation or trust the notebook. <br />On GitHub, the HTML representation is unable to render, please try loading this page with nbviewer.org.</b></div><div class=\"sk-container\" hidden><div class=\"sk-item\"><div class=\"sk-estimator sk-toggleable\"><input class=\"sk-toggleable__control sk-hidden--visually\" id=\"sk-estimator-id-1\" type=\"checkbox\" checked><label for=\"sk-estimator-id-1\" class=\"sk-toggleable__label sk-toggleable__label-arrow\">DecisionTreeRegressor</label><div class=\"sk-toggleable__content\"><pre>DecisionTreeRegressor()</pre></div></div></div></div></div>"
            ]
          },
          "metadata": {},
          "execution_count": 23
        }
      ]
    },
    {
      "cell_type": "code",
      "source": [
        "yp = dt.predict(x_test)"
      ],
      "metadata": {
        "id": "Yja0mJSKdx5t"
      },
      "execution_count": null,
      "outputs": []
    },
    {
      "cell_type": "code",
      "source": [
        "mae = mean_absolute_error(y_test, yp)\n",
        "print(\"Mean Absolute Error:\", mae)"
      ],
      "metadata": {
        "colab": {
          "base_uri": "https://localhost:8080/"
        },
        "id": "SPKl53KAdxvq",
        "outputId": "7d3f5c93-5616-4577-fcda-ce680acd2cba"
      },
      "execution_count": null,
      "outputs": [
        {
          "output_type": "stream",
          "name": "stdout",
          "text": [
            "Mean Absolute Error: 105.04573643410853\n"
          ]
        }
      ]
    },
    {
      "cell_type": "code",
      "source": [
        "mse = mean_squared_error(y_test, yp)\n",
        "print(\"Mean Squared Error:\", mse)"
      ],
      "metadata": {
        "colab": {
          "base_uri": "https://localhost:8080/"
        },
        "id": "eseMBvthdxpi",
        "outputId": "a660f67e-e454-4791-dec4-3fd5587020b5"
      },
      "execution_count": null,
      "outputs": [
        {
          "output_type": "stream",
          "name": "stdout",
          "text": [
            "Mean Squared Error: 77761.96085271318\n"
          ]
        }
      ]
    },
    {
      "cell_type": "code",
      "source": [
        "from sklearn.metrics import mean_absolute_error\n",
        "print(mean_absolute_error(yp,y_test))"
      ],
      "metadata": {
        "colab": {
          "base_uri": "https://localhost:8080/"
        },
        "id": "ZHL8GTt9fvq0",
        "outputId": "98f1ab0a-dfc3-40d3-900a-614dc1b4b546"
      },
      "execution_count": null,
      "outputs": [
        {
          "output_type": "stream",
          "name": "stdout",
          "text": [
            "105.04573643410853\n"
          ]
        }
      ]
    },
    {
      "cell_type": "code",
      "source": [
        "from sklearn.metrics import mean_squared_error\n",
        "print(mean_squared_error(yp,y_test))"
      ],
      "metadata": {
        "colab": {
          "base_uri": "https://localhost:8080/"
        },
        "id": "ktFqvDG2fvna",
        "outputId": "a9ec6df7-b250-4727-c4b2-6d010ccb8d9f"
      },
      "execution_count": null,
      "outputs": [
        {
          "output_type": "stream",
          "name": "stdout",
          "text": [
            "77761.96085271318\n"
          ]
        }
      ]
    },
    {
      "cell_type": "code",
      "source": [
        "from sklearn.tree import DecisionTreeRegressor\n",
        "model=DecisionTreeRegressor()\n",
        "model.fit(x_train,y_train)\n",
        "yp=model.predict(x_test)\n",
        "print(yp)\n",
        "from sklearn.metrics import mean_squared_error\n",
        "print(mean_squared_error(y_test,yp))\n",
        "from sklearn import tree\n",
        "tree.plot_tree(model,filled=True)"
      ],
      "metadata": {
        "colab": {
          "base_uri": "https://localhost:8080/",
          "height": 1000
        },
        "id": "MBpsEFtffvjy",
        "outputId": "6aba160b-9e49-49ab-d311-88d6677574ea"
      },
      "execution_count": null,
      "outputs": [
        {
          "output_type": "stream",
          "name": "stdout",
          "text": [
            "[1146.8 1180.6 1304.7 1083.1 2575.3  779.3  979.4 1112.5  554.5 1121.3\n",
            "  959.3 3915.8 1160.1  268.6 2841.2  394.1 2814.4 2150.9 1095.9  624.1\n",
            " 2409.8 1997.1 1127.  2859.3 1293.1 3443.7  887.4  943.2 1305.6 1600.\n",
            " 3094.5 1003.2  902.1  415.6  747.1  554.5 1341.   820.1  554.5 3218.7\n",
            "  829.6 2557.6  820.6 1336.5  509.1 1533.5 6166.1  975.4  870.  1127.\n",
            " 2553.3  641.2 1090.7  721.7 1385.  1977.5 1544.4  731.1  763.4 2999.2\n",
            "  959.3  747.1 1336.5  394.1  890.7 2221.5 1197.4  779.3 1293.1  921.2\n",
            "  975.4  747.1 1472.   639.7  415.6  618.2 2557.6 1977.5  820.1 2150.9\n",
            " 2150.9  820.1 1139.6 2150.9 2930.5  554.5 1146.8 1397.  1148.6 1191.8\n",
            " 2374.1  830.4 1743.5  878.9  885.9 2168.6  933.1  399.5  721.7 1421.3\n",
            " 1448.3  887.4 1191.8 1074.8  805.9  820.1  975.4  415.6 1152.6 1196.\n",
            " 2814.4 1003.2  943.2  274.   816.3 1292.7 1116.2  268.6 1041.4 3399.4\n",
            "  975.4 1336.5 1977.5 1338.3 1660.7 1140.4  752.  2582.2 1173.3]\n",
            "25071.687209302327\n"
          ]
        },
        {
          "output_type": "execute_result",
          "data": {
            "text/plain": [
              "[Text(0.7189976446459864, 0.9772727272727273, 'x[5] <= 372.45\\nsquared_error = 686458.553\\nsamples = 512\\nvalue = 1344.987'),\n",
              " Text(0.4856421517752837, 0.9318181818181818, 'x[14] <= 954.1\\nsquared_error = 154738.636\\nsamples = 441\\nvalue = 1073.055'),\n",
              " Text(0.19027072989680685, 0.8863636363636364, 'x[9] <= 24.0\\nsquared_error = 55951.954\\nsamples = 283\\nvalue = 851.129'),\n",
              " Text(0.05682576769025367, 0.8409090909090909, 'x[14] <= 507.0\\nsquared_error = 36249.362\\nsamples = 66\\nvalue = 588.702'),\n",
              " Text(0.017022696929238985, 0.7954545454545454, 'x[8] <= 29.4\\nsquared_error = 12837.215\\nsamples = 27\\nvalue = 405.404'),\n",
              " Text(0.0035603026257231864, 0.75, 'x[14] <= 44.65\\nsquared_error = 2870.629\\nsamples = 3\\nvalue = 166.367'),\n",
              " Text(0.0017801513128615932, 0.7045454545454546, 'squared_error = 0.0\\nsamples = 1\\nvalue = 94.6'),\n",
              " Text(0.0053404539385847796, 0.7045454545454546, 'x[8] <= 15.7\\nsquared_error = 443.102\\nsamples = 2\\nvalue = 202.25'),\n",
              " Text(0.0035603026257231864, 0.6590909090909091, 'squared_error = 0.0\\nsamples = 1\\nvalue = 223.3'),\n",
              " Text(0.007120605251446373, 0.6590909090909091, 'squared_error = 0.0\\nsamples = 1\\nvalue = 181.2'),\n",
              " Text(0.030485091232754783, 0.75, 'x[7] <= 133.1\\nsquared_error = 6047.908\\nsamples = 24\\nvalue = 435.283'),\n",
              " Text(0.014241210502892745, 0.7045454545454546, 'x[15] <= 11.3\\nsquared_error = 3907.095\\nsamples = 13\\nvalue = 381.562'),\n",
              " Text(0.010680907877169559, 0.6590909090909091, 'x[7] <= 80.65\\nsquared_error = 7.29\\nsamples = 2\\nvalue = 271.3'),\n",
              " Text(0.008900756564307966, 0.6136363636363636, 'squared_error = 0.0\\nsamples = 1\\nvalue = 274.0'),\n",
              " Text(0.012461059190031152, 0.6136363636363636, 'squared_error = 0.0\\nsamples = 1\\nvalue = 268.6'),\n",
              " Text(0.017801513128615932, 0.6590909090909091, 'x[6] <= 71.15\\nsquared_error = 2003.772\\nsamples = 11\\nvalue = 401.609'),\n",
              " Text(0.01602136181575434, 0.6136363636363636, 'squared_error = 0.0\\nsamples = 1\\nvalue = 504.6'),\n",
              " Text(0.019581664441477527, 0.6136363636363636, 'x[7] <= 102.75\\nsquared_error = 1037.365\\nsamples = 10\\nvalue = 391.31'),\n",
              " Text(0.01335113484646195, 0.5681818181818182, 'x[4] <= 13.5\\nsquared_error = 642.602\\nsamples = 3\\nvalue = 349.233'),\n",
              " Text(0.011570983533600357, 0.5227272727272727, 'squared_error = 0.0\\nsamples = 1\\nvalue = 313.5'),\n",
              " Text(0.015131286159323543, 0.5227272727272727, 'x[11] <= 3.7\\nsquared_error = 6.25\\nsamples = 2\\nvalue = 367.1'),\n",
              " Text(0.01335113484646195, 0.4772727272727273, 'squared_error = 0.0\\nsamples = 1\\nvalue = 369.6'),\n",
              " Text(0.016911437472185136, 0.4772727272727273, 'squared_error = 0.0\\nsamples = 1\\nvalue = 364.6'),\n",
              " Text(0.0258121940364931, 0.5681818181818182, 'x[8] <= 63.9\\nsquared_error = 122.602\\nsamples = 7\\nvalue = 409.343'),\n",
              " Text(0.022251891410769914, 0.5227272727272727, 'x[1] <= 15.05\\nsquared_error = 24.332\\nsamples = 4\\nvalue = 400.725'),\n",
              " Text(0.020471740097908322, 0.4772727272727273, 'x[12] <= 16.4\\nsquared_error = 9.562\\nsamples = 3\\nvalue = 398.333'),\n",
              " Text(0.018691588785046728, 0.4318181818181818, 'squared_error = 0.0\\nsamples = 1\\nvalue = 394.1'),\n",
              " Text(0.022251891410769914, 0.4318181818181818, 'x[5] <= 33.15\\nsquared_error = 0.902\\nsamples = 2\\nvalue = 400.45'),\n",
              " Text(0.020471740097908322, 0.38636363636363635, 'squared_error = 0.0\\nsamples = 1\\nvalue = 399.5'),\n",
              " Text(0.02403204272363151, 0.38636363636363635, 'squared_error = -0.0\\nsamples = 1\\nvalue = 401.4'),\n",
              " Text(0.02403204272363151, 0.4772727272727273, 'squared_error = -0.0\\nsamples = 1\\nvalue = 407.9'),\n",
              " Text(0.029372496662216287, 0.5227272727272727, 'x[13] <= 19.8\\nsquared_error = 22.576\\nsamples = 3\\nvalue = 420.833'),\n",
              " Text(0.027592345349354695, 0.4772727272727273, 'squared_error = 0.0\\nsamples = 1\\nvalue = 427.1'),\n",
              " Text(0.03115264797507788, 0.4772727272727273, 'x[10] <= 3.1\\nsquared_error = 4.41\\nsamples = 2\\nvalue = 417.7'),\n",
              " Text(0.029372496662216287, 0.4318181818181818, 'squared_error = 0.0\\nsamples = 1\\nvalue = 419.8'),\n",
              " Text(0.032932799287939477, 0.4318181818181818, 'squared_error = -0.0\\nsamples = 1\\nvalue = 415.6'),\n",
              " Text(0.04672897196261682, 0.7045454545454546, 'x[14] <= 436.3\\nsquared_error = 1136.293\\nsamples = 11\\nvalue = 498.773'),\n",
              " Text(0.040943480195816645, 0.6590909090909091, 'x[5] <= 41.45\\nsquared_error = 231.702\\nsamples = 8\\nvalue = 480.0'),\n",
              " Text(0.03649310191366266, 0.6136363636363636, 'x[0] <= 14.4\\nsquared_error = 77.762\\nsamples = 3\\nvalue = 496.767'),\n",
              " Text(0.03471295060080107, 0.5681818181818182, 'x[12] <= 21.35\\nsquared_error = 2.56\\nsamples = 2\\nvalue = 490.6'),\n",
              " Text(0.032932799287939477, 0.5227272727272727, 'squared_error = 0.0\\nsamples = 1\\nvalue = 492.2'),\n",
              " Text(0.03649310191366266, 0.5227272727272727, 'squared_error = -0.0\\nsamples = 1\\nvalue = 489.0'),\n",
              " Text(0.03827325322652426, 0.5681818181818182, 'squared_error = 0.0\\nsamples = 1\\nvalue = 509.1'),\n",
              " Text(0.04539385847797063, 0.6136363636363636, 'x[13] <= 30.0\\nsquared_error = 54.19\\nsamples = 5\\nvalue = 469.94'),\n",
              " Text(0.04183355585224744, 0.5681818181818182, 'x[10] <= 3.85\\nsquared_error = 3.149\\nsamples = 3\\nvalue = 464.167'),\n",
              " Text(0.04005340453938585, 0.5227272727272727, 'x[15] <= 15.75\\nsquared_error = 0.64\\nsamples = 2\\nvalue = 463.0'),\n",
              " Text(0.03827325322652426, 0.4772727272727273, 'squared_error = 0.0\\nsamples = 1\\nvalue = 462.2'),\n",
              " Text(0.04183355585224744, 0.4772727272727273, 'squared_error = 0.0\\nsamples = 1\\nvalue = 463.8'),\n",
              " Text(0.04361370716510903, 0.5227272727272727, 'squared_error = 0.0\\nsamples = 1\\nvalue = 466.5'),\n",
              " Text(0.04895416110369381, 0.5681818181818182, 'x[14] <= 402.7\\nsquared_error = 5.76\\nsamples = 2\\nvalue = 478.6'),\n",
              " Text(0.04717400979083222, 0.5227272727272727, 'squared_error = 0.0\\nsamples = 1\\nvalue = 476.2'),\n",
              " Text(0.050734312416555405, 0.5227272727272727, 'squared_error = -0.0\\nsamples = 1\\nvalue = 481.0'),\n",
              " Text(0.052514463729417, 0.6590909090909091, 'x[13] <= 11.85\\nsquared_error = 102.696\\nsamples = 3\\nvalue = 548.833'),\n",
              " Text(0.050734312416555405, 0.6136363636363636, 'squared_error = 0.0\\nsamples = 1\\nvalue = 534.6'),\n",
              " Text(0.054294615042278595, 0.6136363636363636, 'x[0] <= 11.15\\nsquared_error = 2.102\\nsamples = 2\\nvalue = 555.95'),\n",
              " Text(0.052514463729417, 0.5681818181818182, 'squared_error = 0.0\\nsamples = 1\\nvalue = 554.5'),\n",
              " Text(0.056074766355140186, 0.5681818181818182, 'squared_error = -0.0\\nsamples = 1\\nvalue = 557.4'),\n",
              " Text(0.09662883845126836, 0.7954545454545454, 'x[14] <= 722.05\\nsquared_error = 13094.331\\nsamples = 39\\nvalue = 715.6'),\n",
              " Text(0.08288829550511793, 0.75, 'x[14] <= 613.65\\nsquared_error = 4438.555\\nsamples = 33\\nvalue = 679.227'),\n",
              " Text(0.07320872274143302, 0.7045454545454546, 'x[3] <= 9.7\\nsquared_error = 2072.287\\nsamples = 19\\nvalue = 633.821'),\n",
              " Text(0.06631063640409435, 0.6590909090909091, 'x[13] <= 7.05\\nsquared_error = 1194.884\\nsamples = 15\\nvalue = 616.76'),\n",
              " Text(0.06141522029372497, 0.6136363636363636, 'x[14] <= 525.8\\nsquared_error = 455.782\\nsamples = 4\\nvalue = 573.85'),\n",
              " Text(0.059635068980863376, 0.5681818181818182, 'squared_error = 0.0\\nsamples = 1\\nvalue = 539.6'),\n",
              " Text(0.06319537160658656, 0.5681818181818182, 'x[7] <= 162.85\\nsquared_error = 86.349\\nsamples = 3\\nvalue = 585.267'),\n",
              " Text(0.06141522029372497, 0.5227272727272727, 'x[6] <= 197.6\\nsquared_error = 0.16\\nsamples = 2\\nvalue = 578.7'),\n",
              " Text(0.059635068980863376, 0.4772727272727273, 'squared_error = 0.0\\nsamples = 1\\nvalue = 578.3'),\n",
              " Text(0.06319537160658656, 0.4772727272727273, 'squared_error = -0.0\\nsamples = 1\\nvalue = 579.1'),\n",
              " Text(0.06497552291944815, 0.5227272727272727, 'squared_error = -0.0\\nsamples = 1\\nvalue = 598.4'),\n",
              " Text(0.07120605251446373, 0.6136363636363636, 'x[10] <= 3.05\\nsquared_error = 550.622\\nsamples = 11\\nvalue = 632.364'),\n",
              " Text(0.06942590120160214, 0.5681818181818182, 'squared_error = 0.0\\nsamples = 1\\nvalue = 577.2'),\n",
              " Text(0.07298620382732532, 0.5681818181818182, 'x[6] <= 226.2\\nsquared_error = 270.952\\nsamples = 10\\nvalue = 637.88'),\n",
              " Text(0.07120605251446373, 0.5227272727272727, 'x[6] <= 194.25\\nsquared_error = 132.775\\nsamples = 9\\nvalue = 633.778'),\n",
              " Text(0.06675567423230974, 0.4772727272727273, 'x[8] <= 77.55\\nsquared_error = 6.202\\nsamples = 3\\nvalue = 621.067'),\n",
              " Text(0.06497552291944815, 0.4318181818181818, 'squared_error = 0.0\\nsamples = 1\\nvalue = 618.0'),\n",
              " Text(0.06853582554517133, 0.4318181818181818, 'x[11] <= 5.7\\nsquared_error = 2.25\\nsamples = 2\\nvalue = 622.6'),\n",
              " Text(0.06675567423230974, 0.38636363636363635, 'squared_error = 0.0\\nsamples = 1\\nvalue = 621.1'),\n",
              " Text(0.07031597685803294, 0.38636363636363635, 'squared_error = -0.0\\nsamples = 1\\nvalue = 624.1'),\n",
              " Text(0.07565643079661771, 0.4772727272727273, 'x[10] <= 3.95\\nsquared_error = 74.882\\nsamples = 6\\nvalue = 640.133'),\n",
              " Text(0.07387627948375612, 0.4318181818181818, 'squared_error = 0.0\\nsamples = 1\\nvalue = 655.9'),\n",
              " Text(0.0774365821094793, 0.4318181818181818, 'x[7] <= 210.9\\nsquared_error = 30.198\\nsamples = 5\\nvalue = 636.98'),\n",
              " Text(0.07387627948375612, 0.38636363636363635, 'x[3] <= 5.9\\nsquared_error = 4.309\\nsamples = 3\\nvalue = 641.267'),\n",
              " Text(0.07209612817089453, 0.3409090909090909, 'x[14] <= 596.95\\nsquared_error = 0.01\\nsamples = 2\\nvalue = 639.8'),\n",
              " Text(0.07031597685803294, 0.29545454545454547, 'squared_error = 0.0\\nsamples = 1\\nvalue = 639.7'),\n",
              " Text(0.07387627948375612, 0.29545454545454547, 'squared_error = 0.0\\nsamples = 1\\nvalue = 639.9'),\n",
              " Text(0.07565643079661771, 0.3409090909090909, 'squared_error = 0.0\\nsamples = 1\\nvalue = 644.2'),\n",
              " Text(0.08099688473520249, 0.38636363636363635, 'x[15] <= 26.15\\nsquared_error = 0.122\\nsamples = 2\\nvalue = 630.55'),\n",
              " Text(0.0792167334223409, 0.3409090909090909, 'squared_error = 0.0\\nsamples = 1\\nvalue = 630.2'),\n",
              " Text(0.08277703604806408, 0.3409090909090909, 'squared_error = 0.0\\nsamples = 1\\nvalue = 630.9'),\n",
              " Text(0.07476635514018691, 0.5227272727272727, 'squared_error = -0.0\\nsamples = 1\\nvalue = 674.8'),\n",
              " Text(0.0801068090787717, 0.6590909090909091, 'x[10] <= 7.2\\nsquared_error = 177.695\\nsamples = 4\\nvalue = 697.8'),\n",
              " Text(0.07832665776591011, 0.6136363636363636, 'x[14] <= 555.05\\nsquared_error = 35.287\\nsamples = 3\\nvalue = 690.7'),\n",
              " Text(0.07654650645304852, 0.5681818181818182, 'squared_error = 0.0\\nsamples = 1\\nvalue = 683.1'),\n",
              " Text(0.0801068090787717, 0.5681818181818182, 'x[15] <= 35.1\\nsquared_error = 9.61\\nsamples = 2\\nvalue = 694.5'),\n",
              " Text(0.07832665776591011, 0.5227272727272727, 'squared_error = 0.0\\nsamples = 1\\nvalue = 697.6'),\n",
              " Text(0.08188696039163329, 0.5227272727272727, 'squared_error = 0.0\\nsamples = 1\\nvalue = 691.4'),\n",
              " Text(0.08188696039163329, 0.6136363636363636, 'squared_error = 0.0\\nsamples = 1\\nvalue = 719.1'),\n",
              " Text(0.09256786826880285, 0.7045454545454546, 'x[9] <= 17.55\\nsquared_error = 1054.504\\nsamples = 14\\nvalue = 740.85'),\n",
              " Text(0.08722741433021806, 0.6590909090909091, 'x[3] <= 1.75\\nsquared_error = 133.307\\nsamples = 3\\nvalue = 693.2'),\n",
              " Text(0.08544726301735647, 0.6136363636363636, 'squared_error = 0.0\\nsamples = 1\\nvalue = 677.8'),\n",
              " Text(0.08900756564307966, 0.6136363636363636, 'x[3] <= 2.35\\nsquared_error = 22.09\\nsamples = 2\\nvalue = 700.9'),\n",
              " Text(0.08722741433021806, 0.5681818181818182, 'squared_error = 0.0\\nsamples = 1\\nvalue = 705.6'),\n",
              " Text(0.09078771695594126, 0.5681818181818182, 'squared_error = -0.0\\nsamples = 1\\nvalue = 696.2'),\n",
              " Text(0.09790832220738763, 0.6590909090909091, 'x[13] <= 56.7\\nsquared_error = 517.624\\nsamples = 11\\nvalue = 753.845'),\n",
              " Text(0.09612817089452604, 0.6136363636363636, 'x[5] <= 54.4\\nsquared_error = 106.714\\nsamples = 10\\nvalue = 747.36'),\n",
              " Text(0.09434801958166444, 0.5681818181818182, 'squared_error = 0.0\\nsamples = 1\\nvalue = 721.0'),\n",
              " Text(0.09790832220738763, 0.5681818181818182, 'x[10] <= 9.9\\nsquared_error = 32.788\\nsamples = 9\\nvalue = 750.289'),\n",
              " Text(0.09612817089452604, 0.5227272727272727, 'x[7] <= 234.4\\nsquared_error = 5.199\\nsamples = 8\\nvalue = 748.413'),\n",
              " Text(0.09434801958166444, 0.4772727272727273, 'x[8] <= 127.65\\nsquared_error = 0.122\\nsamples = 2\\nvalue = 752.35'),\n",
              " Text(0.09256786826880285, 0.4318181818181818, 'squared_error = 0.0\\nsamples = 1\\nvalue = 752.0'),\n",
              " Text(0.09612817089452604, 0.4318181818181818, 'squared_error = 0.0\\nsamples = 1\\nvalue = 752.7'),\n",
              " Text(0.09790832220738763, 0.4772727272727273, 'squared_error = -0.0\\nsamples = 6\\nvalue = 747.1'),\n",
              " Text(0.09968847352024922, 0.5227272727272727, 'squared_error = -0.0\\nsamples = 1\\nvalue = 765.3'),\n",
              " Text(0.09968847352024922, 0.6136363636363636, 'squared_error = 0.0\\nsamples = 1\\nvalue = 818.7'),\n",
              " Text(0.11036938139741878, 0.75, 'x[7] <= 329.8\\nsquared_error = 13404.729\\nsamples = 6\\nvalue = 915.65'),\n",
              " Text(0.10858923008455719, 0.7045454545454546, 'x[5] <= 80.65\\nsquared_error = 3106.594\\nsamples = 5\\nvalue = 869.14'),\n",
              " Text(0.105028927458834, 0.6590909090909091, 'x[6] <= 311.5\\nsquared_error = 464.402\\nsamples = 2\\nvalue = 934.95'),\n",
              " Text(0.1032487761459724, 0.6136363636363636, 'squared_error = 0.0\\nsamples = 1\\nvalue = 956.5'),\n",
              " Text(0.1068090787716956, 0.6136363636363636, 'squared_error = -0.0\\nsamples = 1\\nvalue = 913.4'),\n",
              " Text(0.11214953271028037, 0.6590909090909091, 'x[15] <= 35.5\\nsquared_error = 55.882\\nsamples = 3\\nvalue = 825.267'),\n",
              " Text(0.11036938139741878, 0.6136363636363636, 'x[4] <= 4.7\\nsquared_error = 18.49\\nsamples = 2\\nvalue = 820.6'),\n",
              " Text(0.10858923008455719, 0.5681818181818182, 'squared_error = 0.0\\nsamples = 1\\nvalue = 816.3'),\n",
              " Text(0.11214953271028037, 0.5681818181818182, 'squared_error = 0.0\\nsamples = 1\\nvalue = 824.9'),\n",
              " Text(0.11392968402314196, 0.6136363636363636, 'squared_error = 0.0\\nsamples = 1\\nvalue = 834.6'),\n",
              " Text(0.11214953271028037, 0.7045454545454546, 'squared_error = 0.0\\nsamples = 1\\nvalue = 1148.2'),\n",
              " Text(0.32371569210336004, 0.8409090909090909, 'x[0] <= 4.35\\nsquared_error = 34627.745\\nsamples = 217\\nvalue = 930.945'),\n",
              " Text(0.1846906987093903, 0.7954545454545454, 'x[14] <= 698.25\\nsquared_error = 13922.669\\nsamples = 45\\nvalue = 754.473'),\n",
              " Text(0.1570983533600356, 0.75, 'x[2] <= 6.15\\nsquared_error = 9123.949\\nsamples = 35\\nvalue = 712.54'),\n",
              " Text(0.1375166889185581, 0.7045454545454546, 'x[7] <= 99.5\\nsquared_error = 4996.987\\nsamples = 23\\nvalue = 669.743'),\n",
              " Text(0.12194036493101913, 0.6590909090909091, 'x[6] <= 67.35\\nsquared_error = 2153.84\\nsamples = 8\\nvalue = 605.4'),\n",
              " Text(0.11748998664886515, 0.6136363636363636, 'x[11] <= 10.2\\nsquared_error = 506.25\\nsamples = 2\\nvalue = 550.2'),\n",
              " Text(0.11570983533600356, 0.5681818181818182, 'squared_error = 0.0\\nsamples = 1\\nvalue = 527.7'),\n",
              " Text(0.11927013796172675, 0.5681818181818182, 'squared_error = 0.0\\nsamples = 1\\nvalue = 572.7'),\n",
              " Text(0.12639074321317312, 0.6136363636363636, 'x[9] <= 109.9\\nsquared_error = 1348.797\\nsamples = 6\\nvalue = 623.8'),\n",
              " Text(0.12283044058744993, 0.5681818181818182, 'x[9] <= 90.95\\nsquared_error = 157.503\\nsamples = 2\\nvalue = 585.75'),\n",
              " Text(0.12105028927458834, 0.5227272727272727, 'squared_error = 0.0\\nsamples = 1\\nvalue = 573.2'),\n",
              " Text(0.12461059190031153, 0.5227272727272727, 'squared_error = 0.0\\nsamples = 1\\nvalue = 598.3'),\n",
              " Text(0.1299510458388963, 0.5681818181818182, 'x[14] <= 365.8\\nsquared_error = 858.592\\nsamples = 4\\nvalue = 642.825'),\n",
              " Text(0.12817089452603472, 0.5227272727272727, 'squared_error = 0.0\\nsamples = 1\\nvalue = 597.0'),\n",
              " Text(0.1317311971517579, 0.5227272727272727, 'x[0] <= 1.15\\nsquared_error = 211.487\\nsamples = 3\\nvalue = 658.1'),\n",
              " Text(0.1299510458388963, 0.4772727272727273, 'squared_error = 0.0\\nsamples = 1\\nvalue = 676.7'),\n",
              " Text(0.13351134846461948, 0.4772727272727273, 'x[2] <= 4.55\\nsquared_error = 57.76\\nsamples = 2\\nvalue = 648.8'),\n",
              " Text(0.1317311971517579, 0.4318181818181818, 'squared_error = 0.0\\nsamples = 1\\nvalue = 641.2'),\n",
              " Text(0.1352914997774811, 0.4318181818181818, 'squared_error = 0.0\\nsamples = 1\\nvalue = 656.4'),\n",
              " Text(0.15309301290609703, 0.6590909090909091, 'x[1] <= 0.35\\nsquared_error = 3127.664\\nsamples = 15\\nvalue = 704.06'),\n",
              " Text(0.15131286159323543, 0.6136363636363636, 'squared_error = 0.0\\nsamples = 1\\nvalue = 567.3'),\n",
              " Text(0.1548731642189586, 0.6136363636363636, 'x[13] <= 103.5\\nsquared_error = 1919.693\\nsamples = 14\\nvalue = 713.829'),\n",
              " Text(0.15309301290609703, 0.5681818181818182, 'x[12] <= 3.9\\nsquared_error = 1562.439\\nsamples = 13\\nvalue = 707.823'),\n",
              " Text(0.14419225634178906, 0.5227272727272727, 'x[1] <= 0.95\\nsquared_error = 1424.099\\nsamples = 7\\nvalue = 685.371'),\n",
              " Text(0.14063195371606588, 0.4772727272727273, 'x[7] <= 120.25\\nsquared_error = 174.632\\nsamples = 4\\nvalue = 711.425'),\n",
              " Text(0.13885180240320427, 0.4318181818181818, 'squared_error = 0.0\\nsamples = 1\\nvalue = 730.6'),\n",
              " Text(0.14241210502892745, 0.4318181818181818, 'x[11] <= 0.75\\nsquared_error = 69.429\\nsamples = 3\\nvalue = 705.033'),\n",
              " Text(0.14063195371606588, 0.38636363636363635, 'squared_error = 0.0\\nsamples = 1\\nvalue = 716.6'),\n",
              " Text(0.14419225634178906, 0.38636363636363635, 'x[3] <= 0.55\\nsquared_error = 3.802\\nsamples = 2\\nvalue = 699.25'),\n",
              " Text(0.14241210502892745, 0.3409090909090909, 'squared_error = 0.0\\nsamples = 1\\nvalue = 697.3'),\n",
              " Text(0.14597240765465064, 0.3409090909090909, 'squared_error = 0.0\\nsamples = 1\\nvalue = 701.2'),\n",
              " Text(0.14775255896751224, 0.4772727272727273, 'x[13] <= 38.7\\nsquared_error = 978.269\\nsamples = 3\\nvalue = 650.633'),\n",
              " Text(0.14597240765465064, 0.4318181818181818, 'squared_error = 0.0\\nsamples = 1\\nvalue = 607.2'),\n",
              " Text(0.14953271028037382, 0.4318181818181818, 'x[13] <= 69.0\\nsquared_error = 52.563\\nsamples = 2\\nvalue = 672.35'),\n",
              " Text(0.14775255896751224, 0.38636363636363635, 'squared_error = 0.0\\nsamples = 1\\nvalue = 665.1'),\n",
              " Text(0.15131286159323543, 0.38636363636363635, 'squared_error = 0.0\\nsamples = 1\\nvalue = 679.6'),\n",
              " Text(0.16199376947040497, 0.5227272727272727, 'x[8] <= 166.25\\nsquared_error = 449.641\\nsamples = 6\\nvalue = 734.017'),\n",
              " Text(0.1602136181575434, 0.4772727272727273, 'x[7] <= 158.05\\nsquared_error = 47.43\\nsamples = 5\\nvalue = 724.96'),\n",
              " Text(0.15665331553182021, 0.4318181818181818, 'x[11] <= 17.55\\nsquared_error = 0.123\\nsamples = 2\\nvalue = 716.55'),\n",
              " Text(0.1548731642189586, 0.38636363636363635, 'squared_error = 0.0\\nsamples = 1\\nvalue = 716.2'),\n",
              " Text(0.1584334668446818, 0.38636363636363635, 'squared_error = 0.0\\nsamples = 1\\nvalue = 716.9'),\n",
              " Text(0.16377392078326658, 0.4318181818181818, 'x[11] <= 7.55\\nsquared_error = 0.382\\nsamples = 3\\nvalue = 730.567'),\n",
              " Text(0.16199376947040497, 0.38636363636363635, 'x[12] <= 5.2\\nsquared_error = 0.01\\nsamples = 2\\nvalue = 731.0'),\n",
              " Text(0.1602136181575434, 0.3409090909090909, 'squared_error = 0.0\\nsamples = 1\\nvalue = 731.1'),\n",
              " Text(0.16377392078326658, 0.3409090909090909, 'squared_error = 0.0\\nsamples = 1\\nvalue = 730.9'),\n",
              " Text(0.16555407209612816, 0.38636363636363635, 'squared_error = 0.0\\nsamples = 1\\nvalue = 729.7'),\n",
              " Text(0.16377392078326658, 0.4772727272727273, 'squared_error = 0.0\\nsamples = 1\\nvalue = 779.3'),\n",
              " Text(0.15665331553182021, 0.5681818181818182, 'squared_error = 0.0\\nsamples = 1\\nvalue = 791.9'),\n",
              " Text(0.17668001780151313, 0.7045454545454546, 'x[14] <= 432.9\\nsquared_error = 6795.129\\nsamples = 12\\nvalue = 794.567'),\n",
              " Text(0.16555407209612816, 0.6590909090909091, 'x[2] <= 7.9\\nsquared_error = 1234.178\\nsamples = 5\\nvalue = 719.88'),\n",
              " Text(0.16199376947040497, 0.6136363636363636, 'x[8] <= 138.35\\nsquared_error = 320.41\\nsamples = 2\\nvalue = 680.6'),\n",
              " Text(0.1602136181575434, 0.5681818181818182, 'squared_error = 0.0\\nsamples = 1\\nvalue = 662.7'),\n",
              " Text(0.16377392078326658, 0.5681818181818182, 'squared_error = 0.0\\nsamples = 1\\nvalue = 698.5'),\n",
              " Text(0.16911437472185137, 0.6136363636363636, 'x[5] <= 63.8\\nsquared_error = 129.002\\nsamples = 3\\nvalue = 746.067'),\n",
              " Text(0.16733422340898976, 0.5681818181818182, 'squared_error = 0.0\\nsamples = 1\\nvalue = 731.1'),\n",
              " Text(0.17089452603471295, 0.5681818181818182, 'x[15] <= 219.75\\nsquared_error = 25.503\\nsamples = 2\\nvalue = 753.55'),\n",
              " Text(0.16911437472185137, 0.5227272727272727, 'squared_error = 0.0\\nsamples = 1\\nvalue = 758.6'),\n",
              " Text(0.17267467734757455, 0.5227272727272727, 'squared_error = 0.0\\nsamples = 1\\nvalue = 748.5'),\n",
              " Text(0.1878059635068981, 0.6590909090909091, 'x[15] <= 193.6\\nsquared_error = 3936.913\\nsamples = 7\\nvalue = 847.914'),\n",
              " Text(0.18157543391188252, 0.6136363636363636, 'x[11] <= 5.35\\nsquared_error = 936.862\\nsamples = 4\\nvalue = 803.65'),\n",
              " Text(0.1780151312861593, 0.5681818181818182, 'x[10] <= 19.95\\nsquared_error = 112.36\\nsamples = 2\\nvalue = 831.2'),\n",
              " Text(0.17623497997329773, 0.5227272727272727, 'squared_error = 0.0\\nsamples = 1\\nvalue = 841.8'),\n",
              " Text(0.17979528259902092, 0.5227272727272727, 'squared_error = -0.0\\nsamples = 1\\nvalue = 820.6'),\n",
              " Text(0.1851357365376057, 0.5681818181818182, 'x[5] <= 108.5\\nsquared_error = 243.36\\nsamples = 2\\nvalue = 776.1'),\n",
              " Text(0.1833555852247441, 0.5227272727272727, 'squared_error = 0.0\\nsamples = 1\\nvalue = 760.5'),\n",
              " Text(0.18691588785046728, 0.5227272727272727, 'squared_error = 0.0\\nsamples = 1\\nvalue = 791.7'),\n",
              " Text(0.19403649310191368, 0.6136363636363636, 'x[3] <= 51.5\\nsquared_error = 1841.296\\nsamples = 3\\nvalue = 906.933'),\n",
              " Text(0.19225634178905207, 0.5681818181818182, 'x[13] <= 167.05\\nsquared_error = 46.922\\nsamples = 2\\nvalue = 876.85'),\n",
              " Text(0.19047619047619047, 0.5227272727272727, 'squared_error = 0.0\\nsamples = 1\\nvalue = 870.0'),\n",
              " Text(0.19403649310191368, 0.5227272727272727, 'squared_error = -0.0\\nsamples = 1\\nvalue = 883.7'),\n",
              " Text(0.19581664441477525, 0.5681818181818182, 'squared_error = 0.0\\nsamples = 1\\nvalue = 967.1'),\n",
              " Text(0.21228304405874499, 0.75, 'x[14] <= 857.15\\nsquared_error = 3023.32\\nsamples = 10\\nvalue = 901.24'),\n",
              " Text(0.20738762794837562, 0.7045454545454546, 'x[3] <= 0.95\\nsquared_error = 1255.094\\nsamples = 8\\nvalue = 879.675'),\n",
              " Text(0.20293724966622162, 0.6590909090909091, 'x[7] <= 275.4\\nsquared_error = 889.396\\nsamples = 3\\nvalue = 842.067'),\n",
              " Text(0.20115709835336004, 0.6136363636363636, 'x[1] <= 0.35\\nsquared_error = 77.44\\nsamples = 2\\nvalue = 821.6'),\n",
              " Text(0.19937694704049844, 0.5681818181818182, 'squared_error = 0.0\\nsamples = 1\\nvalue = 812.8'),\n",
              " Text(0.20293724966622162, 0.5681818181818182, 'squared_error = 0.0\\nsamples = 1\\nvalue = 830.4'),\n",
              " Text(0.20471740097908322, 0.6136363636363636, 'squared_error = 0.0\\nsamples = 1\\nvalue = 883.0'),\n",
              " Text(0.2118380062305296, 0.6590909090909091, 'x[10] <= 16.3\\nsquared_error = 116.702\\nsamples = 5\\nvalue = 902.24'),\n",
              " Text(0.2082777036048064, 0.6136363636363636, 'x[13] <= 8.95\\nsquared_error = 42.136\\nsamples = 3\\nvalue = 894.467'),\n",
              " Text(0.2064975522919448, 0.5681818181818182, 'squared_error = 0.0\\nsamples = 1\\nvalue = 903.6'),\n",
              " Text(0.210057854917668, 0.5681818181818182, 'x[2] <= 3.5\\nsquared_error = 0.64\\nsamples = 2\\nvalue = 889.9'),\n",
              " Text(0.2082777036048064, 0.5227272727272727, 'squared_error = 0.0\\nsamples = 1\\nvalue = 890.7'),\n",
              " Text(0.2118380062305296, 0.5227272727272727, 'squared_error = -0.0\\nsamples = 1\\nvalue = 889.1'),\n",
              " Text(0.21539830885625277, 0.6136363636363636, 'x[11] <= 5.65\\nsquared_error = 1.96\\nsamples = 2\\nvalue = 913.9'),\n",
              " Text(0.2136181575433912, 0.5681818181818182, 'squared_error = 0.0\\nsamples = 1\\nvalue = 915.3'),\n",
              " Text(0.21717846016911438, 0.5681818181818182, 'squared_error = -0.0\\nsamples = 1\\nvalue = 912.5'),\n",
              " Text(0.21717846016911438, 0.7045454545454546, 'x[4] <= 16.7\\nsquared_error = 795.24\\nsamples = 2\\nvalue = 987.5'),\n",
              " Text(0.21539830885625277, 0.6590909090909091, 'squared_error = 0.0\\nsamples = 1\\nvalue = 959.3'),\n",
              " Text(0.21895861148197596, 0.6590909090909091, 'squared_error = 0.0\\nsamples = 1\\nvalue = 1015.7'),\n",
              " Text(0.4627406854973298, 0.7954545454545454, 'x[4] <= 84.0\\nsquared_error = 29765.409\\nsamples = 172\\nvalue = 977.115'),\n",
              " Text(0.40033673370048956, 0.75, 'x[14] <= 856.75\\nsquared_error = 21972.609\\nsamples = 151\\nvalue = 946.936'),\n",
              " Text(0.33605397474410326, 0.7045454545454546, 'x[9] <= 192.2\\nsquared_error = 20848.831\\nsamples = 106\\nvalue = 897.315'),\n",
              " Text(0.280474660658656, 0.6590909090909091, 'x[5] <= 37.65\\nsquared_error = 10562.27\\nsamples = 94\\nvalue = 862.229'),\n",
              " Text(0.22696929238985314, 0.6136363636363636, 'x[11] <= 48.05\\nsquared_error = 7365.297\\nsamples = 12\\nvalue = 703.442'),\n",
              " Text(0.22073876279483756, 0.5681818181818182, 'x[9] <= 31.55\\nsquared_error = 1685.124\\nsamples = 8\\nvalue = 658.325'),\n",
              " Text(0.21895861148197596, 0.5227272727272727, 'squared_error = 0.0\\nsamples = 1\\nvalue = 568.0'),\n",
              " Text(0.22251891410769917, 0.5227272727272727, 'x[14] <= 169.55\\nsquared_error = 593.839\\nsamples = 7\\nvalue = 671.229'),\n",
              " Text(0.22073876279483756, 0.4772727272727273, 'squared_error = 0.0\\nsamples = 1\\nvalue = 618.2'),\n",
              " Text(0.22429906542056074, 0.4772727272727273, 'x[0] <= 13.65\\nsquared_error = 146.029\\nsamples = 6\\nvalue = 680.067'),\n",
              " Text(0.22073876279483756, 0.4318181818181818, 'x[8] <= 87.45\\nsquared_error = 46.24\\nsamples = 2\\nvalue = 696.1'),\n",
              " Text(0.21895861148197596, 0.38636363636363635, 'squared_error = 0.0\\nsamples = 1\\nvalue = 689.3'),\n",
              " Text(0.22251891410769917, 0.38636363636363635, 'squared_error = 0.0\\nsamples = 1\\nvalue = 702.9'),\n",
              " Text(0.22785936804628393, 0.4318181818181818, 'x[2] <= 58.2\\nsquared_error = 3.122\\nsamples = 4\\nvalue = 672.05'),\n",
              " Text(0.22607921673342235, 0.38636363636363635, 'squared_error = 0.0\\nsamples = 1\\nvalue = 669.3'),\n",
              " Text(0.22963951935914553, 0.38636363636363635, 'x[13] <= 266.5\\nsquared_error = 0.802\\nsamples = 3\\nvalue = 672.967'),\n",
              " Text(0.22785936804628393, 0.3409090909090909, 'squared_error = 0.0\\nsamples = 2\\nvalue = 673.6'),\n",
              " Text(0.2314196706720071, 0.3409090909090909, 'squared_error = -0.0\\nsamples = 1\\nvalue = 671.7'),\n",
              " Text(0.23319982198486872, 0.5681818181818182, 'x[6] <= 25.85\\nsquared_error = 6512.562\\nsamples = 4\\nvalue = 793.675'),\n",
              " Text(0.2314196706720071, 0.5227272727272727, 'squared_error = 0.0\\nsamples = 1\\nvalue = 656.3'),\n",
              " Text(0.2349799732977303, 0.5227272727272727, 'x[7] <= 81.6\\nsquared_error = 295.909\\nsamples = 3\\nvalue = 839.467'),\n",
              " Text(0.23319982198486872, 0.4772727272727273, 'x[4] <= 67.3\\nsquared_error = 66.422\\nsamples = 2\\nvalue = 828.25'),\n",
              " Text(0.2314196706720071, 0.4318181818181818, 'squared_error = 0.0\\nsamples = 1\\nvalue = 820.1'),\n",
              " Text(0.2349799732977303, 0.4318181818181818, 'squared_error = 0.0\\nsamples = 1\\nvalue = 836.4'),\n",
              " Text(0.2367601246105919, 0.4772727272727273, 'squared_error = 0.0\\nsamples = 1\\nvalue = 861.9'),\n",
              " Text(0.3339800289274588, 0.6136363636363636, 'x[14] <= 794.4\\nsquared_error = 6800.4\\nsamples = 82\\nvalue = 885.466'),\n",
              " Text(0.2959084334668447, 0.5681818181818182, 'x[15] <= 51.55\\nsquared_error = 6422.042\\nsamples = 58\\nvalue = 858.853'),\n",
              " Text(0.2627948375611927, 0.5227272727272727, 'x[14] <= 736.85\\nsquared_error = 2640.303\\nsamples = 20\\nvalue = 788.95'),\n",
              " Text(0.25055629728526924, 0.4772727272727273, 'x[14] <= 655.5\\nsquared_error = 720.297\\nsamples = 12\\nvalue = 752.425'),\n",
              " Text(0.24299065420560748, 0.4318181818181818, 'x[8] <= 123.6\\nsquared_error = 399.545\\nsamples = 6\\nvalue = 730.617'),\n",
              " Text(0.2385402759234535, 0.38636363636363635, 'x[11] <= 5.05\\nsquared_error = 23.263\\nsamples = 4\\nvalue = 717.25'),\n",
              " Text(0.2349799732977303, 0.3409090909090909, 'x[0] <= 12.25\\nsquared_error = 3.24\\nsamples = 2\\nvalue = 712.6'),\n",
              " Text(0.23319982198486872, 0.29545454545454547, 'squared_error = 0.0\\nsamples = 1\\nvalue = 710.8'),\n",
              " Text(0.2367601246105919, 0.29545454545454547, 'squared_error = 0.0\\nsamples = 1\\nvalue = 714.4'),\n",
              " Text(0.2421005785491767, 0.3409090909090909, 'x[4] <= 12.85\\nsquared_error = 0.04\\nsamples = 2\\nvalue = 721.9'),\n",
              " Text(0.24032042723631508, 0.29545454545454547, 'squared_error = 0.0\\nsamples = 1\\nvalue = 722.1'),\n",
              " Text(0.24388072986203826, 0.29545454545454547, 'squared_error = -0.0\\nsamples = 1\\nvalue = 721.7'),\n",
              " Text(0.24744103248776145, 0.38636363636363635, 'x[14] <= 648.5\\nsquared_error = 80.103\\nsamples = 2\\nvalue = 757.35'),\n",
              " Text(0.24566088117489987, 0.3409090909090909, 'squared_error = 0.0\\nsamples = 1\\nvalue = 766.3'),\n",
              " Text(0.24922118380062305, 0.3409090909090909, 'squared_error = 0.0\\nsamples = 1\\nvalue = 748.4'),\n",
              " Text(0.258121940364931, 0.4318181818181818, 'x[6] <= 249.45\\nsquared_error = 89.842\\nsamples = 6\\nvalue = 774.233'),\n",
              " Text(0.25634178905206945, 0.38636363636363635, 'x[10] <= 4.05\\nsquared_error = 32.904\\nsamples = 5\\nvalue = 770.7'),\n",
              " Text(0.25278148642634624, 0.3409090909090909, 'x[14] <= 680.9\\nsquared_error = 1.102\\nsamples = 2\\nvalue = 764.45'),\n",
              " Text(0.25100133511348466, 0.29545454545454547, 'squared_error = 0.0\\nsamples = 1\\nvalue = 765.5'),\n",
              " Text(0.2545616377392078, 0.29545454545454547, 'squared_error = -0.0\\nsamples = 1\\nvalue = 763.4'),\n",
              " Text(0.2599020916777926, 0.3409090909090909, 'x[0] <= 16.85\\nsquared_error = 10.702\\nsamples = 3\\nvalue = 774.867'),\n",
              " Text(0.258121940364931, 0.29545454545454547, 'squared_error = 0.0\\nsamples = 1\\nvalue = 779.0'),\n",
              " Text(0.2616822429906542, 0.29545454545454547, 'x[5] <= 50.6\\nsquared_error = 3.24\\nsamples = 2\\nvalue = 772.8'),\n",
              " Text(0.2599020916777926, 0.25, 'squared_error = 0.0\\nsamples = 1\\nvalue = 771.0'),\n",
              " Text(0.2634623943035158, 0.25, 'squared_error = 0.0\\nsamples = 1\\nvalue = 774.6'),\n",
              " Text(0.2599020916777926, 0.38636363636363635, 'squared_error = -0.0\\nsamples = 1\\nvalue = 791.9'),\n",
              " Text(0.2750333778371162, 0.4772727272727273, 'x[10] <= 10.15\\nsquared_error = 517.527\\nsamples = 8\\nvalue = 843.738'),\n",
              " Text(0.2688028482421006, 0.4318181818181818, 'x[11] <= 4.1\\nsquared_error = 62.234\\nsamples = 5\\nvalue = 860.26'),\n",
              " Text(0.26702269692923897, 0.38636363636363635, 'squared_error = 0.0\\nsamples = 1\\nvalue = 874.4'),\n",
              " Text(0.2705829995549622, 0.38636363636363635, 'x[7] <= 291.8\\nsquared_error = 15.312\\nsamples = 4\\nvalue = 856.725'),\n",
              " Text(0.26702269692923897, 0.3409090909090909, 'x[7] <= 274.0\\nsquared_error = 1.323\\nsamples = 2\\nvalue = 860.55'),\n",
              " Text(0.2652425456163774, 0.29545454545454547, 'squared_error = 0.0\\nsamples = 1\\nvalue = 861.7'),\n",
              " Text(0.2688028482421006, 0.29545454545454547, 'squared_error = 0.0\\nsamples = 1\\nvalue = 859.4'),\n",
              " Text(0.27414330218068533, 0.3409090909090909, 'x[4] <= 6.95\\nsquared_error = 0.04\\nsamples = 2\\nvalue = 852.9'),\n",
              " Text(0.27236315086782376, 0.29545454545454547, 'squared_error = 0.0\\nsamples = 1\\nvalue = 852.7'),\n",
              " Text(0.27592345349354697, 0.29545454545454547, 'squared_error = -0.0\\nsamples = 1\\nvalue = 853.1'),\n",
              " Text(0.28126390743213175, 0.4318181818181818, 'x[8] <= 149.7\\nsquared_error = 63.047\\nsamples = 3\\nvalue = 816.2'),\n",
              " Text(0.2794837561192701, 0.38636363636363635, 'x[4] <= 6.5\\nsquared_error = 8.703\\nsamples = 2\\nvalue = 810.85'),\n",
              " Text(0.27770360480640854, 0.3409090909090909, 'squared_error = 0.0\\nsamples = 1\\nvalue = 813.8'),\n",
              " Text(0.28126390743213175, 0.3409090909090909, 'squared_error = 0.0\\nsamples = 1\\nvalue = 807.9'),\n",
              " Text(0.28304405874499333, 0.38636363636363635, 'squared_error = 0.0\\nsamples = 1\\nvalue = 826.9'),\n",
              " Text(0.32902202937249664, 0.5227272727272727, 'x[13] <= 180.65\\nsquared_error = 4486.995\\nsamples = 38\\nvalue = 895.645'),\n",
              " Text(0.3209279038718291, 0.4772727272727273, 'x[15] <= 483.15\\nsquared_error = 3029.021\\nsamples = 36\\nvalue = 886.25'),\n",
              " Text(0.31008010680907877, 0.4318181818181818, 'x[4] <= 13.55\\nsquared_error = 2216.779\\nsamples = 34\\nvalue = 878.832'),\n",
              " Text(0.2937249666221629, 0.38636363636363635, 'x[14] <= 735.7\\nsquared_error = 886.224\\nsamples = 14\\nvalue = 850.386'),\n",
              " Text(0.2848242100578549, 0.3409090909090909, 'x[6] <= 223.35\\nsquared_error = 59.894\\nsamples = 5\\nvalue = 816.34'),\n",
              " Text(0.28304405874499333, 0.29545454545454547, 'squared_error = 0.0\\nsamples = 1\\nvalue = 829.6'),\n",
              " Text(0.2866043613707165, 0.29545454545454547, 'x[14] <= 700.75\\nsquared_error = 19.922\\nsamples = 4\\nvalue = 813.025'),\n",
              " Text(0.28304405874499333, 0.25, 'x[6] <= 226.65\\nsquared_error = 7.562\\nsamples = 2\\nvalue = 809.15'),\n",
              " Text(0.28126390743213175, 0.20454545454545456, 'squared_error = 0.0\\nsamples = 1\\nvalue = 806.4'),\n",
              " Text(0.2848242100578549, 0.20454545454545456, 'squared_error = -0.0\\nsamples = 1\\nvalue = 811.9'),\n",
              " Text(0.2901646639964397, 0.25, 'x[4] <= 11.45\\nsquared_error = 2.25\\nsamples = 2\\nvalue = 816.9'),\n",
              " Text(0.2883845126835781, 0.20454545454545456, 'squared_error = 0.0\\nsamples = 1\\nvalue = 815.4'),\n",
              " Text(0.2919448153093013, 0.20454545454545456, 'squared_error = -0.0\\nsamples = 1\\nvalue = 818.4'),\n",
              " Text(0.30262572318647085, 0.3409090909090909, 'x[14] <= 785.15\\nsquared_error = 343.596\\nsamples = 9\\nvalue = 869.3'),\n",
              " Text(0.29906542056074764, 0.29545454545454547, 'x[0] <= 16.6\\nsquared_error = 136.581\\nsamples = 7\\nvalue = 861.514'),\n",
              " Text(0.29728526924788606, 0.25, 'x[3] <= 2.35\\nsquared_error = 49.336\\nsamples = 6\\nvalue = 857.55'),\n",
              " Text(0.2955051179350245, 0.20454545454545456, 'squared_error = 0.0\\nsamples = 1\\nvalue = 871.5'),\n",
              " Text(0.29906542056074764, 0.20454545454545456, 'x[7] <= 285.95\\nsquared_error = 12.498\\nsamples = 5\\nvalue = 854.76'),\n",
              " Text(0.2955051179350245, 0.1590909090909091, 'x[15] <= 55.0\\nsquared_error = 2.082\\nsamples = 3\\nvalue = 852.133'),\n",
              " Text(0.2937249666221629, 0.11363636363636363, 'squared_error = 0.0\\nsamples = 1\\nvalue = 850.1'),\n",
              " Text(0.29728526924788606, 0.11363636363636363, 'x[11] <= 5.7\\nsquared_error = 0.022\\nsamples = 2\\nvalue = 853.15'),\n",
              " Text(0.2955051179350245, 0.06818181818181818, 'squared_error = 0.0\\nsamples = 1\\nvalue = 853.3'),\n",
              " Text(0.29906542056074764, 0.06818181818181818, 'squared_error = 0.0\\nsamples = 1\\nvalue = 853.0'),\n",
              " Text(0.30262572318647085, 0.1590909090909091, 'x[10] <= 3.5\\nsquared_error = 2.25\\nsamples = 2\\nvalue = 858.7'),\n",
              " Text(0.3008455718736093, 0.11363636363636363, 'squared_error = 0.0\\nsamples = 1\\nvalue = 857.2'),\n",
              " Text(0.30440587449933243, 0.11363636363636363, 'squared_error = 0.0\\nsamples = 1\\nvalue = 860.2'),\n",
              " Text(0.3008455718736093, 0.25, 'squared_error = -0.0\\nsamples = 1\\nvalue = 885.3'),\n",
              " Text(0.30618602581219406, 0.29545454545454547, 'x[8] <= 171.4\\nsquared_error = 113.423\\nsamples = 2\\nvalue = 896.55'),\n",
              " Text(0.30440587449933243, 0.25, 'squared_error = 0.0\\nsamples = 1\\nvalue = 885.9'),\n",
              " Text(0.30796617712505564, 0.25, 'squared_error = 0.0\\nsamples = 1\\nvalue = 907.2'),\n",
              " Text(0.32643524699599463, 0.38636363636363635, 'x[6] <= 203.0\\nsquared_error = 2185.206\\nsamples = 20\\nvalue = 898.745'),\n",
              " Text(0.3168669336893636, 0.3409090909090909, 'x[3] <= 21.1\\nsquared_error = 1318.253\\nsamples = 8\\nvalue = 864.8'),\n",
              " Text(0.31330663106364043, 0.29545454545454547, 'x[10] <= 69.75\\nsquared_error = 351.262\\nsamples = 3\\nvalue = 830.567'),\n",
              " Text(0.3115264797507788, 0.25, 'x[4] <= 35.3\\nsquared_error = 70.56\\nsamples = 2\\nvalue = 842.9'),\n",
              " Text(0.3097463284379172, 0.20454545454545456, 'squared_error = 0.0\\nsamples = 1\\nvalue = 851.3'),\n",
              " Text(0.31330663106364043, 0.20454545454545456, 'squared_error = 0.0\\nsamples = 1\\nvalue = 834.5'),\n",
              " Text(0.315086782376502, 0.25, 'squared_error = -0.0\\nsamples = 1\\nvalue = 805.9'),\n",
              " Text(0.3204272363150868, 0.29545454545454547, 'x[9] <= 187.6\\nsquared_error = 773.402\\nsamples = 5\\nvalue = 885.34'),\n",
              " Text(0.3186470850022252, 0.25, 'x[2] <= 32.8\\nsquared_error = 323.775\\nsamples = 4\\nvalue = 874.0'),\n",
              " Text(0.3168669336893636, 0.20454545454545456, 'x[13] <= 109.35\\nsquared_error = 60.496\\nsamples = 3\\nvalue = 883.633'),\n",
              " Text(0.315086782376502, 0.1590909090909091, 'x[6] <= 135.0\\nsquared_error = 2.723\\nsamples = 2\\nvalue = 889.05'),\n",
              " Text(0.31330663106364043, 0.11363636363636363, 'squared_error = 0.0\\nsamples = 1\\nvalue = 887.4'),\n",
              " Text(0.3168669336893636, 0.11363636363636363, 'squared_error = 0.0\\nsamples = 1\\nvalue = 890.7'),\n",
              " Text(0.3186470850022252, 0.1590909090909091, 'squared_error = -0.0\\nsamples = 1\\nvalue = 872.8'),\n",
              " Text(0.3204272363150868, 0.20454545454545456, 'squared_error = 0.0\\nsamples = 1\\nvalue = 845.1'),\n",
              " Text(0.32220738762794837, 0.25, 'squared_error = 0.0\\nsamples = 1\\nvalue = 930.7'),\n",
              " Text(0.33600356030262574, 0.3409090909090909, 'x[4] <= 37.4\\nsquared_error = 1482.884\\nsamples = 12\\nvalue = 921.375'),\n",
              " Text(0.3342234089897641, 0.29545454545454547, 'x[13] <= 48.35\\nsquared_error = 509.151\\nsamples = 11\\nvalue = 911.764'),\n",
              " Text(0.32843791722296395, 0.25, 'x[8] <= 144.5\\nsquared_error = 277.858\\nsamples = 8\\nvalue = 902.1'),\n",
              " Text(0.32398753894080995, 0.20454545454545456, 'x[4] <= 14.4\\nsquared_error = 61.622\\nsamples = 2\\nvalue = 876.95'),\n",
              " Text(0.32220738762794837, 0.1590909090909091, 'squared_error = 0.0\\nsamples = 1\\nvalue = 869.1'),\n",
              " Text(0.3257676902536716, 0.1590909090909091, 'squared_error = -0.0\\nsamples = 1\\nvalue = 884.8'),\n",
              " Text(0.33288829550511795, 0.20454545454545456, 'x[13] <= 31.0\\nsquared_error = 68.815\\nsamples = 6\\nvalue = 910.483'),\n",
              " Text(0.32932799287939474, 0.1590909090909091, 'x[13] <= 29.35\\nsquared_error = 7.023\\nsamples = 2\\nvalue = 899.65'),\n",
              " Text(0.32754784156653316, 0.11363636363636363, 'squared_error = 0.0\\nsamples = 1\\nvalue = 902.3'),\n",
              " Text(0.3311081441922563, 0.11363636363636363, 'squared_error = 0.0\\nsamples = 1\\nvalue = 897.0'),\n",
              " Text(0.3364485981308411, 0.1590909090909091, 'x[10] <= 13.9\\nsquared_error = 11.69\\nsamples = 4\\nvalue = 915.9'),\n",
              " Text(0.3346684468179795, 0.11363636363636363, 'x[4] <= 14.15\\nsquared_error = 0.116\\nsamples = 3\\nvalue = 917.867'),\n",
              " Text(0.33288829550511795, 0.06818181818181818, 'squared_error = 0.0\\nsamples = 1\\nvalue = 917.4'),\n",
              " Text(0.3364485981308411, 0.06818181818181818, 'x[14] <= 783.2\\nsquared_error = 0.01\\nsamples = 2\\nvalue = 918.1'),\n",
              " Text(0.3346684468179795, 0.022727272727272728, 'squared_error = 0.0\\nsamples = 1\\nvalue = 918.0'),\n",
              " Text(0.33822874944370274, 0.022727272727272728, 'squared_error = 0.0\\nsamples = 1\\nvalue = 918.2'),\n",
              " Text(0.33822874944370274, 0.11363636363636363, 'squared_error = 0.0\\nsamples = 1\\nvalue = 910.0'),\n",
              " Text(0.3400089007565643, 0.25, 'x[14] <= 683.7\\nsquared_error = 212.829\\nsamples = 3\\nvalue = 937.533'),\n",
              " Text(0.33822874944370274, 0.20454545454545456, 'squared_error = 0.0\\nsamples = 1\\nvalue = 957.2'),\n",
              " Text(0.3417890520694259, 0.20454545454545456, 'x[11] <= 12.4\\nsquared_error = 29.16\\nsamples = 2\\nvalue = 927.7'),\n",
              " Text(0.3400089007565643, 0.1590909090909091, 'squared_error = 0.0\\nsamples = 1\\nvalue = 922.3'),\n",
              " Text(0.34356920338228747, 0.1590909090909091, 'squared_error = -0.0\\nsamples = 1\\nvalue = 933.1'),\n",
              " Text(0.3377837116154873, 0.29545454545454547, 'squared_error = -0.0\\nsamples = 1\\nvalue = 1027.1'),\n",
              " Text(0.3317757009345794, 0.4318181818181818, 'x[4] <= 52.35\\nsquared_error = 0.563\\nsamples = 2\\nvalue = 1012.35'),\n",
              " Text(0.32999554962171784, 0.38636363636363635, 'squared_error = 0.0\\nsamples = 1\\nvalue = 1011.6'),\n",
              " Text(0.33355585224744105, 0.38636363636363635, 'squared_error = 0.0\\nsamples = 1\\nvalue = 1013.1'),\n",
              " Text(0.3371161548731642, 0.4772727272727273, 'x[8] <= 99.95\\nsquared_error = 545.223\\nsamples = 2\\nvalue = 1064.75'),\n",
              " Text(0.33533600356030263, 0.4318181818181818, 'squared_error = 0.0\\nsamples = 1\\nvalue = 1088.1'),\n",
              " Text(0.3388963061860258, 0.4318181818181818, 'squared_error = 0.0\\nsamples = 1\\nvalue = 1041.4'),\n",
              " Text(0.372051624388073, 0.5681818181818182, 'x[1] <= 34.4\\nsquared_error = 1867.03\\nsamples = 24\\nvalue = 949.779'),\n",
              " Text(0.3702714730752114, 0.5227272727272727, 'x[15] <= 63.5\\nsquared_error = 746.932\\nsamples = 23\\nvalue = 942.704'),\n",
              " Text(0.35781041388518026, 0.4772727272727273, 'x[4] <= 8.65\\nsquared_error = 317.026\\nsamples = 17\\nvalue = 930.341'),\n",
              " Text(0.34890965732087226, 0.4318181818181818, 'x[10] <= 4.15\\nsquared_error = 258.296\\nsamples = 7\\nvalue = 914.271'),\n",
              " Text(0.3471295060080107, 0.38636363636363635, 'squared_error = 0.0\\nsamples = 1\\nvalue = 881.8'),\n",
              " Text(0.3506898086337339, 0.38636363636363635, 'x[11] <= 9.0\\nsquared_error = 96.325\\nsamples = 6\\nvalue = 919.683'),\n",
              " Text(0.34890965732087226, 0.3409090909090909, 'x[3] <= 1.0\\nsquared_error = 30.614\\nsamples = 5\\nvalue = 915.92'),\n",
              " Text(0.3471295060080107, 0.29545454545454547, 'squared_error = 0.0\\nsamples = 1\\nvalue = 905.7'),\n",
              " Text(0.3506898086337339, 0.29545454545454547, 'x[9] <= 38.25\\nsquared_error = 5.627\\nsamples = 4\\nvalue = 918.475'),\n",
              " Text(0.3471295060080107, 0.25, 'x[7] <= 304.3\\nsquared_error = 0.25\\nsamples = 2\\nvalue = 920.7'),\n",
              " Text(0.3453493546951491, 0.20454545454545456, 'squared_error = 0.0\\nsamples = 1\\nvalue = 921.2'),\n",
              " Text(0.34890965732087226, 0.20454545454545456, 'squared_error = -0.0\\nsamples = 1\\nvalue = 920.2'),\n",
              " Text(0.35425011125945705, 0.25, 'x[1] <= 7.0\\nsquared_error = 1.102\\nsamples = 2\\nvalue = 916.25'),\n",
              " Text(0.35246995994659547, 0.20454545454545456, 'squared_error = 0.0\\nsamples = 1\\nvalue = 917.3'),\n",
              " Text(0.3560302625723186, 0.20454545454545456, 'squared_error = 0.0\\nsamples = 1\\nvalue = 915.2'),\n",
              " Text(0.35246995994659547, 0.3409090909090909, 'squared_error = 0.0\\nsamples = 1\\nvalue = 938.5'),\n",
              " Text(0.3667111704494882, 0.4318181818181818, 'x[12] <= 24.85\\nsquared_error = 50.835\\nsamples = 10\\nvalue = 941.59'),\n",
              " Text(0.35959056519804183, 0.38636363636363635, 'x[15] <= 51.45\\nsquared_error = 33.914\\nsamples = 5\\nvalue = 936.16'),\n",
              " Text(0.3560302625723186, 0.3409090909090909, 'x[10] <= 6.0\\nsquared_error = 2.723\\nsamples = 2\\nvalue = 929.85'),\n",
              " Text(0.35425011125945705, 0.29545454545454547, 'squared_error = 0.0\\nsamples = 1\\nvalue = 928.2'),\n",
              " Text(0.35781041388518026, 0.29545454545454547, 'squared_error = 0.0\\nsamples = 1\\nvalue = 931.5'),\n",
              " Text(0.36315086782376504, 0.3409090909090909, 'x[12] <= 21.15\\nsquared_error = 10.469\\nsamples = 3\\nvalue = 940.367'),\n",
              " Text(0.3613707165109034, 0.29545454545454547, 'x[5] <= 118.9\\nsquared_error = 2.89\\nsamples = 2\\nvalue = 938.3'),\n",
              " Text(0.35959056519804183, 0.25, 'squared_error = 0.0\\nsamples = 1\\nvalue = 936.6'),\n",
              " Text(0.36315086782376504, 0.25, 'squared_error = 0.0\\nsamples = 1\\nvalue = 940.0'),\n",
              " Text(0.3649310191366266, 0.29545454545454547, 'squared_error = 0.0\\nsamples = 1\\nvalue = 944.5'),\n",
              " Text(0.37383177570093457, 0.38636363636363635, 'x[7] <= 283.95\\nsquared_error = 8.786\\nsamples = 5\\nvalue = 947.02'),\n",
              " Text(0.3702714730752114, 0.3409090909090909, 'x[2] <= 10.35\\nsquared_error = 0.056\\nsamples = 3\\nvalue = 949.433'),\n",
              " Text(0.3684913217623498, 0.29545454545454547, 'squared_error = 0.0\\nsamples = 1\\nvalue = 949.1'),\n",
              " Text(0.372051624388073, 0.29545454545454547, 'squared_error = -0.0\\nsamples = 2\\nvalue = 949.6'),\n",
              " Text(0.3773920783266578, 0.3409090909090909, 'x[5] <= 87.0\\nsquared_error = 0.04\\nsamples = 2\\nvalue = 943.4'),\n",
              " Text(0.3756119270137962, 0.29545454545454547, 'squared_error = 0.0\\nsamples = 1\\nvalue = 943.6'),\n",
              " Text(0.37917222963951935, 0.29545454545454547, 'squared_error = -0.0\\nsamples = 1\\nvalue = 943.2'),\n",
              " Text(0.38273253226524256, 0.4772727272727273, 'x[3] <= 5.25\\nsquared_error = 304.899\\nsamples = 6\\nvalue = 977.733'),\n",
              " Text(0.38095238095238093, 0.4318181818181818, 'squared_error = 0.0\\nsamples = 1\\nvalue = 940.9'),\n",
              " Text(0.38451268357810414, 0.4318181818181818, 'x[3] <= 5.85\\nsquared_error = 40.272\\nsamples = 5\\nvalue = 985.1'),\n",
              " Text(0.38273253226524256, 0.38636363636363635, 'squared_error = 0.0\\nsamples = 1\\nvalue = 996.6'),\n",
              " Text(0.3862928348909657, 0.38636363636363635, 'x[10] <= 21.85\\nsquared_error = 9.012\\nsamples = 4\\nvalue = 982.225'),\n",
              " Text(0.38451268357810414, 0.3409090909090909, 'x[14] <= 852.05\\nsquared_error = 2.302\\nsamples = 3\\nvalue = 980.667'),\n",
              " Text(0.38273253226524256, 0.29545454545454547, 'x[1] <= 5.2\\nsquared_error = 0.04\\nsamples = 2\\nvalue = 979.6'),\n",
              " Text(0.38095238095238093, 0.25, 'squared_error = 0.0\\nsamples = 1\\nvalue = 979.4'),\n",
              " Text(0.38451268357810414, 0.25, 'squared_error = 0.0\\nsamples = 1\\nvalue = 979.8'),\n",
              " Text(0.3862928348909657, 0.29545454545454547, 'squared_error = -0.0\\nsamples = 1\\nvalue = 982.8'),\n",
              " Text(0.38807298620382735, 0.3409090909090909, 'squared_error = -0.0\\nsamples = 1\\nvalue = 986.9'),\n",
              " Text(0.37383177570093457, 0.5227272727272727, 'squared_error = 0.0\\nsamples = 1\\nvalue = 1112.5'),\n",
              " Text(0.3916332888295505, 0.6590909090909091, 'x[4] <= 46.55\\nsquared_error = 16244.839\\nsamples = 12\\nvalue = 1172.158'),\n",
              " Text(0.38451268357810414, 0.6136363636363636, 'x[15] <= 715.85\\nsquared_error = 3545.337\\nsamples = 4\\nvalue = 1320.425'),\n",
              " Text(0.38273253226524256, 0.5681818181818182, 'squared_error = 0.0\\nsamples = 1\\nvalue = 1227.7'),\n",
              " Text(0.3862928348909657, 0.5681818181818182, 'x[9] <= 253.85\\nsquared_error = 905.816\\nsamples = 3\\nvalue = 1351.333'),\n",
              " Text(0.38451268357810414, 0.5227272727272727, 'squared_error = 0.0\\nsamples = 1\\nvalue = 1393.3'),\n",
              " Text(0.38807298620382735, 0.5227272727272727, 'x[13] <= 64.7\\nsquared_error = 37.823\\nsamples = 2\\nvalue = 1330.35'),\n",
              " Text(0.3862928348909657, 0.4772727272727273, 'squared_error = 0.0\\nsamples = 1\\nvalue = 1324.2'),\n",
              " Text(0.38985313751668893, 0.4772727272727273, 'squared_error = 0.0\\nsamples = 1\\nvalue = 1336.5'),\n",
              " Text(0.3987538940809969, 0.6136363636363636, 'x[7] <= 90.65\\nsquared_error = 6107.337\\nsamples = 8\\nvalue = 1098.025'),\n",
              " Text(0.3969737427681353, 0.5681818181818182, 'squared_error = 0.0\\nsamples = 1\\nvalue = 927.9'),\n",
              " Text(0.40053404539385845, 0.5681818181818182, 'x[4] <= 65.35\\nsquared_error = 2254.505\\nsamples = 7\\nvalue = 1122.329'),\n",
              " Text(0.3951935914552737, 0.5227272727272727, 'x[13] <= 75.35\\nsquared_error = 154.922\\nsamples = 4\\nvalue = 1159.625'),\n",
              " Text(0.3934134401424121, 0.4772727272727273, 'squared_error = 0.0\\nsamples = 1\\nvalue = 1139.6'),\n",
              " Text(0.3969737427681353, 0.4772727272727273, 'x[12] <= 43.05\\nsquared_error = 28.34\\nsamples = 3\\nvalue = 1166.3'),\n",
              " Text(0.3951935914552737, 0.4318181818181818, 'x[13] <= 95.45\\nsquared_error = 5.76\\nsamples = 2\\nvalue = 1162.8'),\n",
              " Text(0.3934134401424121, 0.38636363636363635, 'squared_error = 0.0\\nsamples = 1\\nvalue = 1160.4'),\n",
              " Text(0.3969737427681353, 0.38636363636363635, 'squared_error = -0.0\\nsamples = 1\\nvalue = 1165.2'),\n",
              " Text(0.3987538940809969, 0.4318181818181818, 'squared_error = -0.0\\nsamples = 1\\nvalue = 1173.3'),\n",
              " Text(0.40587449933244324, 0.5227272727272727, 'x[6] <= 151.2\\nsquared_error = 726.32\\nsamples = 3\\nvalue = 1072.6'),\n",
              " Text(0.40409434801958166, 0.4772727272727273, 'x[5] <= 56.95\\nsquared_error = 252.81\\nsamples = 2\\nvalue = 1055.9'),\n",
              " Text(0.4023141967067201, 0.4318181818181818, 'squared_error = 0.0\\nsamples = 1\\nvalue = 1071.8'),\n",
              " Text(0.40587449933244324, 0.4318181818181818, 'squared_error = -0.0\\nsamples = 1\\nvalue = 1040.0'),\n",
              " Text(0.4076546506453049, 0.4772727272727273, 'squared_error = 0.0\\nsamples = 1\\nvalue = 1106.0'),\n",
              " Text(0.46461949265687585, 0.7045454545454546, 'x[13] <= 51.45\\nsquared_error = 5157.412\\nsamples = 45\\nvalue = 1063.822'),\n",
              " Text(0.43302180685358255, 0.6590909090909091, 'x[14] <= 875.45\\nsquared_error = 1729.717\\nsamples = 31\\nvalue = 1027.255'),\n",
              " Text(0.4183355585224744, 0.6136363636363636, 'x[4] <= 9.35\\nsquared_error = 292.062\\nsamples = 5\\nvalue = 953.48'),\n",
              " Text(0.41477525589675124, 0.5681818181818182, 'x[6] <= 307.3\\nsquared_error = 107.007\\nsamples = 3\\nvalue = 941.3'),\n",
              " Text(0.4129951045838896, 0.5227272727272727, 'x[5] <= 99.75\\nsquared_error = 0.64\\nsamples = 2\\nvalue = 948.6'),\n",
              " Text(0.411214953271028, 0.4772727272727273, 'squared_error = 0.0\\nsamples = 1\\nvalue = 949.4'),\n",
              " Text(0.41477525589675124, 0.4772727272727273, 'squared_error = 0.0\\nsamples = 1\\nvalue = 947.8'),\n",
              " Text(0.4165554072096128, 0.5227272727272727, 'squared_error = -0.0\\nsamples = 1\\nvalue = 926.7'),\n",
              " Text(0.4218958611481976, 0.5681818181818182, 'x[6] <= 295.9\\nsquared_error = 13.323\\nsamples = 2\\nvalue = 971.75'),\n",
              " Text(0.420115709835336, 0.5227272727272727, 'squared_error = 0.0\\nsamples = 1\\nvalue = 975.4'),\n",
              " Text(0.4236760124610592, 0.5227272727272727, 'squared_error = 0.0\\nsamples = 1\\nvalue = 968.1'),\n",
              " Text(0.4477080551846907, 0.6136363636363636, 'x[14] <= 909.5\\nsquared_error = 758.227\\nsamples = 26\\nvalue = 1041.442'),\n",
              " Text(0.4325767690253672, 0.5681818181818182, 'x[15] <= 69.7\\nsquared_error = 211.894\\nsamples = 9\\nvalue = 1015.344'),\n",
              " Text(0.4272363150867824, 0.5227272727272727, 'x[10] <= 4.35\\nsquared_error = 31.422\\nsamples = 5\\nvalue = 1003.68'),\n",
              " Text(0.42545616377392076, 0.4772727272727273, 'squared_error = 0.0\\nsamples = 1\\nvalue = 1013.3'),\n",
              " Text(0.42901646639964397, 0.4772727272727273, 'x[11] <= 3.6\\nsquared_error = 10.357\\nsamples = 4\\nvalue = 1001.275'),\n",
              " Text(0.4272363150867824, 0.4318181818181818, 'squared_error = 0.0\\nsamples = 1\\nvalue = 995.8'),\n",
              " Text(0.43079661771250555, 0.4318181818181818, 'x[4] <= 22.95\\nsquared_error = 0.487\\nsamples = 3\\nvalue = 1003.1'),\n",
              " Text(0.42901646639964397, 0.38636363636363635, 'x[5] <= 109.6\\nsquared_error = 0.122\\nsamples = 2\\nvalue = 1003.55'),\n",
              " Text(0.4272363150867824, 0.3409090909090909, 'squared_error = 0.0\\nsamples = 1\\nvalue = 1003.2'),\n",
              " Text(0.43079661771250555, 0.3409090909090909, 'squared_error = 0.0\\nsamples = 1\\nvalue = 1003.9'),\n",
              " Text(0.4325767690253672, 0.38636363636363635, 'squared_error = -0.0\\nsamples = 1\\nvalue = 1002.2'),\n",
              " Text(0.4379172229639519, 0.5227272727272727, 'x[2] <= 11.35\\nsquared_error = 54.817\\nsamples = 4\\nvalue = 1029.925'),\n",
              " Text(0.43613707165109034, 0.4772727272727273, 'squared_error = 0.0\\nsamples = 1\\nvalue = 1041.8'),\n",
              " Text(0.43969737427681355, 0.4772727272727273, 'x[10] <= 15.65\\nsquared_error = 10.416\\nsamples = 3\\nvalue = 1025.967'),\n",
              " Text(0.4379172229639519, 0.4318181818181818, 'x[7] <= 279.65\\nsquared_error = 1.323\\nsamples = 2\\nvalue = 1028.15'),\n",
              " Text(0.43613707165109034, 0.38636363636363635, 'squared_error = 0.0\\nsamples = 1\\nvalue = 1027.0'),\n",
              " Text(0.43969737427681355, 0.38636363636363635, 'squared_error = -0.0\\nsamples = 1\\nvalue = 1029.3'),\n",
              " Text(0.4414775255896751, 0.4318181818181818, 'squared_error = -0.0\\nsamples = 1\\nvalue = 1021.6'),\n",
              " Text(0.4628393413440142, 0.5681818181818182, 'x[13] <= 29.45\\nsquared_error = 495.985\\nsamples = 17\\nvalue = 1055.259'),\n",
              " Text(0.4530485091232755, 0.5227272727272727, 'x[12] <= 35.85\\nsquared_error = 86.37\\nsamples = 8\\nvalue = 1035.462'),\n",
              " Text(0.4512683578104139, 0.4772727272727273, 'x[8] <= 218.5\\nsquared_error = 29.173\\nsamples = 7\\nvalue = 1032.514'),\n",
              " Text(0.4468179795282599, 0.4318181818181818, 'x[13] <= 17.15\\nsquared_error = 10.162\\nsamples = 5\\nvalue = 1029.64'),\n",
              " Text(0.4432576769025367, 0.38636363636363635, 'x[10] <= 10.1\\nsquared_error = 2.56\\nsamples = 2\\nvalue = 1033.0'),\n",
              " Text(0.4414775255896751, 0.3409090909090909, 'squared_error = 0.0\\nsamples = 1\\nvalue = 1034.6'),\n",
              " Text(0.44503782821539833, 0.3409090909090909, 'squared_error = 0.0\\nsamples = 1\\nvalue = 1031.4'),\n",
              " Text(0.45037828215398307, 0.38636363636363635, 'x[4] <= 10.25\\nsquared_error = 2.687\\nsamples = 3\\nvalue = 1027.4'),\n",
              " Text(0.4485981308411215, 0.3409090909090909, 'x[6] <= 313.6\\nsquared_error = 0.063\\nsamples = 2\\nvalue = 1028.55'),\n",
              " Text(0.4468179795282599, 0.29545454545454547, 'squared_error = 0.0\\nsamples = 1\\nvalue = 1028.8'),\n",
              " Text(0.45037828215398307, 0.29545454545454547, 'squared_error = 0.0\\nsamples = 1\\nvalue = 1028.3'),\n",
              " Text(0.4521584334668447, 0.3409090909090909, 'squared_error = -0.0\\nsamples = 1\\nvalue = 1025.1'),\n",
              " Text(0.45571873609256786, 0.4318181818181818, 'x[14] <= 925.65\\nsquared_error = 4.41\\nsamples = 2\\nvalue = 1039.7'),\n",
              " Text(0.4539385847797063, 0.38636363636363635, 'squared_error = 0.0\\nsamples = 1\\nvalue = 1037.6'),\n",
              " Text(0.4574988874054295, 0.38636363636363635, 'squared_error = 0.0\\nsamples = 1\\nvalue = 1041.8'),\n",
              " Text(0.45482866043613707, 0.4772727272727273, 'squared_error = -0.0\\nsamples = 1\\nvalue = 1056.1'),\n",
              " Text(0.472630173564753, 0.5227272727272727, 'x[7] <= 293.95\\nsquared_error = 202.091\\nsamples = 9\\nvalue = 1072.856'),\n",
              " Text(0.46639964396973743, 0.4772727272727273, 'x[5] <= 118.75\\nsquared_error = 74.358\\nsamples = 5\\nvalue = 1061.68'),\n",
              " Text(0.4628393413440142, 0.4318181818181818, 'x[6] <= 334.45\\nsquared_error = 7.762\\nsamples = 3\\nvalue = 1055.067'),\n",
              " Text(0.46105919003115264, 0.38636363636363635, 'x[2] <= 8.45\\nsquared_error = 2.102\\nsamples = 2\\nvalue = 1056.85'),\n",
              " Text(0.45927903871829107, 0.3409090909090909, 'squared_error = 0.0\\nsamples = 1\\nvalue = 1055.4'),\n",
              " Text(0.4628393413440142, 0.3409090909090909, 'squared_error = 0.0\\nsamples = 1\\nvalue = 1058.3'),\n",
              " Text(0.46461949265687585, 0.38636363636363635, 'squared_error = 0.0\\nsamples = 1\\nvalue = 1051.5'),\n",
              " Text(0.4699599465954606, 0.4318181818181818, 'x[3] <= 8.9\\nsquared_error = 10.24\\nsamples = 2\\nvalue = 1071.6'),\n",
              " Text(0.468179795282599, 0.38636363636363635, 'squared_error = 0.0\\nsamples = 1\\nvalue = 1074.8'),\n",
              " Text(0.4717400979083222, 0.38636363636363635, 'squared_error = 0.0\\nsamples = 1\\nvalue = 1068.4'),\n",
              " Text(0.4788607031597686, 0.4772727272727273, 'x[15] <= 94.05\\nsquared_error = 10.497\\nsamples = 4\\nvalue = 1086.825'),\n",
              " Text(0.477080551846907, 0.4318181818181818, 'x[5] <= 111.7\\nsquared_error = 2.549\\nsamples = 3\\nvalue = 1085.133'),\n",
              " Text(0.4753004005340454, 0.38636363636363635, 'squared_error = 0.0\\nsamples = 1\\nvalue = 1083.1'),\n",
              " Text(0.4788607031597686, 0.38636363636363635, 'x[7] <= 301.6\\nsquared_error = 0.723\\nsamples = 2\\nvalue = 1086.15'),\n",
              " Text(0.477080551846907, 0.3409090909090909, 'squared_error = 0.0\\nsamples = 1\\nvalue = 1087.0'),\n",
              " Text(0.48064085447263016, 0.3409090909090909, 'squared_error = -0.0\\nsamples = 1\\nvalue = 1085.3'),\n",
              " Text(0.48064085447263016, 0.4318181818181818, 'squared_error = -0.0\\nsamples = 1\\nvalue = 1091.9'),\n",
              " Text(0.4962171784601691, 0.6590909090909091, 'x[1] <= 56.7\\nsquared_error = 3230.181\\nsamples = 14\\nvalue = 1144.793'),\n",
              " Text(0.49043168669336895, 0.6136363636363636, 'x[1] <= 9.6\\nsquared_error = 923.15\\nsamples = 10\\nvalue = 1114.03'),\n",
              " Text(0.48598130841121495, 0.5681818181818182, 'x[11] <= 5.5\\nsquared_error = 386.087\\nsamples = 4\\nvalue = 1086.85'),\n",
              " Text(0.4842011570983534, 0.5227272727272727, 'x[7] <= 254.3\\nsquared_error = 49.662\\nsamples = 3\\nvalue = 1097.633'),\n",
              " Text(0.48242100578549174, 0.4772727272727273, 'squared_error = 0.0\\nsamples = 1\\nvalue = 1107.3'),\n",
              " Text(0.48598130841121495, 0.4772727272727273, 'x[1] <= 7.75\\nsquared_error = 4.41\\nsamples = 2\\nvalue = 1092.8'),\n",
              " Text(0.4842011570983534, 0.4318181818181818, 'squared_error = 0.0\\nsamples = 1\\nvalue = 1094.9'),\n",
              " Text(0.48776145972407653, 0.4318181818181818, 'squared_error = -0.0\\nsamples = 1\\nvalue = 1090.7'),\n",
              " Text(0.48776145972407653, 0.5227272727272727, 'squared_error = 0.0\\nsamples = 1\\nvalue = 1054.5'),\n",
              " Text(0.4948820649755229, 0.5681818181818182, 'x[13] <= 85.45\\nsquared_error = 460.356\\nsamples = 6\\nvalue = 1132.15'),\n",
              " Text(0.49132176234979974, 0.5227272727272727, 'x[3] <= 12.55\\nsquared_error = 14.287\\nsamples = 3\\nvalue = 1111.3'),\n",
              " Text(0.48954161103693816, 0.4772727272727273, 'squared_error = 0.0\\nsamples = 1\\nvalue = 1116.2'),\n",
              " Text(0.4931019136626613, 0.4772727272727273, 'x[7] <= 317.85\\nsquared_error = 3.423\\nsamples = 2\\nvalue = 1108.85'),\n",
              " Text(0.49132176234979974, 0.4318181818181818, 'squared_error = 0.0\\nsamples = 1\\nvalue = 1110.7'),\n",
              " Text(0.4948820649755229, 0.4318181818181818, 'squared_error = 0.0\\nsamples = 1\\nvalue = 1107.0'),\n",
              " Text(0.4984423676012461, 0.5227272727272727, 'x[3] <= 23.1\\nsquared_error = 36.98\\nsamples = 3\\nvalue = 1153.0'),\n",
              " Text(0.49666221628838453, 0.4772727272727273, 'squared_error = 0.0\\nsamples = 1\\nvalue = 1144.4'),\n",
              " Text(0.5002225189141077, 0.4772727272727273, 'squared_error = -0.0\\nsamples = 2\\nvalue = 1157.3'),\n",
              " Text(0.5020026702269693, 0.6136363636363636, 'x[14] <= 859.9\\nsquared_error = 717.165\\nsamples = 4\\nvalue = 1221.7'),\n",
              " Text(0.5002225189141077, 0.5681818181818182, 'squared_error = 0.0\\nsamples = 1\\nvalue = 1267.0'),\n",
              " Text(0.5037828215398309, 0.5681818181818182, 'x[9] <= 29.25\\nsquared_error = 44.18\\nsamples = 3\\nvalue = 1206.6'),\n",
              " Text(0.5020026702269693, 0.5227272727272727, 'squared_error = 0.0\\nsamples = 1\\nvalue = 1197.2'),\n",
              " Text(0.5055629728526925, 0.5227272727272727, 'squared_error = -0.0\\nsamples = 2\\nvalue = 1211.3'),\n",
              " Text(0.52514463729417, 0.75, 'x[6] <= 104.45\\nsquared_error = 32161.957\\nsamples = 21\\nvalue = 1194.114'),\n",
              " Text(0.5171339563862928, 0.7045454545454546, 'x[0] <= 85.15\\nsquared_error = 11407.971\\nsamples = 7\\nvalue = 980.557'),\n",
              " Text(0.5126835781041389, 0.6590909090909091, 'x[11] <= 50.85\\nsquared_error = 3068.11\\nsamples = 5\\nvalue = 919.84'),\n",
              " Text(0.5091232754784156, 0.6136363636363636, 'x[3] <= 40.8\\nsquared_error = 441.716\\nsamples = 3\\nvalue = 877.233'),\n",
              " Text(0.507343124165554, 0.5681818181818182, 'squared_error = 0.0\\nsamples = 1\\nvalue = 850.7'),\n",
              " Text(0.5109034267912772, 0.5681818181818182, 'x[2] <= 73.9\\nsquared_error = 134.56\\nsamples = 2\\nvalue = 890.5'),\n",
              " Text(0.5091232754784156, 0.5227272727272727, 'squared_error = 0.0\\nsamples = 1\\nvalue = 902.1'),\n",
              " Text(0.5126835781041389, 0.5227272727272727, 'squared_error = 0.0\\nsamples = 1\\nvalue = 878.9'),\n",
              " Text(0.516243880729862, 0.6136363636363636, 'x[0] <= 45.85\\nsquared_error = 200.222\\nsamples = 2\\nvalue = 983.75'),\n",
              " Text(0.5144637294170005, 0.5681818181818182, 'squared_error = 0.0\\nsamples = 1\\nvalue = 997.9'),\n",
              " Text(0.5180240320427236, 0.5681818181818182, 'squared_error = -0.0\\nsamples = 1\\nvalue = 969.6'),\n",
              " Text(0.5215843346684468, 0.6590909090909091, 'x[13] <= 470.95\\nsquared_error = 0.123\\nsamples = 2\\nvalue = 1132.35'),\n",
              " Text(0.5198041833555852, 0.6136363636363636, 'squared_error = 0.0\\nsamples = 1\\nvalue = 1132.0'),\n",
              " Text(0.5233644859813084, 0.6136363636363636, 'squared_error = 0.0\\nsamples = 1\\nvalue = 1132.7'),\n",
              " Text(0.5331553182020472, 0.7045454545454546, 'x[0] <= 10.8\\nsquared_error = 8333.961\\nsamples = 14\\nvalue = 1300.893'),\n",
              " Text(0.5287049399198932, 0.6590909090909091, 'x[9] <= 196.2\\nsquared_error = 97.022\\nsamples = 2\\nvalue = 1130.55'),\n",
              " Text(0.5269247886070316, 0.6136363636363636, 'squared_error = 0.0\\nsamples = 1\\nvalue = 1140.4'),\n",
              " Text(0.5304850912327548, 0.6136363636363636, 'squared_error = -0.0\\nsamples = 1\\nvalue = 1120.7'),\n",
              " Text(0.5376056964842012, 0.6590909090909091, 'x[6] <= 249.75\\nsquared_error = 4064.65\\nsamples = 12\\nvalue = 1329.283'),\n",
              " Text(0.5340453938584779, 0.6136363636363636, 'x[5] <= 56.9\\nsquared_error = 709.012\\nsamples = 10\\nvalue = 1308.88'),\n",
              " Text(0.5322652425456164, 0.5681818181818182, 'squared_error = 0.0\\nsamples = 1\\nvalue = 1248.8'),\n",
              " Text(0.5358255451713395, 0.5681818181818182, 'x[3] <= 105.3\\nsquared_error = 342.16\\nsamples = 9\\nvalue = 1315.556'),\n",
              " Text(0.5322652425456164, 0.5227272727272727, 'x[5] <= 280.7\\nsquared_error = 49.826\\nsamples = 5\\nvalue = 1299.92'),\n",
              " Text(0.5304850912327548, 0.4772727272727273, 'x[12] <= 38.2\\nsquared_error = 4.312\\nsamples = 4\\nvalue = 1303.325'),\n",
              " Text(0.5269247886070316, 0.4318181818181818, 'x[14] <= 824.35\\nsquared_error = 0.49\\nsamples = 2\\nvalue = 1305.2'),\n",
              " Text(0.52514463729417, 0.38636363636363635, 'squared_error = 0.0\\nsamples = 1\\nvalue = 1305.9'),\n",
              " Text(0.5287049399198932, 0.38636363636363635, 'squared_error = 0.0\\nsamples = 1\\nvalue = 1304.5'),\n",
              " Text(0.5340453938584779, 0.4318181818181818, 'x[11] <= 36.55\\nsquared_error = 1.103\\nsamples = 2\\nvalue = 1301.45'),\n",
              " Text(0.5322652425456164, 0.38636363636363635, 'squared_error = 0.0\\nsamples = 1\\nvalue = 1300.4'),\n",
              " Text(0.5358255451713395, 0.38636363636363635, 'squared_error = 0.0\\nsamples = 1\\nvalue = 1302.5'),\n",
              " Text(0.5340453938584779, 0.4772727272727273, 'squared_error = -0.0\\nsamples = 1\\nvalue = 1286.3'),\n",
              " Text(0.5393858477970628, 0.5227272727272727, 'x[6] <= 139.3\\nsquared_error = 20.005\\nsamples = 4\\nvalue = 1335.1'),\n",
              " Text(0.5376056964842012, 0.4772727272727273, 'squared_error = 0.0\\nsamples = 1\\nvalue = 1328.4'),\n",
              " Text(0.5411659991099244, 0.4772727272727273, 'x[8] <= 139.75\\nsquared_error = 6.722\\nsamples = 3\\nvalue = 1337.333'),\n",
              " Text(0.5393858477970628, 0.4318181818181818, 'squared_error = 0.0\\nsamples = 2\\nvalue = 1335.5'),\n",
              " Text(0.5429461504227859, 0.4318181818181818, 'squared_error = 0.0\\nsamples = 1\\nvalue = 1341.0'),\n",
              " Text(0.5411659991099244, 0.6136363636363636, 'x[9] <= 140.0\\nsquared_error = 8353.96\\nsamples = 2\\nvalue = 1431.3'),\n",
              " Text(0.5393858477970628, 0.5681818181818182, 'squared_error = 0.0\\nsamples = 1\\nvalue = 1339.9'),\n",
              " Text(0.5429461504227859, 0.5681818181818182, 'squared_error = -0.0\\nsamples = 1\\nvalue = 1522.7'),\n",
              " Text(0.7810135736537606, 0.8863636363636364, 'x[5] <= 247.3\\nsquared_error = 85456.568\\nsamples = 158\\nvalue = 1470.556'),\n",
              " Text(0.7140631953716066, 0.8409090909090909, 'x[14] <= 1258.2\\nsquared_error = 36518.269\\nsamples = 119\\nvalue = 1344.237'),\n",
              " Text(0.6408544726301736, 0.7954545454545454, 'x[2] <= 12.8\\nsquared_error = 17092.357\\nsamples = 102\\nvalue = 1292.76'),\n",
              " Text(0.5926791277258567, 0.75, 'x[6] <= 358.8\\nsquared_error = 4374.938\\nsamples = 42\\nvalue = 1178.274'),\n",
              " Text(0.5769915442812639, 0.7045454545454546, 'x[13] <= 61.6\\nsquared_error = 840.349\\nsamples = 30\\nvalue = 1146.307'),\n",
              " Text(0.5656430796617713, 0.6590909090909091, 'x[14] <= 1021.8\\nsquared_error = 622.536\\nsamples = 24\\nvalue = 1138.663'),\n",
              " Text(0.5554072096128171, 0.6136363636363636, 'x[4] <= 21.3\\nsquared_error = 303.126\\nsamples = 13\\nvalue = 1122.223'),\n",
              " Text(0.5509568313306631, 0.5681818181818182, 'x[11] <= 9.8\\nsquared_error = 197.886\\nsamples = 8\\nvalue = 1112.488'),\n",
              " Text(0.5491766800178015, 0.5227272727272727, 'x[6] <= 309.2\\nsquared_error = 100.997\\nsamples = 7\\nvalue = 1116.443'),\n",
              " Text(0.5473965287049399, 0.4772727272727273, 'squared_error = 0.0\\nsamples = 1\\nvalue = 1095.9'),\n",
              " Text(0.5509568313306631, 0.4772727272727273, 'x[10] <= 4.2\\nsquared_error = 35.772\\nsamples = 6\\nvalue = 1119.867'),\n",
              " Text(0.5465064530485091, 0.4318181818181818, 'x[1] <= 12.75\\nsquared_error = 2.89\\nsamples = 2\\nvalue = 1112.3'),\n",
              " Text(0.5447263017356475, 0.38636363636363635, 'squared_error = 0.0\\nsamples = 1\\nvalue = 1114.0'),\n",
              " Text(0.5482866043613707, 0.38636363636363635, 'squared_error = 0.0\\nsamples = 1\\nvalue = 1110.6'),\n",
              " Text(0.5554072096128171, 0.4318181818181818, 'x[15] <= 56.1\\nsquared_error = 9.272\\nsamples = 4\\nvalue = 1123.65'),\n",
              " Text(0.5518469069870939, 0.38636363636363635, 'x[13] <= 29.25\\nsquared_error = 0.122\\nsamples = 2\\nvalue = 1126.65'),\n",
              " Text(0.5500667556742324, 0.3409090909090909, 'squared_error = 0.0\\nsamples = 1\\nvalue = 1127.0'),\n",
              " Text(0.5536270582999555, 0.3409090909090909, 'squared_error = -0.0\\nsamples = 1\\nvalue = 1126.3'),\n",
              " Text(0.5589675122385402, 0.38636363636363635, 'x[15] <= 81.5\\nsquared_error = 0.422\\nsamples = 2\\nvalue = 1120.65'),\n",
              " Text(0.5571873609256787, 0.3409090909090909, 'squared_error = 0.0\\nsamples = 1\\nvalue = 1121.3'),\n",
              " Text(0.5607476635514018, 0.3409090909090909, 'squared_error = -0.0\\nsamples = 1\\nvalue = 1120.0'),\n",
              " Text(0.5527369826435247, 0.5227272727272727, 'squared_error = -0.0\\nsamples = 1\\nvalue = 1084.8'),\n",
              " Text(0.5598575878949711, 0.5681818181818182, 'x[8] <= 209.9\\nsquared_error = 77.22\\nsamples = 5\\nvalue = 1137.8'),\n",
              " Text(0.5562972852692479, 0.5227272727272727, 'x[8] <= 201.55\\nsquared_error = 2.102\\nsamples = 2\\nvalue = 1147.15'),\n",
              " Text(0.5545171339563862, 0.4772727272727273, 'squared_error = 0.0\\nsamples = 1\\nvalue = 1145.7'),\n",
              " Text(0.5580774365821095, 0.4772727272727273, 'squared_error = -0.0\\nsamples = 1\\nvalue = 1148.6'),\n",
              " Text(0.5634178905206942, 0.5227272727272727, 'x[0] <= 15.7\\nsquared_error = 30.162\\nsamples = 3\\nvalue = 1131.567'),\n",
              " Text(0.5616377392078327, 0.4772727272727273, 'x[8] <= 230.2\\nsquared_error = 0.003\\nsamples = 2\\nvalue = 1135.45'),\n",
              " Text(0.5598575878949711, 0.4318181818181818, 'squared_error = 0.0\\nsamples = 1\\nvalue = 1135.5'),\n",
              " Text(0.5634178905206942, 0.4318181818181818, 'squared_error = 0.0\\nsamples = 1\\nvalue = 1135.4'),\n",
              " Text(0.5651980418335558, 0.4772727272727273, 'squared_error = -0.0\\nsamples = 1\\nvalue = 1123.8'),\n",
              " Text(0.5758789497107254, 0.6136363636363636, 'x[3] <= 2.35\\nsquared_error = 303.164\\nsamples = 11\\nvalue = 1158.091'),\n",
              " Text(0.5723186470850022, 0.5681818181818182, 'x[15] <= 58.65\\nsquared_error = 80.045\\nsamples = 4\\nvalue = 1142.1'),\n",
              " Text(0.5705384957721407, 0.5227272727272727, 'x[9] <= 32.2\\nsquared_error = 22.087\\nsamples = 3\\nvalue = 1146.7'),\n",
              " Text(0.5687583444592791, 0.4772727272727273, 'x[0] <= 15.35\\nsquared_error = 7.022\\nsamples = 2\\nvalue = 1143.75'),\n",
              " Text(0.5669781931464174, 0.4318181818181818, 'squared_error = 0.0\\nsamples = 1\\nvalue = 1146.4'),\n",
              " Text(0.5705384957721407, 0.4318181818181818, 'squared_error = 0.0\\nsamples = 1\\nvalue = 1141.1'),\n",
              " Text(0.5723186470850022, 0.4772727272727273, 'squared_error = 0.0\\nsamples = 1\\nvalue = 1152.6'),\n",
              " Text(0.5740987983978638, 0.5227272727272727, 'squared_error = -0.0\\nsamples = 1\\nvalue = 1128.3'),\n",
              " Text(0.5794392523364486, 0.5681818181818182, 'x[1] <= 8.15\\nsquared_error = 201.045\\nsamples = 7\\nvalue = 1167.229'),\n",
              " Text(0.577659101023587, 0.5227272727272727, 'squared_error = 0.0\\nsamples = 1\\nvalue = 1141.3'),\n",
              " Text(0.5812194036493102, 0.5227272727272727, 'x[7] <= 401.25\\nsquared_error = 103.829\\nsamples = 6\\nvalue = 1171.55'),\n",
              " Text(0.5794392523364486, 0.4772727272727273, 'x[11] <= 8.4\\nsquared_error = 20.262\\nsamples = 5\\nvalue = 1167.38'),\n",
              " Text(0.577659101023587, 0.4318181818181818, 'x[8] <= 202.5\\nsquared_error = 8.765\\nsamples = 4\\nvalue = 1169.2'),\n",
              " Text(0.5758789497107254, 0.38636363636363635, 'squared_error = 0.0\\nsamples = 1\\nvalue = 1164.6'),\n",
              " Text(0.5794392523364486, 0.38636363636363635, 'x[11] <= 5.1\\nsquared_error = 2.282\\nsamples = 3\\nvalue = 1170.733'),\n",
              " Text(0.577659101023587, 0.3409090909090909, 'squared_error = 0.0\\nsamples = 1\\nvalue = 1168.6'),\n",
              " Text(0.5812194036493102, 0.3409090909090909, 'x[4] <= 10.95\\nsquared_error = 0.01\\nsamples = 2\\nvalue = 1171.8'),\n",
              " Text(0.5794392523364486, 0.29545454545454547, 'squared_error = 0.0\\nsamples = 1\\nvalue = 1171.7'),\n",
              " Text(0.5829995549621718, 0.29545454545454547, 'squared_error = -0.0\\nsamples = 1\\nvalue = 1171.9'),\n",
              " Text(0.5812194036493102, 0.4318181818181818, 'squared_error = -0.0\\nsamples = 1\\nvalue = 1160.1'),\n",
              " Text(0.5829995549621718, 0.4772727272727273, 'squared_error = 0.0\\nsamples = 1\\nvalue = 1192.4'),\n",
              " Text(0.5883400089007566, 0.6590909090909091, 'x[12] <= 22.35\\nsquared_error = 542.935\\nsamples = 6\\nvalue = 1176.883'),\n",
              " Text(0.5847797062750334, 0.6136363636363636, 'x[9] <= 67.65\\nsquared_error = 14.823\\nsamples = 2\\nvalue = 1150.65'),\n",
              " Text(0.5829995549621718, 0.5681818181818182, 'squared_error = 0.0\\nsamples = 1\\nvalue = 1154.5'),\n",
              " Text(0.586559857587895, 0.5681818181818182, 'squared_error = -0.0\\nsamples = 1\\nvalue = 1146.8'),\n",
              " Text(0.5919003115264797, 0.6136363636363636, 'x[1] <= 11.3\\nsquared_error = 290.85\\nsamples = 4\\nvalue = 1190.0'),\n",
              " Text(0.5901201602136181, 0.5681818181818182, 'x[6] <= 303.05\\nsquared_error = 41.84\\nsamples = 3\\nvalue = 1199.3'),\n",
              " Text(0.5883400089007566, 0.5227272727272727, 'squared_error = 0.0\\nsamples = 1\\nvalue = 1207.9'),\n",
              " Text(0.5919003115264797, 0.5227272727272727, 'x[15] <= 79.35\\nsquared_error = 7.29\\nsamples = 2\\nvalue = 1195.0'),\n",
              " Text(0.5901201602136181, 0.4772727272727273, 'squared_error = 0.0\\nsamples = 1\\nvalue = 1192.3'),\n",
              " Text(0.5936804628393414, 0.4772727272727273, 'squared_error = 0.0\\nsamples = 1\\nvalue = 1197.7'),\n",
              " Text(0.5936804628393414, 0.5681818181818182, 'squared_error = 0.0\\nsamples = 1\\nvalue = 1162.1'),\n",
              " Text(0.6083667111704495, 0.7045454545454546, 'x[5] <= 165.65\\nsquared_error = 4269.801\\nsamples = 12\\nvalue = 1258.192'),\n",
              " Text(0.6008010680907877, 0.6590909090909091, 'x[1] <= 16.7\\nsquared_error = 1175.366\\nsamples = 5\\nvalue = 1189.84'),\n",
              " Text(0.5990209167779261, 0.6136363636363636, 'x[3] <= 1.0\\nsquared_error = 415.782\\nsamples = 4\\nvalue = 1175.325'),\n",
              " Text(0.5972407654650645, 0.5681818181818182, 'squared_error = 0.0\\nsamples = 1\\nvalue = 1143.7'),\n",
              " Text(0.6008010680907877, 0.5681818181818182, 'x[12] <= 21.65\\nsquared_error = 109.869\\nsamples = 3\\nvalue = 1185.867'),\n",
              " Text(0.5990209167779261, 0.5227272727272727, 'squared_error = 0.0\\nsamples = 1\\nvalue = 1200.5'),\n",
              " Text(0.6025812194036493, 0.5227272727272727, 'x[4] <= 16.05\\nsquared_error = 4.202\\nsamples = 2\\nvalue = 1178.55'),\n",
              " Text(0.6008010680907877, 0.4772727272727273, 'squared_error = 0.0\\nsamples = 1\\nvalue = 1180.6'),\n",
              " Text(0.6043613707165109, 0.4772727272727273, 'squared_error = 0.0\\nsamples = 1\\nvalue = 1176.5'),\n",
              " Text(0.6025812194036493, 0.6136363636363636, 'squared_error = 0.0\\nsamples = 1\\nvalue = 1247.9'),\n",
              " Text(0.6159323542501113, 0.6590909090909091, 'x[0] <= 11.65\\nsquared_error = 759.356\\nsamples = 7\\nvalue = 1307.014'),\n",
              " Text(0.6114819759679573, 0.6136363636363636, 'x[2] <= 10.75\\nsquared_error = 201.647\\nsamples = 4\\nvalue = 1285.375'),\n",
              " Text(0.6079216733422341, 0.5681818181818182, 'x[14] <= 1169.0\\nsquared_error = 33.64\\nsamples = 2\\nvalue = 1298.9'),\n",
              " Text(0.6061415220293725, 0.5227272727272727, 'squared_error = 0.0\\nsamples = 1\\nvalue = 1293.1'),\n",
              " Text(0.6097018246550957, 0.5227272727272727, 'squared_error = -0.0\\nsamples = 1\\nvalue = 1304.7'),\n",
              " Text(0.6150422785936804, 0.5681818181818182, 'x[8] <= 221.8\\nsquared_error = 3.803\\nsamples = 2\\nvalue = 1271.85'),\n",
              " Text(0.6132621272808189, 0.5227272727272727, 'squared_error = 0.0\\nsamples = 1\\nvalue = 1273.8'),\n",
              " Text(0.616822429906542, 0.5227272727272727, 'squared_error = 0.0\\nsamples = 1\\nvalue = 1269.9'),\n",
              " Text(0.6203827325322653, 0.6136363636363636, 'x[15] <= 83.2\\nsquared_error = 46.162\\nsamples = 3\\nvalue = 1335.867'),\n",
              " Text(0.6186025812194037, 0.5681818181818182, 'squared_error = 0.0\\nsamples = 1\\nvalue = 1326.6'),\n",
              " Text(0.6221628838451269, 0.5681818181818182, 'x[9] <= 71.65\\nsquared_error = 4.84\\nsamples = 2\\nvalue = 1340.5'),\n",
              " Text(0.6203827325322653, 0.5227272727272727, 'squared_error = 0.0\\nsamples = 1\\nvalue = 1338.3'),\n",
              " Text(0.6239430351579884, 0.5227272727272727, 'squared_error = -0.0\\nsamples = 1\\nvalue = 1342.7'),\n",
              " Text(0.6890298175344904, 0.75, 'x[14] <= 1066.45\\nsquared_error = 10397.169\\nsamples = 60\\nvalue = 1372.9'),\n",
              " Text(0.6484201157098354, 0.7045454545454546, 'x[3] <= 27.85\\nsquared_error = 5618.571\\nsamples = 16\\nvalue = 1268.244'),\n",
              " Text(0.634623943035158, 0.6590909090909091, 'x[13] <= 68.35\\nsquared_error = 1443.817\\nsamples = 9\\nvalue = 1215.878'),\n",
              " Text(0.6275033377837116, 0.6136363636363636, 'x[14] <= 983.9\\nsquared_error = 558.496\\nsamples = 3\\nvalue = 1177.233'),\n",
              " Text(0.62572318647085, 0.5681818181818182, 'squared_error = 0.0\\nsamples = 1\\nvalue = 1143.9'),\n",
              " Text(0.6292834890965732, 0.5681818181818182, 'x[8] <= 207.35\\nsquared_error = 4.41\\nsamples = 2\\nvalue = 1193.9'),\n",
              " Text(0.6275033377837116, 0.5227272727272727, 'squared_error = 0.0\\nsamples = 1\\nvalue = 1191.8'),\n",
              " Text(0.6310636404094349, 0.5227272727272727, 'squared_error = -0.0\\nsamples = 1\\nvalue = 1196.0'),\n",
              " Text(0.6417445482866043, 0.6136363636363636, 'x[10] <= 11.15\\nsquared_error = 766.433\\nsamples = 6\\nvalue = 1235.2'),\n",
              " Text(0.6364040943480196, 0.5681818181818182, 'x[9] <= 48.9\\nsquared_error = 72.847\\nsamples = 3\\nvalue = 1256.4'),\n",
              " Text(0.634623943035158, 0.5227272727272727, 'squared_error = 0.0\\nsamples = 1\\nvalue = 1268.2'),\n",
              " Text(0.6381842456608812, 0.5227272727272727, 'x[12] <= 24.45\\nsquared_error = 4.84\\nsamples = 2\\nvalue = 1250.5'),\n",
              " Text(0.6364040943480196, 0.4772727272727273, 'squared_error = 0.0\\nsamples = 1\\nvalue = 1252.7'),\n",
              " Text(0.6399643969737427, 0.4772727272727273, 'squared_error = -0.0\\nsamples = 1\\nvalue = 1248.3'),\n",
              " Text(0.6470850022251892, 0.5681818181818182, 'x[5] <= 187.55\\nsquared_error = 561.14\\nsamples = 3\\nvalue = 1214.0'),\n",
              " Text(0.6453048509123276, 0.5227272727272727, 'x[14] <= 1011.1\\nsquared_error = 0.022\\nsamples = 2\\nvalue = 1197.25'),\n",
              " Text(0.6435246995994659, 0.4772727272727273, 'squared_error = 0.0\\nsamples = 1\\nvalue = 1197.1'),\n",
              " Text(0.6470850022251892, 0.4772727272727273, 'squared_error = 0.0\\nsamples = 1\\nvalue = 1197.4'),\n",
              " Text(0.6488651535380507, 0.5227272727272727, 'squared_error = 0.0\\nsamples = 1\\nvalue = 1247.5'),\n",
              " Text(0.6622162883845126, 0.6590909090909091, 'x[12] <= 41.75\\nsquared_error = 2927.416\\nsamples = 7\\nvalue = 1335.571'),\n",
              " Text(0.6577659101023587, 0.6136363636363636, 'x[6] <= 293.9\\nsquared_error = 657.65\\nsamples = 5\\nvalue = 1305.46'),\n",
              " Text(0.6542056074766355, 0.5681818181818182, 'x[8] <= 219.9\\nsquared_error = 241.802\\nsamples = 2\\nvalue = 1277.15'),\n",
              " Text(0.6524254561637739, 0.5227272727272727, 'squared_error = 0.0\\nsamples = 1\\nvalue = 1261.6'),\n",
              " Text(0.655985758789497, 0.5227272727272727, 'squared_error = -0.0\\nsamples = 1\\nvalue = 1292.7'),\n",
              " Text(0.6613262127280819, 0.5681818181818182, 'x[8] <= 246.7\\nsquared_error = 44.376\\nsamples = 3\\nvalue = 1324.333'),\n",
              " Text(0.6595460614152203, 0.5227272727272727, 'x[7] <= 278.6\\nsquared_error = 4.0\\nsamples = 2\\nvalue = 1328.9'),\n",
              " Text(0.6577659101023587, 0.4772727272727273, 'squared_error = 0.0\\nsamples = 1\\nvalue = 1326.9'),\n",
              " Text(0.6613262127280819, 0.4772727272727273, 'squared_error = 0.0\\nsamples = 1\\nvalue = 1330.9'),\n",
              " Text(0.6631063640409435, 0.5227272727272727, 'squared_error = -0.0\\nsamples = 1\\nvalue = 1315.2'),\n",
              " Text(0.6666666666666666, 0.6136363636363636, 'x[2] <= 46.65\\nsquared_error = 668.223\\nsamples = 2\\nvalue = 1410.85'),\n",
              " Text(0.664886515353805, 0.5681818181818182, 'squared_error = 0.0\\nsamples = 1\\nvalue = 1436.7'),\n",
              " Text(0.6684468179795282, 0.5681818181818182, 'squared_error = 0.0\\nsamples = 1\\nvalue = 1385.0'),\n",
              " Text(0.7296395193591455, 0.7045454545454546, 'x[2] <= 25.65\\nsquared_error = 6703.636\\nsamples = 44\\nvalue = 1410.957'),\n",
              " Text(0.7021584334668447, 0.6590909090909091, 'x[8] <= 228.55\\nsquared_error = 2548.362\\nsamples = 30\\nvalue = 1368.967'),\n",
              " Text(0.6824655095683133, 0.6136363636363636, 'x[14] <= 1145.7\\nsquared_error = 1594.407\\nsamples = 16\\nvalue = 1337.712'),\n",
              " Text(0.6720071206052515, 0.5681818181818182, 'x[2] <= 24.1\\nsquared_error = 1019.556\\nsamples = 6\\nvalue = 1301.85'),\n",
              " Text(0.6702269692923899, 0.5227272727272727, 'x[0] <= 12.15\\nsquared_error = 355.142\\nsamples = 5\\nvalue = 1289.82'),\n",
              " Text(0.6666666666666666, 0.4772727272727273, 'x[0] <= 10.05\\nsquared_error = 12.603\\nsamples = 2\\nvalue = 1268.45'),\n",
              " Text(0.664886515353805, 0.4318181818181818, 'squared_error = 0.0\\nsamples = 1\\nvalue = 1264.9'),\n",
              " Text(0.6684468179795282, 0.4318181818181818, 'squared_error = 0.0\\nsamples = 1\\nvalue = 1272.0'),\n",
              " Text(0.673787271918113, 0.4772727272727273, 'x[8] <= 202.7\\nsquared_error = 76.082\\nsamples = 3\\nvalue = 1304.067'),\n",
              " Text(0.6720071206052515, 0.4318181818181818, 'squared_error = 0.0\\nsamples = 1\\nvalue = 1292.7'),\n",
              " Text(0.6755674232309746, 0.4318181818181818, 'x[1] <= 20.4\\nsquared_error = 17.223\\nsamples = 2\\nvalue = 1309.75'),\n",
              " Text(0.673787271918113, 0.38636363636363635, 'squared_error = 0.0\\nsamples = 1\\nvalue = 1313.9'),\n",
              " Text(0.6773475745438362, 0.38636363636363635, 'squared_error = 0.0\\nsamples = 1\\nvalue = 1305.6'),\n",
              " Text(0.673787271918113, 0.5227272727272727, 'squared_error = -0.0\\nsamples = 1\\nvalue = 1362.0'),\n",
              " Text(0.6929238985313751, 0.5681818181818182, 'x[7] <= 425.0\\nsquared_error = 704.644\\nsamples = 10\\nvalue = 1359.23'),\n",
              " Text(0.6871384067645749, 0.5227272727272727, 'x[2] <= 15.2\\nsquared_error = 338.567\\nsamples = 8\\nvalue = 1348.85'),\n",
              " Text(0.6809078771695594, 0.4772727272727273, 'x[10] <= 7.2\\nsquared_error = 79.896\\nsamples = 3\\nvalue = 1328.133'),\n",
              " Text(0.6791277258566978, 0.4318181818181818, 'squared_error = 0.0\\nsamples = 1\\nvalue = 1315.8'),\n",
              " Text(0.682688028482421, 0.4318181818181818, 'x[1] <= 17.25\\nsquared_error = 5.76\\nsamples = 2\\nvalue = 1334.3'),\n",
              " Text(0.6809078771695594, 0.38636363636363635, 'squared_error = 0.0\\nsamples = 1\\nvalue = 1331.9'),\n",
              " Text(0.6844681797952826, 0.38636363636363635, 'squared_error = -0.0\\nsamples = 1\\nvalue = 1336.7'),\n",
              " Text(0.6933689363595905, 0.4772727272727273, 'x[1] <= 16.1\\nsquared_error = 81.758\\nsamples = 5\\nvalue = 1361.28'),\n",
              " Text(0.6898086337338674, 0.4318181818181818, 'x[14] <= 1164.15\\nsquared_error = 14.762\\nsamples = 3\\nvalue = 1368.033'),\n",
              " Text(0.6880284824210058, 0.38636363636363635, 'squared_error = 0.0\\nsamples = 1\\nvalue = 1362.6'),\n",
              " Text(0.6915887850467289, 0.38636363636363635, 'x[10] <= 12.15\\nsquared_error = 0.002\\nsamples = 2\\nvalue = 1370.75'),\n",
              " Text(0.6898086337338674, 0.3409090909090909, 'squared_error = 0.0\\nsamples = 1\\nvalue = 1370.7'),\n",
              " Text(0.6933689363595905, 0.3409090909090909, 'squared_error = -0.0\\nsamples = 1\\nvalue = 1370.8'),\n",
              " Text(0.6969292389853138, 0.4318181818181818, 'x[5] <= 197.25\\nsquared_error = 11.223\\nsamples = 2\\nvalue = 1351.15'),\n",
              " Text(0.6951490876724522, 0.38636363636363635, 'squared_error = 0.0\\nsamples = 1\\nvalue = 1354.5'),\n",
              " Text(0.6987093902981754, 0.38636363636363635, 'squared_error = -0.0\\nsamples = 1\\nvalue = 1347.8'),\n",
              " Text(0.6987093902981754, 0.5227272727272727, 'x[7] <= 434.1\\nsquared_error = 14.062\\nsamples = 2\\nvalue = 1400.75'),\n",
              " Text(0.6969292389853138, 0.4772727272727273, 'squared_error = 0.0\\nsamples = 1\\nvalue = 1404.5'),\n",
              " Text(0.7004895416110369, 0.4772727272727273, 'squared_error = 0.0\\nsamples = 1\\nvalue = 1397.0'),\n",
              " Text(0.7218513573653761, 0.6136363636363636, 'x[10] <= 12.55\\nsquared_error = 1246.376\\nsamples = 14\\nvalue = 1404.686'),\n",
              " Text(0.7120605251446372, 0.5681818181818182, 'x[4] <= 48.95\\nsquared_error = 266.394\\nsamples = 8\\nvalue = 1383.788'),\n",
              " Text(0.7058299955496217, 0.5227272727272727, 'x[6] <= 368.75\\nsquared_error = 25.037\\nsamples = 4\\nvalue = 1395.725'),\n",
              " Text(0.7040498442367601, 0.4772727272727273, 'squared_error = 0.0\\nsamples = 1\\nvalue = 1403.2'),\n",
              " Text(0.7076101468624834, 0.4772727272727273, 'x[13] <= 64.0\\nsquared_error = 8.549\\nsamples = 3\\nvalue = 1393.233'),\n",
              " Text(0.7058299955496217, 0.4318181818181818, 'x[6] <= 386.45\\nsquared_error = 0.01\\nsamples = 2\\nvalue = 1395.3'),\n",
              " Text(0.7040498442367601, 0.38636363636363635, 'squared_error = 0.0\\nsamples = 1\\nvalue = 1395.4'),\n",
              " Text(0.7076101468624834, 0.38636363636363635, 'squared_error = -0.0\\nsamples = 1\\nvalue = 1395.2'),\n",
              " Text(0.7093902981753449, 0.4318181818181818, 'squared_error = -0.0\\nsamples = 1\\nvalue = 1389.1'),\n",
              " Text(0.7182910547396528, 0.5227272727272727, 'x[4] <= 60.2\\nsquared_error = 222.743\\nsamples = 4\\nvalue = 1371.85'),\n",
              " Text(0.7147307521139297, 0.4772727272727273, 'x[5] <= 220.8\\nsquared_error = 4.84\\nsamples = 2\\nvalue = 1357.4'),\n",
              " Text(0.7129506008010681, 0.4318181818181818, 'squared_error = 0.0\\nsamples = 1\\nvalue = 1355.2'),\n",
              " Text(0.7165109034267912, 0.4318181818181818, 'squared_error = -0.0\\nsamples = 1\\nvalue = 1359.6'),\n",
              " Text(0.7218513573653761, 0.4772727272727273, 'x[13] <= 126.15\\nsquared_error = 23.04\\nsamples = 2\\nvalue = 1386.3'),\n",
              " Text(0.7200712060525145, 0.4318181818181818, 'squared_error = 0.0\\nsamples = 1\\nvalue = 1381.5'),\n",
              " Text(0.7236315086782377, 0.4318181818181818, 'squared_error = 0.0\\nsamples = 1\\nvalue = 1391.1'),\n",
              " Text(0.7316421895861148, 0.5681818181818182, 'x[3] <= 21.45\\nsquared_error = 1194.286\\nsamples = 6\\nvalue = 1432.55'),\n",
              " Text(0.7271918113039608, 0.5227272727272727, 'x[10] <= 14.8\\nsquared_error = 11.56\\nsamples = 2\\nvalue = 1479.4'),\n",
              " Text(0.7254116599910992, 0.4772727272727273, 'squared_error = 0.0\\nsamples = 1\\nvalue = 1476.0'),\n",
              " Text(0.7289719626168224, 0.4772727272727273, 'squared_error = -0.0\\nsamples = 1\\nvalue = 1482.8'),\n",
              " Text(0.7360925678682688, 0.5227272727272727, 'x[0] <= 13.5\\nsquared_error = 139.457\\nsamples = 4\\nvalue = 1409.125'),\n",
              " Text(0.7325322652425457, 0.4772727272727273, 'x[1] <= 15.55\\nsquared_error = 26.01\\nsamples = 2\\nvalue = 1397.9'),\n",
              " Text(0.730752113929684, 0.4318181818181818, 'squared_error = 0.0\\nsamples = 1\\nvalue = 1403.0'),\n",
              " Text(0.7343124165554072, 0.4318181818181818, 'squared_error = -0.0\\nsamples = 1\\nvalue = 1392.8'),\n",
              " Text(0.739652870493992, 0.4772727272727273, 'x[1] <= 15.45\\nsquared_error = 0.903\\nsamples = 2\\nvalue = 1420.35'),\n",
              " Text(0.7378727191811304, 0.4318181818181818, 'squared_error = 0.0\\nsamples = 1\\nvalue = 1419.4'),\n",
              " Text(0.7414330218068536, 0.4318181818181818, 'squared_error = 0.0\\nsamples = 1\\nvalue = 1421.3'),\n",
              " Text(0.7571206052514464, 0.6590909090909091, 'x[13] <= 202.8\\nsquared_error = 3733.367\\nsamples = 14\\nvalue = 1500.936'),\n",
              " Text(0.7518914107699154, 0.6136363636363636, 'x[6] <= 299.05\\nsquared_error = 1892.695\\nsamples = 12\\nvalue = 1482.283'),\n",
              " Text(0.7467734757454384, 0.5681818181818182, 'x[13] <= 189.15\\nsquared_error = 557.262\\nsamples = 3\\nvalue = 1537.667'),\n",
              " Text(0.7449933244325768, 0.5227272727272727, 'x[3] <= 34.55\\nsquared_error = 148.84\\nsamples = 2\\nvalue = 1552.8'),\n",
              " Text(0.7432131731197151, 0.4772727272727273, 'squared_error = 0.0\\nsamples = 1\\nvalue = 1540.6'),\n",
              " Text(0.7467734757454384, 0.4772727272727273, 'squared_error = -0.0\\nsamples = 1\\nvalue = 1565.0'),\n",
              " Text(0.7485536270583, 0.5227272727272727, 'squared_error = -0.0\\nsamples = 1\\nvalue = 1507.4'),\n",
              " Text(0.7570093457943925, 0.5681818181818182, 'x[14] <= 1083.45\\nsquared_error = 974.588\\nsamples = 9\\nvalue = 1463.822'),\n",
              " Text(0.7521139296840231, 0.5227272727272727, 'x[6] <= 350.45\\nsquared_error = 22.563\\nsamples = 2\\nvalue = 1423.45'),\n",
              " Text(0.7503337783711616, 0.4772727272727273, 'squared_error = 0.0\\nsamples = 1\\nvalue = 1418.7'),\n",
              " Text(0.7538940809968847, 0.4772727272727273, 'squared_error = 0.0\\nsamples = 1\\nvalue = 1428.2'),\n",
              " Text(0.7619047619047619, 0.5227272727272727, 'x[13] <= 143.65\\nsquared_error = 647.851\\nsamples = 7\\nvalue = 1475.357'),\n",
              " Text(0.757454383622608, 0.4772727272727273, 'x[11] <= 4.35\\nsquared_error = 84.398\\nsamples = 5\\nvalue = 1460.18'),\n",
              " Text(0.7538940809968847, 0.4318181818181818, 'x[9] <= 133.4\\nsquared_error = 0.81\\nsamples = 2\\nvalue = 1449.2'),\n",
              " Text(0.7521139296840231, 0.38636363636363635, 'squared_error = 0.0\\nsamples = 1\\nvalue = 1448.3'),\n",
              " Text(0.7556742323097463, 0.38636363636363635, 'squared_error = 0.0\\nsamples = 1\\nvalue = 1450.1'),\n",
              " Text(0.7610146862483311, 0.4318181818181818, 'x[3] <= 25.15\\nsquared_error = 6.167\\nsamples = 3\\nvalue = 1467.5'),\n",
              " Text(0.7592345349354696, 0.38636363636363635, 'squared_error = 0.0\\nsamples = 1\\nvalue = 1464.0'),\n",
              " Text(0.7627948375611927, 0.38636363636363635, 'x[10] <= 35.5\\nsquared_error = 0.062\\nsamples = 2\\nvalue = 1469.25'),\n",
              " Text(0.7610146862483311, 0.3409090909090909, 'squared_error = 0.0\\nsamples = 1\\nvalue = 1469.0'),\n",
              " Text(0.7645749888740543, 0.3409090909090909, 'squared_error = 0.0\\nsamples = 1\\nvalue = 1469.5'),\n",
              " Text(0.7663551401869159, 0.4772727272727273, 'x[10] <= 27.75\\nsquared_error = 40.96\\nsamples = 2\\nvalue = 1513.3'),\n",
              " Text(0.7645749888740543, 0.4318181818181818, 'squared_error = 0.0\\nsamples = 1\\nvalue = 1506.9'),\n",
              " Text(0.7681352914997774, 0.4318181818181818, 'squared_error = 0.0\\nsamples = 1\\nvalue = 1519.7'),\n",
              " Text(0.7623497997329773, 0.6136363636363636, 'x[7] <= 367.3\\nsquared_error = 165.122\\nsamples = 2\\nvalue = 1612.85'),\n",
              " Text(0.7605696484201158, 0.5681818181818182, 'squared_error = 0.0\\nsamples = 1\\nvalue = 1600.0'),\n",
              " Text(0.7641299510458389, 0.5681818181818182, 'squared_error = 0.0\\nsamples = 1\\nvalue = 1625.7'),\n",
              " Text(0.7872719181130396, 0.7954545454545454, 'x[7] <= 471.9\\nsquared_error = 41777.981\\nsamples = 17\\nvalue = 1653.1'),\n",
              " Text(0.7801513128615932, 0.75, 'x[3] <= 19.6\\nsquared_error = 7521.179\\nsamples = 14\\nvalue = 1566.779'),\n",
              " Text(0.7712505562972852, 0.7045454545454546, 'x[14] <= 1325.8\\nsquared_error = 3074.681\\nsamples = 6\\nvalue = 1487.983'),\n",
              " Text(0.7676902536715621, 0.6590909090909091, 'x[15] <= 71.4\\nsquared_error = 1130.96\\nsamples = 3\\nvalue = 1438.0'),\n",
              " Text(0.7659101023587005, 0.6136363636363636, 'squared_error = 0.0\\nsamples = 1\\nvalue = 1392.2'),\n",
              " Text(0.7694704049844237, 0.6136363636363636, 'x[6] <= 450.5\\nsquared_error = 123.21\\nsamples = 2\\nvalue = 1460.9'),\n",
              " Text(0.7676902536715621, 0.5681818181818182, 'squared_error = 0.0\\nsamples = 1\\nvalue = 1472.0'),\n",
              " Text(0.7712505562972852, 0.5681818181818182, 'squared_error = -0.0\\nsamples = 1\\nvalue = 1449.8'),\n",
              " Text(0.7748108589230085, 0.6590909090909091, 'x[14] <= 1354.85\\nsquared_error = 21.736\\nsamples = 3\\nvalue = 1537.967'),\n",
              " Text(0.7730307076101469, 0.6136363636363636, 'squared_error = 0.0\\nsamples = 1\\nvalue = 1544.4'),\n",
              " Text(0.7765910102358701, 0.6136363636363636, 'x[4] <= 20.25\\nsquared_error = 1.563\\nsamples = 2\\nvalue = 1534.75'),\n",
              " Text(0.7748108589230085, 0.5681818181818182, 'squared_error = 0.0\\nsamples = 1\\nvalue = 1536.0'),\n",
              " Text(0.7783711615487316, 0.5681818181818182, 'squared_error = 0.0\\nsamples = 1\\nvalue = 1533.5'),\n",
              " Text(0.7890520694259012, 0.7045454545454546, 'x[2] <= 35.7\\nsquared_error = 2707.147\\nsamples = 8\\nvalue = 1625.875'),\n",
              " Text(0.7872719181130396, 0.6590909090909091, 'x[13] <= 110.2\\nsquared_error = 827.314\\nsamples = 7\\nvalue = 1609.043'),\n",
              " Text(0.7837116154873164, 0.6136363636363636, 'x[8] <= 255.95\\nsquared_error = 0.04\\nsamples = 2\\nvalue = 1572.9'),\n",
              " Text(0.7819314641744548, 0.5681818181818182, 'squared_error = 0.0\\nsamples = 1\\nvalue = 1572.7'),\n",
              " Text(0.7854917668001781, 0.5681818181818182, 'squared_error = 0.0\\nsamples = 1\\nvalue = 1573.1'),\n",
              " Text(0.7908322207387628, 0.6136363636363636, 'x[11] <= 2.25\\nsquared_error = 426.692\\nsamples = 5\\nvalue = 1623.5'),\n",
              " Text(0.7890520694259012, 0.5681818181818182, 'squared_error = 0.0\\nsamples = 1\\nvalue = 1660.5'),\n",
              " Text(0.7926123720516244, 0.5681818181818182, 'x[7] <= 338.9\\nsquared_error = 105.553\\nsamples = 4\\nvalue = 1614.25'),\n",
              " Text(0.7908322207387628, 0.5227272727272727, 'squared_error = 0.0\\nsamples = 1\\nvalue = 1598.2'),\n",
              " Text(0.794392523364486, 0.5227272727272727, 'x[8] <= 304.2\\nsquared_error = 26.247\\nsamples = 3\\nvalue = 1619.6'),\n",
              " Text(0.7926123720516244, 0.4772727272727273, 'x[4] <= 70.95\\nsquared_error = 0.49\\nsamples = 2\\nvalue = 1623.2'),\n",
              " Text(0.7908322207387628, 0.4318181818181818, 'squared_error = 0.0\\nsamples = 1\\nvalue = 1623.9'),\n",
              " Text(0.794392523364486, 0.4318181818181818, 'squared_error = 0.0\\nsamples = 1\\nvalue = 1622.5'),\n",
              " Text(0.7961726746773475, 0.4772727272727273, 'squared_error = -0.0\\nsamples = 1\\nvalue = 1612.4'),\n",
              " Text(0.7908322207387628, 0.6590909090909091, 'squared_error = -0.0\\nsamples = 1\\nvalue = 1743.7'),\n",
              " Text(0.794392523364486, 0.75, 'x[10] <= 14.75\\nsquared_error = 4595.216\\nsamples = 3\\nvalue = 2055.933'),\n",
              " Text(0.7926123720516244, 0.7045454545454546, 'squared_error = 0.0\\nsamples = 1\\nvalue = 2150.9'),\n",
              " Text(0.7961726746773475, 0.7045454545454546, 'x[12] <= 201.1\\nsquared_error = 128.823\\nsamples = 2\\nvalue = 2008.45'),\n",
              " Text(0.794392523364486, 0.6590909090909091, 'squared_error = 0.0\\nsamples = 1\\nvalue = 2019.8'),\n",
              " Text(0.7979528259902091, 0.6590909090909091, 'squared_error = 0.0\\nsamples = 1\\nvalue = 1997.1'),\n",
              " Text(0.8479639519359146, 0.8409090909090909, 'x[2] <= 62.15\\nsquared_error = 37534.178\\nsamples = 39\\nvalue = 1855.99'),\n",
              " Text(0.834334668446818, 0.7954545454545454, 'x[14] <= 1533.3\\nsquared_error = 28019.178\\nsamples = 28\\nvalue = 1783.261'),\n",
              " Text(0.8226524254561638, 0.75, 'x[3] <= 83.2\\nsquared_error = 14511.518\\nsamples = 22\\nvalue = 1718.582'),\n",
              " Text(0.8126390743213173, 0.7045454545454546, 'x[14] <= 1370.75\\nsquared_error = 6648.268\\nsamples = 13\\nvalue = 1646.377'),\n",
              " Text(0.8059635068980864, 0.6590909090909091, 'x[14] <= 1174.95\\nsquared_error = 3515.053\\nsamples = 10\\nvalue = 1615.45'),\n",
              " Text(0.8015131286159324, 0.6136363636363636, 'x[15] <= 259.4\\nsquared_error = 511.307\\nsamples = 4\\nvalue = 1562.525'),\n",
              " Text(0.7997329773030708, 0.5681818181818182, 'x[10] <= 27.7\\nsquared_error = 57.576\\nsamples = 3\\nvalue = 1550.033'),\n",
              " Text(0.7979528259902091, 0.5227272727272727, 'squared_error = 0.0\\nsamples = 1\\nvalue = 1559.8'),\n",
              " Text(0.8015131286159324, 0.5227272727272727, 'x[1] <= 32.25\\nsquared_error = 14.822\\nsamples = 2\\nvalue = 1545.15'),\n",
              " Text(0.7997329773030708, 0.4772727272727273, 'squared_error = 0.0\\nsamples = 1\\nvalue = 1541.3'),\n",
              " Text(0.803293279928794, 0.4772727272727273, 'squared_error = -0.0\\nsamples = 1\\nvalue = 1549.0'),\n",
              " Text(0.803293279928794, 0.5681818181818182, 'squared_error = 0.0\\nsamples = 1\\nvalue = 1600.0'),\n",
              " Text(0.8104138851802403, 0.6136363636363636, 'x[4] <= 96.65\\nsquared_error = 2405.266\\nsamples = 6\\nvalue = 1650.733'),\n",
              " Text(0.8086337338673787, 0.5681818181818182, 'squared_error = 0.0\\nsamples = 1\\nvalue = 1553.7'),\n",
              " Text(0.812194036493102, 0.5681818181818182, 'x[12] <= 37.85\\nsquared_error = 626.606\\nsamples = 5\\nvalue = 1670.14'),\n",
              " Text(0.8086337338673787, 0.5227272727272727, 'x[9] <= 101.55\\nsquared_error = 254.469\\nsamples = 3\\nvalue = 1654.167'),\n",
              " Text(0.8068535825545171, 0.4772727272727273, 'squared_error = 0.0\\nsamples = 1\\nvalue = 1632.2'),\n",
              " Text(0.8104138851802403, 0.4772727272727273, 'x[5] <= 266.6\\nsquared_error = 19.802\\nsamples = 2\\nvalue = 1665.15'),\n",
              " Text(0.8086337338673787, 0.4318181818181818, 'squared_error = 0.0\\nsamples = 1\\nvalue = 1669.6'),\n",
              " Text(0.812194036493102, 0.4318181818181818, 'squared_error = 0.0\\nsamples = 1\\nvalue = 1660.7'),\n",
              " Text(0.8157543391188251, 0.5227272727272727, 'x[3] <= 56.15\\nsquared_error = 228.01\\nsamples = 2\\nvalue = 1694.1'),\n",
              " Text(0.8139741878059635, 0.4772727272727273, 'squared_error = 0.0\\nsamples = 1\\nvalue = 1709.2'),\n",
              " Text(0.8175344904316867, 0.4772727272727273, 'squared_error = 0.0\\nsamples = 1\\nvalue = 1679.0'),\n",
              " Text(0.8193146417445483, 0.6590909090909091, 'x[10] <= 26.85\\nsquared_error = 3276.576\\nsamples = 3\\nvalue = 1749.467'),\n",
              " Text(0.8175344904316867, 0.6136363636363636, 'x[11] <= 6.6\\nsquared_error = 301.023\\nsamples = 2\\nvalue = 1710.25'),\n",
              " Text(0.8157543391188251, 0.5681818181818182, 'squared_error = 0.0\\nsamples = 1\\nvalue = 1727.6'),\n",
              " Text(0.8193146417445483, 0.5681818181818182, 'squared_error = 0.0\\nsamples = 1\\nvalue = 1692.9'),\n",
              " Text(0.8210947930574098, 0.6136363636363636, 'squared_error = 0.0\\nsamples = 1\\nvalue = 1827.9'),\n",
              " Text(0.8326657765910103, 0.7045454545454546, 'x[11] <= 11.7\\nsquared_error = 7461.22\\nsamples = 9\\nvalue = 1822.878'),\n",
              " Text(0.8282153983088563, 0.6590909090909091, 'x[11] <= 7.85\\nsquared_error = 3381.969\\nsamples = 7\\nvalue = 1786.4'),\n",
              " Text(0.8246550956831331, 0.6136363636363636, 'x[6] <= 355.25\\nsquared_error = 31.19\\nsamples = 5\\nvalue = 1820.24'),\n",
              " Text(0.8228749443702714, 0.5681818181818182, 'squared_error = 0.0\\nsamples = 2\\nvalue = 1813.4'),\n",
              " Text(0.8264352469959947, 0.5681818181818182, 'squared_error = -0.0\\nsamples = 3\\nvalue = 1824.8'),\n",
              " Text(0.8317757009345794, 0.6136363636363636, 'x[5] <= 298.0\\nsquared_error = 1738.89\\nsamples = 2\\nvalue = 1701.8'),\n",
              " Text(0.8299955496217178, 0.5681818181818182, 'squared_error = 0.0\\nsamples = 1\\nvalue = 1660.1'),\n",
              " Text(0.833555852247441, 0.5681818181818182, 'squared_error = 0.0\\nsamples = 1\\nvalue = 1743.5'),\n",
              " Text(0.8371161548731643, 0.6590909090909091, 'x[15] <= 185.5\\nsquared_error = 781.202\\nsamples = 2\\nvalue = 1950.55'),\n",
              " Text(0.8353360035603026, 0.6136363636363636, 'squared_error = 0.0\\nsamples = 1\\nvalue = 1978.5'),\n",
              " Text(0.8388963061860258, 0.6136363636363636, 'squared_error = 0.0\\nsamples = 1\\nvalue = 1922.6'),\n",
              " Text(0.8460169114374722, 0.75, 'x[0] <= 0.65\\nsquared_error = 5965.335\\nsamples = 6\\nvalue = 2020.417'),\n",
              " Text(0.8442367601246106, 0.7045454545454546, 'squared_error = 0.0\\nsamples = 1\\nvalue = 1866.4'),\n",
              " Text(0.8477970627503337, 0.7045454545454546, 'x[1] <= 0.9\\nsquared_error = 1465.33\\nsamples = 5\\nvalue = 2051.22'),\n",
              " Text(0.8442367601246106, 0.6590909090909091, 'x[15] <= 112.75\\nsquared_error = 208.803\\nsamples = 2\\nvalue = 2007.25'),\n",
              " Text(0.842456608811749, 0.6136363636363636, 'squared_error = 0.0\\nsamples = 1\\nvalue = 2021.7'),\n",
              " Text(0.8460169114374722, 0.6136363636363636, 'squared_error = 0.0\\nsamples = 1\\nvalue = 1992.8'),\n",
              " Text(0.851357365376057, 0.6590909090909091, 'x[8] <= 360.75\\nsquared_error = 154.836\\nsamples = 3\\nvalue = 2080.533'),\n",
              " Text(0.8495772140631954, 0.6136363636363636, 'x[1] <= 17.45\\nsquared_error = 1.69\\nsamples = 2\\nvalue = 2089.3'),\n",
              " Text(0.8477970627503337, 0.5681818181818182, 'squared_error = 0.0\\nsamples = 1\\nvalue = 2090.6'),\n",
              " Text(0.851357365376057, 0.5681818181818182, 'squared_error = -0.0\\nsamples = 1\\nvalue = 2088.0'),\n",
              " Text(0.8531375166889186, 0.6136363636363636, 'squared_error = 0.0\\nsamples = 1\\nvalue = 2063.0'),\n",
              " Text(0.8615932354250111, 0.7954545454545454, 'x[11] <= 10.5\\nsquared_error = 14017.429\\nsamples = 11\\nvalue = 2041.118'),\n",
              " Text(0.8566978193146417, 0.75, 'x[15] <= 157.6\\nsquared_error = 190.44\\nsamples = 2\\nvalue = 1825.4'),\n",
              " Text(0.8549176680017802, 0.7045454545454546, 'squared_error = 0.0\\nsamples = 1\\nvalue = 1811.6'),\n",
              " Text(0.8584779706275033, 0.7045454545454546, 'squared_error = -0.0\\nsamples = 1\\nvalue = 1839.2'),\n",
              " Text(0.8664886515353805, 0.75, 'x[8] <= 279.7\\nsquared_error = 4451.138\\nsamples = 9\\nvalue = 2089.056'),\n",
              " Text(0.8620382732532266, 0.7045454545454546, 'x[7] <= 301.55\\nsquared_error = 1395.928\\nsamples = 7\\nvalue = 2058.771'),\n",
              " Text(0.8584779706275033, 0.6590909090909091, 'x[6] <= 319.4\\nsquared_error = 712.89\\nsamples = 2\\nvalue = 2004.2'),\n",
              " Text(0.8566978193146417, 0.6136363636363636, 'squared_error = 0.0\\nsamples = 1\\nvalue = 1977.5'),\n",
              " Text(0.8602581219403649, 0.6136363636363636, 'squared_error = 0.0\\nsamples = 1\\nvalue = 2030.9'),\n",
              " Text(0.8655985758789497, 0.6590909090909091, 'x[13] <= 515.35\\nsquared_error = 1.44\\nsamples = 5\\nvalue = 2080.6'),\n",
              " Text(0.8638184245660881, 0.6136363636363636, 'squared_error = 0.0\\nsamples = 4\\nvalue = 2080.0'),\n",
              " Text(0.8673787271918113, 0.6136363636363636, 'squared_error = 0.0\\nsamples = 1\\nvalue = 2083.0'),\n",
              " Text(0.8709390298175345, 0.7045454545454546, 'x[14] <= 1304.5\\nsquared_error = 699.603\\nsamples = 2\\nvalue = 2195.05'),\n",
              " Text(0.8691588785046729, 0.6590909090909091, 'squared_error = 0.0\\nsamples = 1\\nvalue = 2221.5'),\n",
              " Text(0.872719181130396, 0.6590909090909091, 'squared_error = -0.0\\nsamples = 1\\nvalue = 2168.6'),\n",
              " Text(0.9523531375166889, 0.9318181818181818, 'x[14] <= 4190.75\\nsquared_error = 676943.311\\nsamples = 71\\nvalue = 3034.03'),\n",
              " Text(0.9340787716955942, 0.8863636363636364, 'x[5] <= 612.3\\nsquared_error = 288039.147\\nsamples = 69\\nvalue = 2927.836'),\n",
              " Text(0.9028704939919893, 0.8409090909090909, 'x[0] <= 27.15\\nsquared_error = 102197.164\\nsamples = 42\\nvalue = 2598.174'),\n",
              " Text(0.8885180240320427, 0.7954545454545454, 'x[14] <= 1295.7\\nsquared_error = 55819.434\\nsamples = 30\\nvalue = 2473.983'),\n",
              " Text(0.8867378727191811, 0.75, 'squared_error = 0.0\\nsamples = 2\\nvalue = 1957.8'),\n",
              " Text(0.8902981753449043, 0.75, 'x[9] <= 178.75\\nsquared_error = 39415.32\\nsamples = 28\\nvalue = 2510.854'),\n",
              " Text(0.8811748998664887, 0.7045454545454546, 'x[4] <= 386.15\\nsquared_error = 21501.903\\nsamples = 19\\nvalue = 2434.784'),\n",
              " Text(0.8762794837561193, 0.6590909090909091, 'x[8] <= 197.7\\nsquared_error = 15541.495\\nsamples = 16\\nvalue = 2396.087'),\n",
              " Text(0.8744993324432577, 0.6136363636363636, 'squared_error = 0.0\\nsamples = 1\\nvalue = 2077.5'),\n",
              " Text(0.8780596350689809, 0.6136363636363636, 'x[5] <= 535.05\\nsquared_error = 9359.959\\nsamples = 15\\nvalue = 2417.327'),\n",
              " Text(0.8736092567868269, 0.5681818181818182, 'x[6] <= 436.7\\nsquared_error = 6130.427\\nsamples = 12\\nvalue = 2449.025'),\n",
              " Text(0.8700489541611037, 0.5227272727272727, 'x[13] <= 562.1\\nsquared_error = 642.622\\nsamples = 2\\nvalue = 2312.05'),\n",
              " Text(0.8682688028482421, 0.4772727272727273, 'squared_error = 0.0\\nsamples = 1\\nvalue = 2337.4'),\n",
              " Text(0.8718291054739653, 0.4772727272727273, 'squared_error = -0.0\\nsamples = 1\\nvalue = 2286.7'),\n",
              " Text(0.87716955941255, 0.5227272727272727, 'x[4] <= 10.65\\nsquared_error = 2725.072\\nsamples = 10\\nvalue = 2476.42'),\n",
              " Text(0.8753894080996885, 0.4772727272727273, 'squared_error = 0.0\\nsamples = 1\\nvalue = 2374.1'),\n",
              " Text(0.8789497107254116, 0.4772727272727273, 'x[0] <= 6.2\\nsquared_error = 1735.341\\nsamples = 9\\nvalue = 2487.789'),\n",
              " Text(0.8753894080996885, 0.4318181818181818, 'x[6] <= 719.75\\nsquared_error = 37.822\\nsamples = 2\\nvalue = 2548.25'),\n",
              " Text(0.8736092567868269, 0.38636363636363635, 'squared_error = 0.0\\nsamples = 1\\nvalue = 2554.4'),\n",
              " Text(0.87716955941255, 0.38636363636363635, 'squared_error = 0.0\\nsamples = 1\\nvalue = 2542.1'),\n",
              " Text(0.8825100133511349, 0.4318181818181818, 'x[6] <= 520.2\\nsquared_error = 877.493\\nsamples = 7\\nvalue = 2470.514'),\n",
              " Text(0.8807298620382733, 0.38636363636363635, 'x[12] <= 43.95\\nsquared_error = 306.976\\nsamples = 6\\nvalue = 2480.633'),\n",
              " Text(0.87716955941255, 0.3409090909090909, 'x[0] <= 7.45\\nsquared_error = 54.08\\nsamples = 3\\nvalue = 2465.0'),\n",
              " Text(0.8753894080996885, 0.29545454545454547, 'squared_error = 0.0\\nsamples = 2\\nvalue = 2459.8'),\n",
              " Text(0.8789497107254116, 0.29545454545454547, 'squared_error = -0.0\\nsamples = 1\\nvalue = 2475.4'),\n",
              " Text(0.8842901646639965, 0.3409090909090909, 'x[4] <= 283.5\\nsquared_error = 71.069\\nsamples = 3\\nvalue = 2496.267'),\n",
              " Text(0.8825100133511349, 0.29545454545454547, 'squared_error = 0.0\\nsamples = 1\\nvalue = 2485.3'),\n",
              " Text(0.886070315976858, 0.29545454545454547, 'x[0] <= 17.9\\nsquared_error = 16.402\\nsamples = 2\\nvalue = 2501.75'),\n",
              " Text(0.8842901646639965, 0.25, 'squared_error = 0.0\\nsamples = 1\\nvalue = 2505.8'),\n",
              " Text(0.8878504672897196, 0.25, 'squared_error = 0.0\\nsamples = 1\\nvalue = 2497.7'),\n",
              " Text(0.8842901646639965, 0.38636363636363635, 'squared_error = 0.0\\nsamples = 1\\nvalue = 2409.8'),\n",
              " Text(0.8825100133511349, 0.5681818181818182, 'x[13] <= 320.7\\nsquared_error = 2182.402\\nsamples = 3\\nvalue = 2290.533'),\n",
              " Text(0.8807298620382733, 0.5227272727272727, 'squared_error = 0.0\\nsamples = 2\\nvalue = 2257.5'),\n",
              " Text(0.8842901646639965, 0.5227272727272727, 'squared_error = -0.0\\nsamples = 1\\nvalue = 2356.6'),\n",
              " Text(0.886070315976858, 0.6590909090909091, 'x[8] <= 310.95\\nsquared_error = 2710.709\\nsamples = 3\\nvalue = 2641.167'),\n",
              " Text(0.8842901646639965, 0.6136363636363636, 'squared_error = 0.0\\nsamples = 1\\nvalue = 2575.3'),\n",
              " Text(0.8878504672897196, 0.6136363636363636, 'x[13] <= 682.35\\nsquared_error = 812.25\\nsamples = 2\\nvalue = 2674.1'),\n",
              " Text(0.886070315976858, 0.5681818181818182, 'squared_error = 0.0\\nsamples = 1\\nvalue = 2702.6'),\n",
              " Text(0.8896306186025812, 0.5681818181818182, 'squared_error = 0.0\\nsamples = 1\\nvalue = 2645.6'),\n",
              " Text(0.89942145082332, 0.7045454545454546, 'x[5] <= 466.0\\nsquared_error = 39227.058\\nsamples = 9\\nvalue = 2671.444'),\n",
              " Text(0.8931909212283045, 0.6590909090909091, 'x[1] <= 17.0\\nsquared_error = 18271.632\\nsamples = 4\\nvalue = 2499.825'),\n",
              " Text(0.8914107699154428, 0.6136363636363636, 'squared_error = 0.0\\nsamples = 1\\nvalue = 2290.0'),\n",
              " Text(0.894971072541166, 0.6136363636363636, 'x[15] <= 294.65\\nsquared_error = 4794.829\\nsamples = 3\\nvalue = 2569.767'),\n",
              " Text(0.8931909212283045, 0.5681818181818182, 'squared_error = 0.0\\nsamples = 1\\nvalue = 2660.0'),\n",
              " Text(0.8967512238540276, 0.5681818181818182, 'x[12] <= 43.5\\nsquared_error = 1085.702\\nsamples = 2\\nvalue = 2524.65'),\n",
              " Text(0.894971072541166, 0.5227272727272727, 'squared_error = 0.0\\nsamples = 1\\nvalue = 2557.6'),\n",
              " Text(0.8985313751668892, 0.5227272727272727, 'squared_error = 0.0\\nsamples = 1\\nvalue = 2491.7'),\n",
              " Text(0.9056519804183356, 0.6590909090909091, 'x[9] <= 192.05\\nsquared_error = 13578.742\\nsamples = 5\\nvalue = 2808.74'),\n",
              " Text(0.9038718291054739, 0.6136363636363636, 'squared_error = 0.0\\nsamples = 1\\nvalue = 2999.2'),\n",
              " Text(0.9074321317311972, 0.6136363636363636, 'x[2] <= 40.7\\nsquared_error = 5637.487\\nsamples = 4\\nvalue = 2761.125'),\n",
              " Text(0.9038718291054739, 0.5681818181818182, 'x[12] <= 22.05\\nsquared_error = 2204.303\\nsamples = 2\\nvalue = 2694.45'),\n",
              " Text(0.9020916777926123, 0.5227272727272727, 'squared_error = 0.0\\nsamples = 1\\nvalue = 2741.4'),\n",
              " Text(0.9056519804183356, 0.5227272727272727, 'squared_error = 0.0\\nsamples = 1\\nvalue = 2647.5'),\n",
              " Text(0.9109924343569203, 0.5681818181818182, 'x[0] <= 15.65\\nsquared_error = 179.56\\nsamples = 2\\nvalue = 2827.8'),\n",
              " Text(0.9092122830440588, 0.5227272727272727, 'squared_error = 0.0\\nsamples = 1\\nvalue = 2814.4'),\n",
              " Text(0.9127725856697819, 0.5227272727272727, 'squared_error = -0.0\\nsamples = 1\\nvalue = 2841.2'),\n",
              " Text(0.9172229639519359, 0.7954545454545454, 'x[4] <= 299.05\\nsquared_error = 83187.837\\nsamples = 12\\nvalue = 2908.65'),\n",
              " Text(0.9109924343569203, 0.75, 'x[1] <= 44.95\\nsquared_error = 48699.132\\nsamples = 5\\nvalue = 2677.9'),\n",
              " Text(0.9092122830440588, 0.7045454545454546, 'squared_error = 0.0\\nsamples = 1\\nvalue = 3118.5'),\n",
              " Text(0.9127725856697819, 0.7045454545454546, 'x[8] <= 311.65\\nsquared_error = 208.803\\nsamples = 4\\nvalue = 2567.75'),\n",
              " Text(0.9109924343569203, 0.6590909090909091, 'squared_error = 0.0\\nsamples = 2\\nvalue = 2553.3'),\n",
              " Text(0.9145527369826435, 0.6590909090909091, 'squared_error = 0.0\\nsamples = 2\\nvalue = 2582.2'),\n",
              " Text(0.9234534935469515, 0.75, 'x[12] <= 200.65\\nsquared_error = 42623.979\\nsamples = 7\\nvalue = 3073.471'),\n",
              " Text(0.9216733422340899, 0.7045454545454546, 'x[5] <= 503.15\\nsquared_error = 6696.829\\nsamples = 6\\nvalue = 2995.067'),\n",
              " Text(0.9181130396083668, 0.6590909090909091, 'x[2] <= 187.95\\nsquared_error = 808.103\\nsamples = 4\\nvalue = 3049.45'),\n",
              " Text(0.9163328882955051, 0.6136363636363636, 'x[9] <= 234.15\\nsquared_error = 175.469\\nsamples = 3\\nvalue = 3034.433'),\n",
              " Text(0.9145527369826435, 0.5681818181818182, 'squared_error = 0.0\\nsamples = 2\\nvalue = 3043.8'),\n",
              " Text(0.9181130396083668, 0.5681818181818182, 'squared_error = 0.0\\nsamples = 1\\nvalue = 3015.7'),\n",
              " Text(0.9198931909212283, 0.6136363636363636, 'squared_error = 0.0\\nsamples = 1\\nvalue = 3094.5'),\n",
              " Text(0.9252336448598131, 0.6590909090909091, 'x[12] <= 62.45\\nsquared_error = 729.0\\nsamples = 2\\nvalue = 2886.3'),\n",
              " Text(0.9234534935469515, 0.6136363636363636, 'squared_error = 0.0\\nsamples = 1\\nvalue = 2913.3'),\n",
              " Text(0.9270137961726747, 0.6136363636363636, 'squared_error = 0.0\\nsamples = 1\\nvalue = 2859.3'),\n",
              " Text(0.9252336448598131, 0.7045454545454546, 'squared_error = -0.0\\nsamples = 1\\nvalue = 3543.9'),\n",
              " Text(0.965287049399199, 0.8409090909090909, 'x[8] <= 309.5\\nsquared_error = 145100.817\\nsamples = 27\\nvalue = 3440.644'),\n",
              " Text(0.9479305740987984, 0.7954545454545454, 'x[5] <= 881.1\\nsquared_error = 49169.502\\nsamples = 12\\nvalue = 3194.433'),\n",
              " Text(0.9403649310191367, 0.75, 'x[6] <= 1054.4\\nsquared_error = 21502.932\\nsamples = 8\\nvalue = 3073.362'),\n",
              " Text(0.9359145527369827, 0.7045454545454546, 'x[5] <= 678.65\\nsquared_error = 8193.246\\nsamples = 6\\nvalue = 3002.45'),\n",
              " Text(0.9323542501112595, 0.6590909090909091, 'x[1] <= 14.4\\nsquared_error = 2275.29\\nsamples = 2\\nvalue = 2882.8'),\n",
              " Text(0.9305740987983978, 0.6136363636363636, 'squared_error = 0.0\\nsamples = 1\\nvalue = 2835.1'),\n",
              " Text(0.9341344014241211, 0.6136363636363636, 'squared_error = -0.0\\nsamples = 1\\nvalue = 2930.5'),\n",
              " Text(0.9394748553627058, 0.6590909090909091, 'x[12] <= 21.45\\nsquared_error = 415.132\\nsamples = 4\\nvalue = 3062.275'),\n",
              " Text(0.9376947040498442, 0.6136363636363636, 'x[5] <= 803.65\\nsquared_error = 87.669\\nsamples = 3\\nvalue = 3073.067'),\n",
              " Text(0.9359145527369827, 0.5681818181818182, 'x[12] <= 5.65\\nsquared_error = 13.69\\nsamples = 2\\nvalue = 3066.8'),\n",
              " Text(0.9341344014241211, 0.5227272727272727, 'squared_error = 0.0\\nsamples = 1\\nvalue = 3070.5'),\n",
              " Text(0.9376947040498442, 0.5227272727272727, 'squared_error = -0.0\\nsamples = 1\\nvalue = 3063.1'),\n",
              " Text(0.9394748553627058, 0.5681818181818182, 'squared_error = -0.0\\nsamples = 1\\nvalue = 3085.6'),\n",
              " Text(0.9412550066755674, 0.6136363636363636, 'squared_error = 0.0\\nsamples = 1\\nvalue = 3029.9'),\n",
              " Text(0.9448153093012907, 0.7045454545454546, 'x[0] <= 3.65\\nsquared_error = 1089.0\\nsamples = 2\\nvalue = 3286.1'),\n",
              " Text(0.943035157988429, 0.6590909090909091, 'squared_error = 0.0\\nsamples = 1\\nvalue = 3319.1'),\n",
              " Text(0.9465954606141522, 0.6590909090909091, 'squared_error = 0.0\\nsamples = 1\\nvalue = 3253.1'),\n",
              " Text(0.9554962171784601, 0.75, 'x[6] <= 1104.25\\nsquared_error = 16553.762\\nsamples = 4\\nvalue = 3436.575'),\n",
              " Text(0.951935914552737, 0.7045454545454546, 'x[11] <= 20.0\\nsquared_error = 3300.502\\nsamples = 2\\nvalue = 3326.65'),\n",
              " Text(0.9501557632398754, 0.6590909090909091, 'squared_error = 0.0\\nsamples = 1\\nvalue = 3269.2'),\n",
              " Text(0.9537160658655985, 0.6590909090909091, 'squared_error = 0.0\\nsamples = 1\\nvalue = 3384.1'),\n",
              " Text(0.9590565198041834, 0.7045454545454546, 'x[8] <= 277.7\\nsquared_error = 5640.01\\nsamples = 2\\nvalue = 3546.5'),\n",
              " Text(0.9572763684913218, 0.6590909090909091, 'squared_error = 0.0\\nsamples = 1\\nvalue = 3621.6'),\n",
              " Text(0.960836671117045, 0.6590909090909091, 'squared_error = 0.0\\nsamples = 1\\nvalue = 3471.4'),\n",
              " Text(0.9826435246995995, 0.7954545454545454, 'x[5] <= 716.3\\nsquared_error = 134553.196\\nsamples = 15\\nvalue = 3637.613'),\n",
              " Text(0.9741878059635068, 0.75, 'x[10] <= 26.25\\nsquared_error = 23095.284\\nsamples = 10\\nvalue = 3413.34'),\n",
              " Text(0.9679572763684913, 0.7045454545454546, 'x[8] <= 466.5\\nsquared_error = 5720.589\\nsamples = 6\\nvalue = 3311.45'),\n",
              " Text(0.9643969737427681, 0.6590909090909091, 'x[13] <= 652.05\\nsquared_error = 619.415\\nsamples = 4\\nvalue = 3261.7'),\n",
              " Text(0.9626168224299065, 0.6136363636363636, 'x[15] <= 156.9\\nsquared_error = 4.109\\nsamples = 3\\nvalue = 3276.033'),\n",
              " Text(0.960836671117045, 0.5681818181818182, 'squared_error = 0.0\\nsamples = 1\\nvalue = 3278.9'),\n",
              " Text(0.9643969737427681, 0.5681818181818182, 'squared_error = -0.0\\nsamples = 2\\nvalue = 3274.6'),\n",
              " Text(0.9661771250556297, 0.6136363636363636, 'squared_error = 0.0\\nsamples = 1\\nvalue = 3218.7'),\n",
              " Text(0.9715175789942145, 0.6590909090909091, 'x[14] <= 2491.65\\nsquared_error = 1072.562\\nsamples = 2\\nvalue = 3410.95'),\n",
              " Text(0.969737427681353, 0.6136363636363636, 'squared_error = 0.0\\nsamples = 1\\nvalue = 3378.2'),\n",
              " Text(0.9732977303070761, 0.6136363636363636, 'squared_error = 0.0\\nsamples = 1\\nvalue = 3443.7'),\n",
              " Text(0.9804183355585224, 0.7045454545454546, 'x[5] <= 658.4\\nsquared_error = 10226.432\\nsamples = 4\\nvalue = 3566.175'),\n",
              " Text(0.9786381842456608, 0.6590909090909091, 'x[8] <= 418.5\\nsquared_error = 1273.509\\nsamples = 3\\nvalue = 3621.767'),\n",
              " Text(0.9768580329327993, 0.6136363636363636, 'squared_error = 0.0\\nsamples = 1\\nvalue = 3571.5'),\n",
              " Text(0.9804183355585224, 0.6136363636363636, 'x[0] <= 16.45\\nsquared_error = 15.21\\nsamples = 2\\nvalue = 3646.9'),\n",
              " Text(0.9786381842456608, 0.5681818181818182, 'squared_error = 0.0\\nsamples = 1\\nvalue = 3650.8'),\n",
              " Text(0.9821984868713841, 0.5681818181818182, 'squared_error = 0.0\\nsamples = 1\\nvalue = 3643.0'),\n",
              " Text(0.9821984868713841, 0.6590909090909091, 'squared_error = 0.0\\nsamples = 1\\nvalue = 3399.4'),\n",
              " Text(0.991099243435692, 0.75, 'x[11] <= 17.2\\nsquared_error = 55677.85\\nsamples = 5\\nvalue = 4086.16'),\n",
              " Text(0.9875389408099688, 0.7045454545454546, 'x[1] <= 14.3\\nsquared_error = 5155.24\\nsamples = 2\\nvalue = 3844.0'),\n",
              " Text(0.9857587894971073, 0.6590909090909091, 'squared_error = 0.0\\nsamples = 1\\nvalue = 3915.8'),\n",
              " Text(0.9893190921228304, 0.6590909090909091, 'squared_error = -0.0\\nsamples = 1\\nvalue = 3772.2'),\n",
              " Text(0.9946595460614153, 0.7045454545454546, 'x[9] <= 215.35\\nsquared_error = 24202.407\\nsamples = 3\\nvalue = 4247.6'),\n",
              " Text(0.9928793947485536, 0.6590909090909091, 'squared_error = 0.0\\nsamples = 1\\nvalue = 4034.7'),\n",
              " Text(0.9964396973742768, 0.6590909090909091, 'x[6] <= 1012.3\\nsquared_error = 2308.802\\nsamples = 2\\nvalue = 4354.05'),\n",
              " Text(0.9946595460614153, 0.6136363636363636, 'squared_error = 0.0\\nsamples = 1\\nvalue = 4402.1'),\n",
              " Text(0.9982198486871384, 0.6136363636363636, 'squared_error = 0.0\\nsamples = 1\\nvalue = 4306.0'),\n",
              " Text(0.9706275033377837, 0.8863636363636364, 'x[2] <= 177.1\\nsquared_error = 282598.56\\nsamples = 2\\nvalue = 6697.7'),\n",
              " Text(0.9688473520249221, 0.8409090909090909, 'squared_error = 0.0\\nsamples = 1\\nvalue = 6166.1'),\n",
              " Text(0.9724076546506453, 0.8409090909090909, 'squared_error = -0.0\\nsamples = 1\\nvalue = 7229.3')]"
            ]
          },
          "metadata": {},
          "execution_count": 29
        },
        {
          "output_type": "display_data",
          "data": {
            "text/plain": [
              "<Figure size 640x480 with 1 Axes>"
            ],
            "image/png": "[encoded data removed]"
          },
          "metadata": {}
        }
      ]
    },
    {
      "cell_type": "code",
      "source": [
        "print(yp)"
      ],
      "metadata": {
        "colab": {
          "base_uri": "https://localhost:8080/"
        },
        "id": "Xs_dpWT4fvhL",
        "outputId": "285d4672-498e-49b6-fb0b-f0b11b1d09ce"
      },
      "execution_count": null,
      "outputs": [
        {
          "output_type": "stream",
          "name": "stdout",
          "text": [
            "[1146.8 1180.6 1304.7 1083.1 2575.3  779.3  979.4 1112.5  554.5 1121.3\n",
            "  959.3 3915.8 1160.1  268.6 2841.2  394.1 2814.4 2150.9 1095.9  624.1\n",
            " 2409.8 1997.1 1127.  2859.3 1293.1 3443.7  887.4  943.2 1305.6 1600.\n",
            " 3094.5 1003.2  902.1  415.6  747.1  554.5 1341.   820.1  554.5 3218.7\n",
            "  829.6 2557.6  820.6 1336.5  509.1 1533.5 6166.1  975.4  870.  1127.\n",
            " 2553.3  641.2 1090.7  721.7 1385.  1977.5 1544.4  731.1  763.4 2999.2\n",
            "  959.3  747.1 1336.5  394.1  890.7 2221.5 1197.4  779.3 1293.1  921.2\n",
            "  975.4  747.1 1472.   639.7  415.6  618.2 2557.6 1977.5  820.1 2150.9\n",
            " 2150.9  820.1 1139.6 2150.9 2930.5  554.5 1146.8 1397.  1148.6 1191.8\n",
            " 2374.1  830.4 1743.5  878.9  885.9 2168.6  933.1  399.5  721.7 1421.3\n",
            " 1448.3  887.4 1191.8 1074.8  805.9  820.1  975.4  415.6 1152.6 1196.\n",
            " 2814.4 1003.2  943.2  274.   816.3 1292.7 1116.2  268.6 1041.4 3399.4\n",
            "  975.4 1336.5 1977.5 1338.3 1660.7 1140.4  752.  2582.2 1173.3]\n"
          ]
        }
      ]
    },
    {
      "cell_type": "code",
      "source": [
        "print(mean_squared_error(y_test,yp))"
      ],
      "metadata": {
        "colab": {
          "base_uri": "https://localhost:8080/"
        },
        "id": "v1lMth2bfvex",
        "outputId": "dd44bd12-85a6-4a9a-f9fc-eb413d3399b6"
      },
      "execution_count": null,
      "outputs": [
        {
          "output_type": "stream",
          "name": "stdout",
          "text": [
            "25071.687209302327\n"
          ]
        }
      ]
    },
    {
      "cell_type": "code",
      "source": [
        "import pandas as pd\n",
        "from sklearn.svm import SVR\n",
        "from sklearn.model_selection import train_test_split\n",
        "from sklearn.metrics import accuracy_score"
      ],
      "metadata": {
        "id": "6qDEBdlEfvcB"
      },
      "execution_count": null,
      "outputs": []
    },
    {
      "cell_type": "code",
      "source": [
        "model = SVR(kernel='linear')"
      ],
      "metadata": {
        "id": "GJJdgDqDfvZU"
      },
      "execution_count": null,
      "outputs": []
    },
    {
      "cell_type": "code",
      "source": [
        "model.fit(x_train,y_train)\n"
      ],
      "metadata": {
        "colab": {
          "base_uri": "https://localhost:8080/",
          "height": 74
        },
        "id": "y0YV7TpZgCqB",
        "outputId": "6903f771-c7ae-40d0-b0cf-860167865f60"
      },
      "execution_count": null,
      "outputs": [
        {
          "output_type": "execute_result",
          "data": {
            "text/plain": [
              "SVR(kernel='linear')"
            ],
            "text/html": [
              "<style>#sk-container-id-2 {color: black;background-color: white;}#sk-container-id-2 pre{padding: 0;}#sk-container-id-2 div.sk-toggleable {background-color: white;}#sk-container-id-2 label.sk-toggleable__label {cursor: pointer;display: block;width: 100%;margin-bottom: 0;padding: 0.3em;box-sizing: border-box;text-align: center;}#sk-container-id-2 label.sk-toggleable__label-arrow:before {content: \"▸\";float: left;margin-right: 0.25em;color: #696969;}#sk-container-id-2 label.sk-toggleable__label-arrow:hover:before {color: black;}#sk-container-id-2 div.sk-estimator:hover label.sk-toggleable__label-arrow:before {color: black;}#sk-container-id-2 div.sk-toggleable__content {max-height: 0;max-width: 0;overflow: hidden;text-align: left;background-color: #f0f8ff;}#sk-container-id-2 div.sk-toggleable__content pre {margin: 0.2em;color: black;border-radius: 0.25em;background-color: #f0f8ff;}#sk-container-id-2 input.sk-toggleable__control:checked~div.sk-toggleable__content {max-height: 200px;max-width: 100%;overflow: auto;}#sk-container-id-2 input.sk-toggleable__control:checked~label.sk-toggleable__label-arrow:before {content: \"▾\";}#sk-container-id-2 div.sk-estimator input.sk-toggleable__control:checked~label.sk-toggleable__label {background-color: #d4ebff;}#sk-container-id-2 div.sk-label input.sk-toggleable__control:checked~label.sk-toggleable__label {background-color: #d4ebff;}#sk-container-id-2 input.sk-hidden--visually {border: 0;clip: rect(1px 1px 1px 1px);clip: rect(1px, 1px, 1px, 1px);height: 1px;margin: -1px;overflow: hidden;padding: 0;position: absolute;width: 1px;}#sk-container-id-2 div.sk-estimator {font-family: monospace;background-color: #f0f8ff;border: 1px dotted black;border-radius: 0.25em;box-sizing: border-box;margin-bottom: 0.5em;}#sk-container-id-2 div.sk-estimator:hover {background-color: #d4ebff;}#sk-container-id-2 div.sk-parallel-item::after {content: \"\";width: 100%;border-bottom: 1px solid gray;flex-grow: 1;}#sk-container-id-2 div.sk-label:hover label.sk-toggleable__label {background-color: #d4ebff;}#sk-container-id-2 div.sk-serial::before {content: \"\";position: absolute;border-left: 1px solid gray;box-sizing: border-box;top: 0;bottom: 0;left: 50%;z-index: 0;}#sk-container-id-2 div.sk-serial {display: flex;flex-direction: column;align-items: center;background-color: white;padding-right: 0.2em;padding-left: 0.2em;position: relative;}#sk-container-id-2 div.sk-item {position: relative;z-index: 1;}#sk-container-id-2 div.sk-parallel {display: flex;align-items: stretch;justify-content: center;background-color: white;position: relative;}#sk-container-id-2 div.sk-item::before, #sk-container-id-2 div.sk-parallel-item::before {content: \"\";position: absolute;border-left: 1px solid gray;box-sizing: border-box;top: 0;bottom: 0;left: 50%;z-index: -1;}#sk-container-id-2 div.sk-parallel-item {display: flex;flex-direction: column;z-index: 1;position: relative;background-color: white;}#sk-container-id-2 div.sk-parallel-item:first-child::after {align-self: flex-end;width: 50%;}#sk-container-id-2 div.sk-parallel-item:last-child::after {align-self: flex-start;width: 50%;}#sk-container-id-2 div.sk-parallel-item:only-child::after {width: 0;}#sk-container-id-2 div.sk-dashed-wrapped {border: 1px dashed gray;margin: 0 0.4em 0.5em 0.4em;box-sizing: border-box;padding-bottom: 0.4em;background-color: white;}#sk-container-id-2 div.sk-label label {font-family: monospace;font-weight: bold;display: inline-block;line-height: 1.2em;}#sk-container-id-2 div.sk-label-container {text-align: center;}#sk-container-id-2 div.sk-container {/* jupyter's `normalize.less` sets `[hidden] { display: none; }` but bootstrap.min.css set `[hidden] { display: none !important; }` so we also need the `!important` here to be able to override the default hidden behavior on the sphinx rendered scikit-learn.org. See: https://github.com/scikit-learn/scikit-learn/issues/21755 */display: inline-block !important;position: relative;}#sk-container-id-2 div.sk-text-repr-fallback {display: none;}</style><div id=\"sk-container-id-2\" class=\"sk-top-container\"><div class=\"sk-text-repr-fallback\"><pre>SVR(kernel=&#x27;linear&#x27;)</pre><b>In a Jupyter environment, please rerun this cell to show the HTML representation or trust the notebook. <br />On GitHub, the HTML representation is unable to render, please try loading this page with nbviewer.org.</b></div><div class=\"sk-container\" hidden><div class=\"sk-item\"><div class=\"sk-estimator sk-toggleable\"><input class=\"sk-toggleable__control sk-hidden--visually\" id=\"sk-estimator-id-2\" type=\"checkbox\" checked><label for=\"sk-estimator-id-2\" class=\"sk-toggleable__label sk-toggleable__label-arrow\">SVR</label><div class=\"sk-toggleable__content\"><pre>SVR(kernel=&#x27;linear&#x27;)</pre></div></div></div></div></div>"
            ]
          },
          "metadata": {},
          "execution_count": 34
        }
      ]
    },
    {
      "cell_type": "code",
      "source": [
        "y_pred=model.predict(x_test)\n"
      ],
      "metadata": {
        "id": "f10hsaEJgCm5"
      },
      "execution_count": null,
      "outputs": []
    },
    {
      "cell_type": "code",
      "source": [
        "mae = mean_absolute_error(y_test, y_pred)\n",
        "print(\"Mean Absolute Error:\", mae)"
      ],
      "metadata": {
        "colab": {
          "base_uri": "https://localhost:8080/"
        },
        "id": "_nnzJ6jUgCki",
        "outputId": "51ecb170-7383-4764-8c64-773b7cf76d95"
      },
      "execution_count": null,
      "outputs": [
        {
          "output_type": "stream",
          "name": "stdout",
          "text": [
            "Mean Absolute Error: 0.04753588620007877\n"
          ]
        }
      ]
    },
    {
      "cell_type": "code",
      "source": [
        "mse = mean_squared_error(y_test, y_pred)\n",
        "print(\"Mean Squared Error:\", mse)"
      ],
      "metadata": {
        "colab": {
          "base_uri": "https://localhost:8080/"
        },
        "id": "iQCDOt2cgCiI",
        "outputId": "845f3150-aa0f-49a4-9180-6b2a96300759"
      },
      "execution_count": null,
      "outputs": [
        {
          "output_type": "stream",
          "name": "stdout",
          "text": [
            "Mean Squared Error: 0.003450724484773055\n"
          ]
        }
      ]
    },
    {
      "cell_type": "code",
      "source": [
        "from sklearn.metrics import mean_squared_error\n",
        "print(mean_squared_error(yp,y_test))"
      ],
      "metadata": {
        "id": "-2pKcYMEgCfv"
      },
      "execution_count": null,
      "outputs": []
    },
    {
      "cell_type": "code",
      "source": [
        "from sklearn.metrics import mean_absolute_error\n",
        "print(mean_absolute_error(yp,y_test))"
      ],
      "metadata": {
        "colab": {
          "base_uri": "https://localhost:8080/"
        },
        "id": "lp5fhBICgCdW",
        "outputId": "f62c538e-04fd-4e88-debf-1792fb959f84"
      },
      "execution_count": null,
      "outputs": [
        {
          "output_type": "stream",
          "name": "stdout",
          "text": [
            "84.74496124031006\n"
          ]
        }
      ]
    },
    {
      "cell_type": "code",
      "source": [
        "import pandas as pd\n",
        "from sklearn.neighbors import KNeighborsRegressor\n",
        "from sklearn.model_selection import train_test_split\n",
        "from sklearn.metrics import mean_absolute_error"
      ],
      "metadata": {
        "id": "XhCQljD0gCa1"
      },
      "execution_count": null,
      "outputs": []
    },
    {
      "cell_type": "code",
      "source": [
        "knn = KNeighborsRegressor(n_neighbors=3)"
      ],
      "metadata": {
        "id": "wmTWA3QXgCYl"
      },
      "execution_count": null,
      "outputs": []
    },
    {
      "cell_type": "code",
      "source": [
        "knn.fit(x_train, y_train)"
      ],
      "metadata": {
        "colab": {
          "base_uri": "https://localhost:8080/",
          "height": 74
        },
        "id": "LjKtRUgogT-S",
        "outputId": "e3ba2ad9-be6e-4655-eabf-bdd44dc94fba"
      },
      "execution_count": null,
      "outputs": [
        {
          "output_type": "execute_result",
          "data": {
            "text/plain": [
              "KNeighborsRegressor(n_neighbors=3)"
            ],
            "text/html": [
              "<style>#sk-container-id-3 {color: black;background-color: white;}#sk-container-id-3 pre{padding: 0;}#sk-container-id-3 div.sk-toggleable {background-color: white;}#sk-container-id-3 label.sk-toggleable__label {cursor: pointer;display: block;width: 100%;margin-bottom: 0;padding: 0.3em;box-sizing: border-box;text-align: center;}#sk-container-id-3 label.sk-toggleable__label-arrow:before {content: \"▸\";float: left;margin-right: 0.25em;color: #696969;}#sk-container-id-3 label.sk-toggleable__label-arrow:hover:before {color: black;}#sk-container-id-3 div.sk-estimator:hover label.sk-toggleable__label-arrow:before {color: black;}#sk-container-id-3 div.sk-toggleable__content {max-height: 0;max-width: 0;overflow: hidden;text-align: left;background-color: #f0f8ff;}#sk-container-id-3 div.sk-toggleable__content pre {margin: 0.2em;color: black;border-radius: 0.25em;background-color: #f0f8ff;}#sk-container-id-3 input.sk-toggleable__control:checked~div.sk-toggleable__content {max-height: 200px;max-width: 100%;overflow: auto;}#sk-container-id-3 input.sk-toggleable__control:checked~label.sk-toggleable__label-arrow:before {content: \"▾\";}#sk-container-id-3 div.sk-estimator input.sk-toggleable__control:checked~label.sk-toggleable__label {background-color: #d4ebff;}#sk-container-id-3 div.sk-label input.sk-toggleable__control:checked~label.sk-toggleable__label {background-color: #d4ebff;}#sk-container-id-3 input.sk-hidden--visually {border: 0;clip: rect(1px 1px 1px 1px);clip: rect(1px, 1px, 1px, 1px);height: 1px;margin: -1px;overflow: hidden;padding: 0;position: absolute;width: 1px;}#sk-container-id-3 div.sk-estimator {font-family: monospace;background-color: #f0f8ff;border: 1px dotted black;border-radius: 0.25em;box-sizing: border-box;margin-bottom: 0.5em;}#sk-container-id-3 div.sk-estimator:hover {background-color: #d4ebff;}#sk-container-id-3 div.sk-parallel-item::after {content: \"\";width: 100%;border-bottom: 1px solid gray;flex-grow: 1;}#sk-container-id-3 div.sk-label:hover label.sk-toggleable__label {background-color: #d4ebff;}#sk-container-id-3 div.sk-serial::before {content: \"\";position: absolute;border-left: 1px solid gray;box-sizing: border-box;top: 0;bottom: 0;left: 50%;z-index: 0;}#sk-container-id-3 div.sk-serial {display: flex;flex-direction: column;align-items: center;background-color: white;padding-right: 0.2em;padding-left: 0.2em;position: relative;}#sk-container-id-3 div.sk-item {position: relative;z-index: 1;}#sk-container-id-3 div.sk-parallel {display: flex;align-items: stretch;justify-content: center;background-color: white;position: relative;}#sk-container-id-3 div.sk-item::before, #sk-container-id-3 div.sk-parallel-item::before {content: \"\";position: absolute;border-left: 1px solid gray;box-sizing: border-box;top: 0;bottom: 0;left: 50%;z-index: -1;}#sk-container-id-3 div.sk-parallel-item {display: flex;flex-direction: column;z-index: 1;position: relative;background-color: white;}#sk-container-id-3 div.sk-parallel-item:first-child::after {align-self: flex-end;width: 50%;}#sk-container-id-3 div.sk-parallel-item:last-child::after {align-self: flex-start;width: 50%;}#sk-container-id-3 div.sk-parallel-item:only-child::after {width: 0;}#sk-container-id-3 div.sk-dashed-wrapped {border: 1px dashed gray;margin: 0 0.4em 0.5em 0.4em;box-sizing: border-box;padding-bottom: 0.4em;background-color: white;}#sk-container-id-3 div.sk-label label {font-family: monospace;font-weight: bold;display: inline-block;line-height: 1.2em;}#sk-container-id-3 div.sk-label-container {text-align: center;}#sk-container-id-3 div.sk-container {/* jupyter's `normalize.less` sets `[hidden] { display: none; }` but bootstrap.min.css set `[hidden] { display: none !important; }` so we also need the `!important` here to be able to override the default hidden behavior on the sphinx rendered scikit-learn.org. See: https://github.com/scikit-learn/scikit-learn/issues/21755 */display: inline-block !important;position: relative;}#sk-container-id-3 div.sk-text-repr-fallback {display: none;}</style><div id=\"sk-container-id-3\" class=\"sk-top-container\"><div class=\"sk-text-repr-fallback\"><pre>KNeighborsRegressor(n_neighbors=3)</pre><b>In a Jupyter environment, please rerun this cell to show the HTML representation or trust the notebook. <br />On GitHub, the HTML representation is unable to render, please try loading this page with nbviewer.org.</b></div><div class=\"sk-container\" hidden><div class=\"sk-item\"><div class=\"sk-estimator sk-toggleable\"><input class=\"sk-toggleable__control sk-hidden--visually\" id=\"sk-estimator-id-3\" type=\"checkbox\" checked><label for=\"sk-estimator-id-3\" class=\"sk-toggleable__label sk-toggleable__label-arrow\">KNeighborsRegressor</label><div class=\"sk-toggleable__content\"><pre>KNeighborsRegressor(n_neighbors=3)</pre></div></div></div></div></div>"
            ]
          },
          "metadata": {},
          "execution_count": 42
        }
      ]
    },
    {
      "cell_type": "code",
      "source": [
        "y_pred = knn.predict(x_test)\n"
      ],
      "metadata": {
        "id": "TmYbvImLgT65"
      },
      "execution_count": null,
      "outputs": []
    },
    {
      "cell_type": "code",
      "source": [
        "mae = mean_absolute_error(y_test, y_pred)\n",
        "print(\"Mean Absolute Error:\", mae)"
      ],
      "metadata": {
        "colab": {
          "base_uri": "https://localhost:8080/"
        },
        "id": "kgbRJFkbgT3z",
        "outputId": "9f1dc20c-b875-4f41-c811-fda0591a29d5"
      },
      "execution_count": null,
      "outputs": [
        {
          "output_type": "stream",
          "name": "stdout",
          "text": [
            "Mean Absolute Error: 50.94470284237724\n"
          ]
        }
      ]
    },
    {
      "cell_type": "code",
      "source": [
        "mse = mean_squared_error(y_test, y_pred)\n",
        "print(\"Mean Squared Error:\", mse)"
      ],
      "metadata": {
        "colab": {
          "base_uri": "https://localhost:8080/"
        },
        "id": "84G7yfcMgT1O",
        "outputId": "71a375e1-02f3-4e08-e83a-82a23bae153e"
      },
      "execution_count": null,
      "outputs": [
        {
          "output_type": "stream",
          "name": "stdout",
          "text": [
            "Mean Squared Error: 7804.861584840647\n"
          ]
        }
      ]
    },
    {
      "cell_type": "code",
      "source": [
        "from sklearn.metrics import mean_squared_error\n",
        "print(mean_squared_error(yp,y_test))"
      ],
      "metadata": {
        "colab": {
          "base_uri": "https://localhost:8080/"
        },
        "id": "wnypBiWhgTyr",
        "outputId": "7377c510-edd3-4fb2-cb7f-319beee7dcb3"
      },
      "execution_count": null,
      "outputs": [
        {
          "output_type": "stream",
          "name": "stdout",
          "text": [
            "25071.687209302327\n"
          ]
        }
      ]
    },
    {
      "cell_type": "code",
      "source": [
        "from sklearn.metrics import mean_absolute_error\n",
        "print(mean_absolute_error(yp,y_test))"
      ],
      "metadata": {
        "colab": {
          "base_uri": "https://localhost:8080/"
        },
        "id": "VgVRS4SPgTwL",
        "outputId": "40ba9ef5-1b1d-4c06-81b7-e5d694e41a1b"
      },
      "execution_count": null,
      "outputs": [
        {
          "output_type": "stream",
          "name": "stdout",
          "text": [
            "84.74496124031006\n"
          ]
        }
      ]
    },
    {
      "cell_type": "code",
      "source": [
        "# Import necessary libraries\n",
        "import pandas as pd\n",
        "from sklearn.model_selection import train_test_split\n",
        "from sklearn.ensemble import RandomForestRegressor\n",
        "from sklearn.metrics import mean_squared_error, r2_score\n",
        "\n",
        "# Load your rainfall dataset (replace with your actual data)\n",
        "# For example, you can use the Austin, Texas weather dataset from Kaggle\n",
        "# Read the data into a Pandas DataFrame\n",
        "data = pd.read_csv('district.csv')\n",
        "\n",
        "print(f\"Random Forest Model Performance:\")\n",
        "print(f\"MSE: {mse:.2f}\")\n",
        "print(f\"MAE: {mae:.2f}\")"
      ],
      "metadata": {
        "colab": {
          "base_uri": "https://localhost:8080/"
        },
        "id": "hJxXc0Nighm-",
        "outputId": "4be92370-1982-4654-fa63-4c74b7a8e790"
      },
      "execution_count": null,
      "outputs": [
        {
          "output_type": "stream",
          "name": "stdout",
          "text": [
            "Random Forest Model Performance:\n",
            "MSE: 7804.86\n",
            "MAE: 50.94\n"
          ]
        }
      ]
    }
  ]
}